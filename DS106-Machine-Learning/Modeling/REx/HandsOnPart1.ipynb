{
 "cells": [
  {
   "cell_type": "markdown",
   "id": "dacede20",
   "metadata": {},
   "source": [
    "# Importing the requierd packages"
   ]
  },
  {
   "cell_type": "code",
   "execution_count": 1,
   "id": "420a8901",
   "metadata": {},
   "outputs": [],
   "source": [
    "import pandas as pd\n",
    "import numpy as np\n",
    "import matplotlib.pyplot as plt\n",
    "from pylab import *\n",
    "import seaborn as sns\n",
    "%matplotlib inline\n",
    "import  statsmodels.api as sm\n",
    "import statsmodels.stats.api as sms\n",
    "from scipy.stats import boxcox"
   ]
  },
  {
   "cell_type": "code",
   "execution_count": 2,
   "id": "b440df1f",
   "metadata": {},
   "outputs": [
    {
     "data": {
      "text/html": [
       "<div>\n",
       "<style scoped>\n",
       "    .dataframe tbody tr th:only-of-type {\n",
       "        vertical-align: middle;\n",
       "    }\n",
       "\n",
       "    .dataframe tbody tr th {\n",
       "        vertical-align: top;\n",
       "    }\n",
       "\n",
       "    .dataframe thead th {\n",
       "        text-align: right;\n",
       "    }\n",
       "</style>\n",
       "<table border=\"1\" class=\"dataframe\">\n",
       "  <thead>\n",
       "    <tr style=\"text-align: right;\">\n",
       "      <th></th>\n",
       "      <th>AM_Height</th>\n",
       "      <th>PM_Height</th>\n",
       "    </tr>\n",
       "  </thead>\n",
       "  <tbody>\n",
       "    <tr>\n",
       "      <th>0</th>\n",
       "      <td>1728.75</td>\n",
       "      <td>1720.25</td>\n",
       "    </tr>\n",
       "    <tr>\n",
       "      <th>1</th>\n",
       "      <td>1538.25</td>\n",
       "      <td>1528.50</td>\n",
       "    </tr>\n",
       "    <tr>\n",
       "      <th>2</th>\n",
       "      <td>1462.25</td>\n",
       "      <td>1452.50</td>\n",
       "    </tr>\n",
       "    <tr>\n",
       "      <th>3</th>\n",
       "      <td>1782.50</td>\n",
       "      <td>1776.50</td>\n",
       "    </tr>\n",
       "    <tr>\n",
       "      <th>4</th>\n",
       "      <td>1671.00</td>\n",
       "      <td>1667.00</td>\n",
       "    </tr>\n",
       "    <tr>\n",
       "      <th>5</th>\n",
       "      <td>1581.75</td>\n",
       "      <td>1571.00</td>\n",
       "    </tr>\n",
       "    <tr>\n",
       "      <th>6</th>\n",
       "      <td>1673.75</td>\n",
       "      <td>1664.50</td>\n",
       "    </tr>\n",
       "    <tr>\n",
       "      <th>7</th>\n",
       "      <td>1721.75</td>\n",
       "      <td>1708.50</td>\n",
       "    </tr>\n",
       "    <tr>\n",
       "      <th>8</th>\n",
       "      <td>1646.50</td>\n",
       "      <td>1636.00</td>\n",
       "    </tr>\n",
       "    <tr>\n",
       "      <th>9</th>\n",
       "      <td>1793.75</td>\n",
       "      <td>1781.75</td>\n",
       "    </tr>\n",
       "    <tr>\n",
       "      <th>10</th>\n",
       "      <td>1825.25</td>\n",
       "      <td>1814.00</td>\n",
       "    </tr>\n",
       "    <tr>\n",
       "      <th>11</th>\n",
       "      <td>1801.50</td>\n",
       "      <td>1787.00</td>\n",
       "    </tr>\n",
       "    <tr>\n",
       "      <th>12</th>\n",
       "      <td>1742.50</td>\n",
       "      <td>1729.75</td>\n",
       "    </tr>\n",
       "    <tr>\n",
       "      <th>13</th>\n",
       "      <td>1720.50</td>\n",
       "      <td>1711.50</td>\n",
       "    </tr>\n",
       "    <tr>\n",
       "      <th>14</th>\n",
       "      <td>1728.25</td>\n",
       "      <td>1717.25</td>\n",
       "    </tr>\n",
       "    <tr>\n",
       "      <th>15</th>\n",
       "      <td>1753.75</td>\n",
       "      <td>1742.75</td>\n",
       "    </tr>\n",
       "    <tr>\n",
       "      <th>16</th>\n",
       "      <td>1725.50</td>\n",
       "      <td>1716.75</td>\n",
       "    </tr>\n",
       "    <tr>\n",
       "      <th>17</th>\n",
       "      <td>1598.00</td>\n",
       "      <td>1592.25</td>\n",
       "    </tr>\n",
       "    <tr>\n",
       "      <th>18</th>\n",
       "      <td>1756.25</td>\n",
       "      <td>1747.00</td>\n",
       "    </tr>\n",
       "    <tr>\n",
       "      <th>19</th>\n",
       "      <td>1674.00</td>\n",
       "      <td>1662.50</td>\n",
       "    </tr>\n",
       "    <tr>\n",
       "      <th>20</th>\n",
       "      <td>1688.75</td>\n",
       "      <td>1677.00</td>\n",
       "    </tr>\n",
       "    <tr>\n",
       "      <th>21</th>\n",
       "      <td>1688.75</td>\n",
       "      <td>1681.00</td>\n",
       "    </tr>\n",
       "    <tr>\n",
       "      <th>22</th>\n",
       "      <td>1620.75</td>\n",
       "      <td>1613.50</td>\n",
       "    </tr>\n",
       "    <tr>\n",
       "      <th>23</th>\n",
       "      <td>1679.00</td>\n",
       "      <td>1668.25</td>\n",
       "    </tr>\n",
       "    <tr>\n",
       "      <th>24</th>\n",
       "      <td>1557.25</td>\n",
       "      <td>1550.25</td>\n",
       "    </tr>\n",
       "    <tr>\n",
       "      <th>25</th>\n",
       "      <td>1704.50</td>\n",
       "      <td>1696.50</td>\n",
       "    </tr>\n",
       "    <tr>\n",
       "      <th>26</th>\n",
       "      <td>1632.75</td>\n",
       "      <td>1619.00</td>\n",
       "    </tr>\n",
       "    <tr>\n",
       "      <th>27</th>\n",
       "      <td>1587.00</td>\n",
       "      <td>1581.50</td>\n",
       "    </tr>\n",
       "    <tr>\n",
       "      <th>28</th>\n",
       "      <td>1598.75</td>\n",
       "      <td>1590.50</td>\n",
       "    </tr>\n",
       "    <tr>\n",
       "      <th>29</th>\n",
       "      <td>1592.25</td>\n",
       "      <td>1583.50</td>\n",
       "    </tr>\n",
       "    <tr>\n",
       "      <th>30</th>\n",
       "      <td>1719.50</td>\n",
       "      <td>1709.25</td>\n",
       "    </tr>\n",
       "    <tr>\n",
       "      <th>31</th>\n",
       "      <td>1807.50</td>\n",
       "      <td>1795.00</td>\n",
       "    </tr>\n",
       "    <tr>\n",
       "      <th>32</th>\n",
       "      <td>1624.00</td>\n",
       "      <td>1619.50</td>\n",
       "    </tr>\n",
       "    <tr>\n",
       "      <th>33</th>\n",
       "      <td>1705.25</td>\n",
       "      <td>1694.50</td>\n",
       "    </tr>\n",
       "    <tr>\n",
       "      <th>34</th>\n",
       "      <td>1692.75</td>\n",
       "      <td>1686.00</td>\n",
       "    </tr>\n",
       "    <tr>\n",
       "      <th>35</th>\n",
       "      <td>1795.25</td>\n",
       "      <td>1782.00</td>\n",
       "    </tr>\n",
       "    <tr>\n",
       "      <th>36</th>\n",
       "      <td>1643.50</td>\n",
       "      <td>1628.75</td>\n",
       "    </tr>\n",
       "    <tr>\n",
       "      <th>37</th>\n",
       "      <td>1677.25</td>\n",
       "      <td>1668.25</td>\n",
       "    </tr>\n",
       "    <tr>\n",
       "      <th>38</th>\n",
       "      <td>1647.75</td>\n",
       "      <td>1641.50</td>\n",
       "    </tr>\n",
       "    <tr>\n",
       "      <th>39</th>\n",
       "      <td>1620.00</td>\n",
       "      <td>1608.25</td>\n",
       "    </tr>\n",
       "    <tr>\n",
       "      <th>40</th>\n",
       "      <td>1727.50</td>\n",
       "      <td>1721.25</td>\n",
       "    </tr>\n",
       "  </tbody>\n",
       "</table>\n",
       "</div>"
      ],
      "text/plain": [
       "    AM_Height  PM_Height\n",
       "0     1728.75    1720.25\n",
       "1     1538.25    1528.50\n",
       "2     1462.25    1452.50\n",
       "3     1782.50    1776.50\n",
       "4     1671.00    1667.00\n",
       "5     1581.75    1571.00\n",
       "6     1673.75    1664.50\n",
       "7     1721.75    1708.50\n",
       "8     1646.50    1636.00\n",
       "9     1793.75    1781.75\n",
       "10    1825.25    1814.00\n",
       "11    1801.50    1787.00\n",
       "12    1742.50    1729.75\n",
       "13    1720.50    1711.50\n",
       "14    1728.25    1717.25\n",
       "15    1753.75    1742.75\n",
       "16    1725.50    1716.75\n",
       "17    1598.00    1592.25\n",
       "18    1756.25    1747.00\n",
       "19    1674.00    1662.50\n",
       "20    1688.75    1677.00\n",
       "21    1688.75    1681.00\n",
       "22    1620.75    1613.50\n",
       "23    1679.00    1668.25\n",
       "24    1557.25    1550.25\n",
       "25    1704.50    1696.50\n",
       "26    1632.75    1619.00\n",
       "27    1587.00    1581.50\n",
       "28    1598.75    1590.50\n",
       "29    1592.25    1583.50\n",
       "30    1719.50    1709.25\n",
       "31    1807.50    1795.00\n",
       "32    1624.00    1619.50\n",
       "33    1705.25    1694.50\n",
       "34    1692.75    1686.00\n",
       "35    1795.25    1782.00\n",
       "36    1643.50    1628.75\n",
       "37    1677.25    1668.25\n",
       "38    1647.75    1641.50\n",
       "39    1620.00    1608.25\n",
       "40    1727.50    1721.25"
      ]
     },
     "execution_count": 2,
     "metadata": {},
     "output_type": "execute_result"
    }
   ],
   "source": [
    "# Uploading the file.\n",
    "\n",
    "heights = pd.read_csv(\"heights.csv\")\n",
    "heights"
   ]
  },
  {
   "cell_type": "markdown",
   "id": "168371da",
   "metadata": {},
   "source": [
    "# Test Assumptions\n"
   ]
  },
  {
   "cell_type": "code",
   "execution_count": 3,
   "id": "0991f0c8",
   "metadata": {},
   "outputs": [
    {
     "data": {
      "text/plain": [
       "<seaborn.axisgrid.PairGrid at 0x137a7e4c0>"
      ]
     },
     "execution_count": 3,
     "metadata": {},
     "output_type": "execute_result"
    },
    {
     "data": {
      "image/png": "[encoded data removed]",
      "text/plain": [
       "<Figure size 360x360 with 6 Axes>"
      ]
     },
     "metadata": {
      "needs_background": "light"
     },
     "output_type": "display_data"
    }
   ],
   "source": [
    "# Testing for Normaility and Linearity\n",
    "\n",
    "sns.pairplot(heights)"
   ]
  },
  {
   "cell_type": "code",
   "execution_count": 28,
   "id": "285fdfb4",
   "metadata": {},
   "outputs": [],
   "source": [
    "# Looks pretty Linear"
   ]
  },
  {
   "cell_type": "markdown",
   "id": "8d75a460",
   "metadata": {},
   "source": [
    "# Testing for Homoscedasticity"
   ]
  },
  {
   "cell_type": "code",
   "execution_count": 4,
   "id": "11a12690",
   "metadata": {},
   "outputs": [],
   "source": [
    "x = heights['AM_Height']\n",
    "y = heights['AM_Height']\n",
    "\n",
    "model = sm.OLS(y,x).fit()"
   ]
  },
  {
   "cell_type": "code",
   "execution_count": 5,
   "id": "a9495bf4",
   "metadata": {},
   "outputs": [],
   "source": [
    "pred_val = model.fittedvalues.copy()\n",
    "true_val = heights['PM_Height'].values.copy()\n",
    "residual = true_val - pred_val"
   ]
  },
  {
   "cell_type": "code",
   "execution_count": 6,
   "id": "d1a73155",
   "metadata": {},
   "outputs": [
    {
     "data": {
      "image/png": "[encoded data removed]",
      "text/plain": [
       "<Figure size 432x180 with 1 Axes>"
      ]
     },
     "metadata": {
      "needs_background": "light"
     },
     "output_type": "display_data"
    }
   ],
   "source": [
    "fig, ax = plt.subplots(figsize=(6,2.5))\n",
    "_ = ax.scatter(residual, pred_val)"
   ]
  },
  {
   "cell_type": "code",
   "execution_count": 32,
   "id": "963f8be8",
   "metadata": {},
   "outputs": [],
   "source": [
    "# The residuals do not look random and don't fall under a straight line, so not foloowing Homoscedasticity."
   ]
  },
  {
   "cell_type": "code",
   "execution_count": 7,
   "id": "67e42d05",
   "metadata": {},
   "outputs": [
    {
     "data": {
      "text/plain": [
       "(32.64221620394206, nan, 156.22426710457955, 2.144041642881724e-15)"
      ]
     },
     "execution_count": 7,
     "metadata": {},
     "output_type": "execute_result"
    }
   ],
   "source": [
    "# the Breusch Pagan test \n",
    "\n",
    "sms.diagnostic.het_breuschpagan(residual, heights[['PM_Height']])"
   ]
  },
  {
   "cell_type": "code",
   "execution_count": 34,
   "id": "7c20ccc3",
   "metadata": {},
   "outputs": [],
   "source": [
    "# Since the p-value is significant, the data has violated the assumption of Homoscedasticity."
   ]
  },
  {
   "cell_type": "code",
   "execution_count": 8,
   "id": "b184db4b",
   "metadata": {},
   "outputs": [
    {
     "name": "stderr",
     "output_type": "stream",
     "text": [
      "/opt/homebrew/lib/python3.9/site-packages/statsmodels/stats/diagnostic.py:1517: RuntimeWarning: invalid value encountered in true_divide\n",
      "  rresid_standardized = rresid_scaled / np.sqrt(sigma2)  # N(0,1) distributed\n"
     ]
    },
    {
     "data": {
      "text/plain": [
       "Ttest_1sampResult(statistic=nan, pvalue=nan)"
      ]
     },
     "execution_count": 8,
     "metadata": {},
     "output_type": "execute_result"
    }
   ],
   "source": [
    "sms.linear_harvey_collier(model)"
   ]
  },
  {
   "cell_type": "code",
   "execution_count": 36,
   "id": "12250813",
   "metadata": {},
   "outputs": [],
   "source": [
    "# Going by this one, it looks like the assumption hasn't been violated,\n",
    "# but should still try to fix it because both the graph and BP are showing issues"
   ]
  },
  {
   "cell_type": "code",
   "execution_count": 9,
   "id": "2b30426f",
   "metadata": {},
   "outputs": [
    {
     "data": {
      "text/plain": [
       "(array([1., 1., 4., 6., 4., 9., 7., 3., 3., 3.]),\n",
       " array([5.21052681e+11, 5.92351778e+11, 6.63650875e+11, 7.34949971e+11,\n",
       "        8.06249068e+11, 8.77548165e+11, 9.48847262e+11, 1.02014636e+12,\n",
       "        1.09144546e+12, 1.16274455e+12, 1.23404365e+12]),\n",
       " <BarContainer object of 10 artists>)"
      ]
     },
     "execution_count": 9,
     "metadata": {},
     "output_type": "execute_result"
    },
    {
     "data": {
      "image/png": "[encoded data removed]",
      "text/plain": [
       "<Figure size 432x288 with 1 Axes>"
      ]
     },
     "metadata": {
      "needs_background": "light"
     },
     "output_type": "display_data"
    }
   ],
   "source": [
    "transformed, _ = boxcox(heights['AM_Height'])\n",
    "\n",
    "plt.hist(transformed)\n",
    "\n"
   ]
  },
  {
   "cell_type": "code",
   "execution_count": 10,
   "id": "d59199dc",
   "metadata": {},
   "outputs": [
    {
     "data": {
      "text/html": [
       "<table class=\"simpletable\">\n",
       "<caption>OLS Regression Results</caption>\n",
       "<tr>\n",
       "  <th>Dep. Variable:</th>        <td>AM_Height</td>    <th>  R-squared (uncentered):</th>      <td>   0.983</td>\n",
       "</tr>\n",
       "<tr>\n",
       "  <th>Model:</th>                   <td>OLS</td>       <th>  Adj. R-squared (uncentered):</th> <td>   0.983</td>\n",
       "</tr>\n",
       "<tr>\n",
       "  <th>Method:</th>             <td>Least Squares</td>  <th>  F-statistic:       </th>          <td>   2358.</td>\n",
       "</tr>\n",
       "<tr>\n",
       "  <th>Date:</th>             <td>Fri, 01 Apr 2022</td> <th>  Prob (F-statistic):</th>          <td>3.51e-37</td>\n",
       "</tr>\n",
       "<tr>\n",
       "  <th>Time:</th>                 <td>17:56:06</td>     <th>  Log-Likelihood:    </th>          <td> -278.83</td>\n",
       "</tr>\n",
       "<tr>\n",
       "  <th>No. Observations:</th>      <td>    41</td>      <th>  AIC:               </th>          <td>   559.7</td>\n",
       "</tr>\n",
       "<tr>\n",
       "  <th>Df Residuals:</th>          <td>    40</td>      <th>  BIC:               </th>          <td>   561.4</td>\n",
       "</tr>\n",
       "<tr>\n",
       "  <th>Df Model:</th>              <td>     1</td>      <th>                     </th>              <td> </td>   \n",
       "</tr>\n",
       "<tr>\n",
       "  <th>Covariance Type:</th>      <td>nonrobust</td>    <th>                     </th>              <td> </td>   \n",
       "</tr>\n",
       "</table>\n",
       "<table class=\"simpletable\">\n",
       "<tr>\n",
       "   <td></td>     <th>coef</th>     <th>std err</th>      <th>t</th>      <th>P>|t|</th>  <th>[0.025</th>    <th>0.975]</th>  \n",
       "</tr>\n",
       "<tr>\n",
       "  <th>x1</th> <td>  1.81e-09</td> <td> 3.73e-11</td> <td>   48.560</td> <td> 0.000</td> <td> 1.73e-09</td> <td> 1.89e-09</td>\n",
       "</tr>\n",
       "</table>\n",
       "<table class=\"simpletable\">\n",
       "<tr>\n",
       "  <th>Omnibus:</th>       <td> 0.319</td> <th>  Durbin-Watson:     </th> <td>   1.561</td>\n",
       "</tr>\n",
       "<tr>\n",
       "  <th>Prob(Omnibus):</th> <td> 0.853</td> <th>  Jarque-Bera (JB):  </th> <td>   0.499</td>\n",
       "</tr>\n",
       "<tr>\n",
       "  <th>Skew:</th>          <td>-0.096</td> <th>  Prob(JB):          </th> <td>   0.779</td>\n",
       "</tr>\n",
       "<tr>\n",
       "  <th>Kurtosis:</th>      <td> 2.495</td> <th>  Cond. No.          </th> <td>    1.00</td>\n",
       "</tr>\n",
       "</table><br/><br/>Notes:<br/>[1] R² is computed without centering (uncentered) since the model does not contain a constant.<br/>[2] Standard Errors assume that the covariance matrix of the errors is correctly specified."
      ],
      "text/plain": [
       "<class 'statsmodels.iolib.summary.Summary'>\n",
       "\"\"\"\n",
       "                                 OLS Regression Results                                \n",
       "=======================================================================================\n",
       "Dep. Variable:              AM_Height   R-squared (uncentered):                   0.983\n",
       "Model:                            OLS   Adj. R-squared (uncentered):              0.983\n",
       "Method:                 Least Squares   F-statistic:                              2358.\n",
       "Date:                Fri, 01 Apr 2022   Prob (F-statistic):                    3.51e-37\n",
       "Time:                        17:56:06   Log-Likelihood:                         -278.83\n",
       "No. Observations:                  41   AIC:                                      559.7\n",
       "Df Residuals:                      40   BIC:                                      561.4\n",
       "Df Model:                           1                                                  \n",
       "Covariance Type:            nonrobust                                                  \n",
       "==============================================================================\n",
       "                 coef    std err          t      P>|t|      [0.025      0.975]\n",
       "------------------------------------------------------------------------------\n",
       "x1           1.81e-09   3.73e-11     48.560      0.000    1.73e-09    1.89e-09\n",
       "==============================================================================\n",
       "Omnibus:                        0.319   Durbin-Watson:                   1.561\n",
       "Prob(Omnibus):                  0.853   Jarque-Bera (JB):                0.499\n",
       "Skew:                          -0.096   Prob(JB):                        0.779\n",
       "Kurtosis:                       2.495   Cond. No.                         1.00\n",
       "==============================================================================\n",
       "\n",
       "Notes:\n",
       "[1] R² is computed without centering (uncentered) since the model does not contain a constant.\n",
       "[2] Standard Errors assume that the covariance matrix of the errors is correctly specified.\n",
       "\"\"\""
      ]
     },
     "execution_count": 10,
     "metadata": {},
     "output_type": "execute_result"
    }
   ],
   "source": [
    "x = transformed\n",
    "model1 = sm.OLS(y,x).fit()\n",
    "\n",
    "model1.summary()"
   ]
  },
  {
   "cell_type": "code",
   "execution_count": 11,
   "id": "658b4181",
   "metadata": {},
   "outputs": [],
   "source": [
    "# Then create new residual values\n",
    "\n",
    "\n",
    "pred_val = model1.fittedvalues.copy()\n",
    "true_val = heights['PM_Height'].values.copy()\n",
    "residual = true_val - pred_val"
   ]
  },
  {
   "cell_type": "code",
   "execution_count": 12,
   "id": "0565c3e9",
   "metadata": {},
   "outputs": [
    {
     "data": {
      "image/png": "[encoded data removed]",
      "text/plain": [
       "<Figure size 432x180 with 1 Axes>"
      ]
     },
     "metadata": {
      "needs_background": "light"
     },
     "output_type": "display_data"
    }
   ],
   "source": [
    "# And re-plot, to yield this graph:\n",
    "\n",
    "fig, ax = plt.subplots(figsize=(6, 2.5))\n",
    "_ = ax.scatter(residual, pred_val)"
   ]
  },
  {
   "cell_type": "code",
   "execution_count": 13,
   "id": "59967680",
   "metadata": {},
   "outputs": [
    {
     "data": {
      "text/plain": [
       "(16.182069054140932, nan, 26.081254056903486, 8.414574373394422e-06)"
      ]
     },
     "execution_count": 13,
     "metadata": {},
     "output_type": "execute_result"
    }
   ],
   "source": [
    "sms.diagnostic.het_breuschpagan(residual, heights[['AM_Height']])"
   ]
  },
  {
   "cell_type": "code",
   "execution_count": 14,
   "id": "97c16138",
   "metadata": {},
   "outputs": [
    {
     "name": "stderr",
     "output_type": "stream",
     "text": [
      "/opt/homebrew/lib/python3.9/site-packages/statsmodels/stats/diagnostic.py:1517: RuntimeWarning: invalid value encountered in true_divide\n",
      "  rresid_standardized = rresid_scaled / np.sqrt(sigma2)  # N(0,1) distributed\n"
     ]
    },
    {
     "data": {
      "text/plain": [
       "Ttest_1sampResult(statistic=nan, pvalue=nan)"
      ]
     },
     "execution_count": 14,
     "metadata": {},
     "output_type": "execute_result"
    }
   ],
   "source": [
    "sms.linear_harvey_collier(model)"
   ]
  },
  {
   "cell_type": "markdown",
   "id": "20f60a2d",
   "metadata": {},
   "source": [
    "# Screening for Outeliers"
   ]
  },
  {
   "cell_type": "code",
   "execution_count": 15,
   "id": "2cccd024",
   "metadata": {},
   "outputs": [
    {
     "name": "stderr",
     "output_type": "stream",
     "text": [
      "/opt/homebrew/lib/python3.9/site-packages/statsmodels/stats/outliers_influence.py:696: RuntimeWarning: divide by zero encountered in true_divide\n",
      "  return self.resid / sigma / np.sqrt(1 - hii)\n"
     ]
    },
    {
     "data": {
      "image/png": "[encoded data removed]",
      "text/plain": [
       "<Figure size 864x576 with 1 Axes>"
      ]
     },
     "metadata": {
      "needs_background": "light"
     },
     "output_type": "display_data"
    }
   ],
   "source": [
    "fig, ax = plt.subplots(figsize=(12,8))\n",
    "fig = sm.graphics.influence_plot(model, alpha = .05, ax = ax, criterion=\"cooks\")\n"
   ]
  },
  {
   "cell_type": "code",
   "execution_count": 16,
   "id": "5a3841f7",
   "metadata": {},
   "outputs": [
    {
     "name": "stdout",
     "output_type": "stream",
     "text": [
      "    dfb_AM_Height   cooks_d  standard_resid  hat_diag  dffits_internal  \\\n",
      "0        0.000000  0.026936       -1.009966  0.025727        -0.164121   \n",
      "1             inf  0.021094       -1.007201  0.020370        -0.145237   \n",
      "2             inf  0.004746       -0.503096  0.018407        -0.068893   \n",
      "3       -3.307259  0.028732       -1.010809  0.027352        -0.169507   \n",
      "4        0.000000  0.025079       -1.009091  0.024037        -0.158364   \n",
      "5             inf  0.022357       -1.007802  0.021538        -0.149522   \n",
      "6       15.589352  0.025166       -1.009132  0.024116        -0.158637   \n",
      "7        0.000000  0.026707       -1.009858  0.025519        -0.163422   \n",
      "8        0.000000  0.024314       -1.008730  0.023338        -0.155930   \n",
      "9       10.491727  0.029117       -1.010989  0.027698        -0.170637   \n",
      "10      -3.336960  0.030210       -1.011500  0.028680        -0.173809   \n",
      "11       0.000000  0.029384       -1.011114  0.027938        -0.171417   \n",
      "12      10.491727  0.027389       -1.010179  0.026138        -0.165496   \n",
      "13      10.491727  0.026666       -1.009839  0.025482        -0.163297   \n",
      "14            inf  0.026919       -1.009958  0.025712        -0.164071   \n",
      "15            inf  0.027763       -1.010355  0.026477        -0.166623   \n",
      "16      10.719459  0.026829       -1.009916  0.025631        -0.163796   \n",
      "17            inf  0.022839       -1.008031  0.021983        -0.151127   \n",
      "18       0.000000  0.027847       -1.010394  0.026552        -0.166873   \n",
      "19      15.589352  0.025174       -1.009136  0.024124        -0.158662   \n",
      "20       9.921778  0.025642       -1.009357  0.024551        -0.160130   \n",
      "21       9.921778  0.025642       -1.009357  0.024551        -0.160130   \n",
      "22       9.921778  0.023525       -1.008356  0.022613        -0.153378   \n",
      "23      15.589352  0.025332       -1.009211  0.024268        -0.159160   \n",
      "24       9.921778  0.021640       -1.007461  0.020876        -0.147107   \n",
      "25      10.491727  0.026147       -1.009595  0.025011        -0.161700   \n",
      "26      -3.307259  0.023891       -1.008529  0.022949        -0.154566   \n",
      "27            inf  0.022512       -1.007875  0.021681        -0.150041   \n",
      "28       0.000000  0.022862       -1.008041  0.022004        -0.151201   \n",
      "29       0.000000  0.022668       -1.007949  0.021825        -0.150559   \n",
      "30      10.491727  0.026633       -1.009824  0.025453        -0.163197   \n",
      "31            inf  0.029591       -1.011211  0.028125        -0.172021   \n",
      "32       0.000000  0.023624       -1.008403  0.022704        -0.153700   \n",
      "33            inf  0.026171       -1.009606  0.025033        -0.161775   \n",
      "34            inf  0.025769       -1.009417  0.024667        -0.160529   \n",
      "35            inf  0.029169       -1.011013  0.027745        -0.170788   \n",
      "36       0.000000  0.024221       -1.008686  0.023253        -0.155632   \n",
      "37      -4.175995  0.025276       -1.009184  0.024217        -0.158985   \n",
      "38      15.589352  0.024353       -1.008748  0.023373        -0.156054   \n",
      "39            inf  0.023502       -1.008345  0.022592        -0.153303   \n",
      "40       9.921778  0.026895       -1.009947  0.025690        -0.163996   \n",
      "\n",
      "    student_resid    dffits  \n",
      "0       -1.009886 -0.164108  \n",
      "1            -inf      -inf  \n",
      "2            -inf      -inf  \n",
      "3       -0.637215 -0.106857  \n",
      "4       -1.009011 -0.158351  \n",
      "5            -inf      -inf  \n",
      "6       -1.999094 -0.314261  \n",
      "7       -1.009778 -0.163409  \n",
      "8       -1.008649 -0.155918  \n",
      "9       -1.010909 -0.170624  \n",
      "10      -0.643377 -0.110553  \n",
      "11      -1.011034 -0.171403  \n",
      "12      -1.010099 -0.165483  \n",
      "13      -1.009759 -0.163284  \n",
      "14           -inf      -inf  \n",
      "15           -inf      -inf  \n",
      "16      -0.825404 -0.133871  \n",
      "17           -inf      -inf  \n",
      "18      -1.010314 -0.166860  \n",
      "19      -1.999102 -0.314310  \n",
      "20      -0.636299 -0.100946  \n",
      "21      -0.636299 -0.100946  \n",
      "22      -0.635668 -0.096689  \n",
      "23      -1.999250 -0.315296  \n",
      "24      -0.635104 -0.092736  \n",
      "25      -1.009514 -0.161687  \n",
      "26      -0.635778 -0.097439  \n",
      "27           -inf      -inf  \n",
      "28      -1.007961 -0.151189  \n",
      "29      -1.007869 -0.150547  \n",
      "30      -1.009743 -0.163184  \n",
      "31           -inf      -inf  \n",
      "32      -1.008322 -0.153687  \n",
      "33           -inf      -inf  \n",
      "34           -inf      -inf  \n",
      "35           -inf      -inf  \n",
      "36      -1.008605 -0.155620  \n",
      "37      -0.401651 -0.063276  \n",
      "38      -1.998333 -0.309144  \n",
      "39           -inf      -inf  \n",
      "40      -0.636671 -0.103383  \n"
     ]
    },
    {
     "name": "stderr",
     "output_type": "stream",
     "text": [
      "/opt/homebrew/lib/python3.9/site-packages/statsmodels/stats/outliers_influence.py:777: RuntimeWarning: divide by zero encountered in true_divide\n",
      "  dfbetas /= np.sqrt(self.sigma2_not_obsi[:, None])\n"
     ]
    }
   ],
   "source": [
    "# If you'd rather look via table instead of a graph, just to double check the values, you can:\n",
    "\n",
    "infl = model.get_influence()\n",
    "print(infl.summary_frame())"
   ]
  },
  {
   "cell_type": "code",
   "execution_count": 17,
   "id": "21336ef1",
   "metadata": {},
   "outputs": [],
   "source": [
    "heights.drop(heights.index[36], inplace=True)"
   ]
  },
  {
   "cell_type": "code",
   "execution_count": 83,
   "id": "f64d8913",
   "metadata": {},
   "outputs": [],
   "source": [
    "x = heights['AM_Height']\n",
    "y = heights['PM_Height']"
   ]
  },
  {
   "cell_type": "code",
   "execution_count": 84,
   "id": "f5333454",
   "metadata": {},
   "outputs": [],
   "source": [
    "modelNew = sm.OLS(y,x).fit()"
   ]
  },
  {
   "cell_type": "code",
   "execution_count": 85,
   "id": "46b84687",
   "metadata": {},
   "outputs": [
    {
     "data": {
      "text/html": [
       "<table class=\"simpletable\">\n",
       "<caption>OLS Regression Results</caption>\n",
       "<tr>\n",
       "  <th>Dep. Variable:</th>        <td>AM_Height</td>    <th>  R-squared (uncentered):</th>      <td>   1.000</td> \n",
       "</tr>\n",
       "<tr>\n",
       "  <th>Model:</th>                   <td>OLS</td>       <th>  Adj. R-squared (uncentered):</th> <td>   1.000</td> \n",
       "</tr>\n",
       "<tr>\n",
       "  <th>Method:</th>             <td>Least Squares</td>  <th>  F-statistic:       </th>          <td>5.582e+32</td>\n",
       "</tr>\n",
       "<tr>\n",
       "  <th>Date:</th>             <td>Wed, 30 Mar 2022</td> <th>  Prob (F-statistic):</th>           <td>  0.00</td>  \n",
       "</tr>\n",
       "<tr>\n",
       "  <th>Time:</th>                 <td>20:26:40</td>     <th>  Log-Likelihood:    </th>          <td>  1107.4</td> \n",
       "</tr>\n",
       "<tr>\n",
       "  <th>No. Observations:</th>      <td>    41</td>      <th>  AIC:               </th>          <td>  -2213.</td> \n",
       "</tr>\n",
       "<tr>\n",
       "  <th>Df Residuals:</th>          <td>    40</td>      <th>  BIC:               </th>          <td>  -2211.</td> \n",
       "</tr>\n",
       "<tr>\n",
       "  <th>Df Model:</th>              <td>     1</td>      <th>                     </th>              <td> </td>    \n",
       "</tr>\n",
       "<tr>\n",
       "  <th>Covariance Type:</th>      <td>nonrobust</td>    <th>                     </th>              <td> </td>    \n",
       "</tr>\n",
       "</table>\n",
       "<table class=\"simpletable\">\n",
       "<tr>\n",
       "      <td></td>         <th>coef</th>     <th>std err</th>      <th>t</th>      <th>P>|t|</th>  <th>[0.025</th>    <th>0.975]</th>  \n",
       "</tr>\n",
       "<tr>\n",
       "  <th>AM_Height</th> <td>    1.0000</td> <td> 4.23e-17</td> <td> 2.36e+16</td> <td> 0.000</td> <td>    1.000</td> <td>    1.000</td>\n",
       "</tr>\n",
       "</table>\n",
       "<table class=\"simpletable\">\n",
       "<tr>\n",
       "  <th>Omnibus:</th>       <td>94.233</td> <th>  Durbin-Watson:     </th> <td>   0.012</td>\n",
       "</tr>\n",
       "<tr>\n",
       "  <th>Prob(Omnibus):</th> <td> 0.000</td> <th>  Jarque-Bera (JB):  </th> <td>2476.914</td>\n",
       "</tr>\n",
       "<tr>\n",
       "  <th>Skew:</th>          <td> 6.166</td> <th>  Prob(JB):          </th> <td>    0.00</td>\n",
       "</tr>\n",
       "<tr>\n",
       "  <th>Kurtosis:</th>      <td>39.025</td> <th>  Cond. No.          </th> <td>    1.00</td>\n",
       "</tr>\n",
       "</table><br/><br/>Notes:<br/>[1] R² is computed without centering (uncentered) since the model does not contain a constant.<br/>[2] Standard Errors assume that the covariance matrix of the errors is correctly specified."
      ],
      "text/plain": [
       "<class 'statsmodels.iolib.summary.Summary'>\n",
       "\"\"\"\n",
       "                                 OLS Regression Results                                \n",
       "=======================================================================================\n",
       "Dep. Variable:              AM_Height   R-squared (uncentered):                   1.000\n",
       "Model:                            OLS   Adj. R-squared (uncentered):              1.000\n",
       "Method:                 Least Squares   F-statistic:                          5.582e+32\n",
       "Date:                Wed, 30 Mar 2022   Prob (F-statistic):                        0.00\n",
       "Time:                        20:26:40   Log-Likelihood:                          1107.4\n",
       "No. Observations:                  41   AIC:                                     -2213.\n",
       "Df Residuals:                      40   BIC:                                     -2211.\n",
       "Df Model:                           1                                                  \n",
       "Covariance Type:            nonrobust                                                  \n",
       "==============================================================================\n",
       "                 coef    std err          t      P>|t|      [0.025      0.975]\n",
       "------------------------------------------------------------------------------\n",
       "AM_Height      1.0000   4.23e-17   2.36e+16      0.000       1.000       1.000\n",
       "==============================================================================\n",
       "Omnibus:                       94.233   Durbin-Watson:                   0.012\n",
       "Prob(Omnibus):                  0.000   Jarque-Bera (JB):             2476.914\n",
       "Skew:                           6.166   Prob(JB):                         0.00\n",
       "Kurtosis:                      39.025   Cond. No.                         1.00\n",
       "==============================================================================\n",
       "\n",
       "Notes:\n",
       "[1] R² is computed without centering (uncentered) since the model does not contain a constant.\n",
       "[2] Standard Errors assume that the covariance matrix of the errors is correctly specified.\n",
       "\"\"\""
      ]
     },
     "execution_count": 85,
     "metadata": {},
     "output_type": "execute_result"
    }
   ],
   "source": [
    "model.summary()"
   ]
  },
  {
   "cell_type": "code",
   "execution_count": 86,
   "id": "7901bb97",
   "metadata": {},
   "outputs": [
    {
     "data": {
      "text/html": [
       "<table class=\"simpletable\">\n",
       "<caption>OLS Regression Results</caption>\n",
       "<tr>\n",
       "  <th>Dep. Variable:</th>        <td>PM_Height</td>    <th>  R-squared (uncentered):</th>      <td>   1.000</td> \n",
       "</tr>\n",
       "<tr>\n",
       "  <th>Model:</th>                   <td>OLS</td>       <th>  Adj. R-squared (uncentered):</th> <td>   1.000</td> \n",
       "</tr>\n",
       "<tr>\n",
       "  <th>Method:</th>             <td>Least Squares</td>  <th>  F-statistic:       </th>          <td>1.774e+07</td>\n",
       "</tr>\n",
       "<tr>\n",
       "  <th>Date:</th>             <td>Wed, 30 Mar 2022</td> <th>  Prob (F-statistic):</th>          <td>5.93e-112</td>\n",
       "</tr>\n",
       "<tr>\n",
       "  <th>Time:</th>                 <td>20:26:59</td>     <th>  Log-Likelihood:    </th>          <td> -93.134</td> \n",
       "</tr>\n",
       "<tr>\n",
       "  <th>No. Observations:</th>      <td>    40</td>      <th>  AIC:               </th>          <td>   188.3</td> \n",
       "</tr>\n",
       "<tr>\n",
       "  <th>Df Residuals:</th>          <td>    39</td>      <th>  BIC:               </th>          <td>   190.0</td> \n",
       "</tr>\n",
       "<tr>\n",
       "  <th>Df Model:</th>              <td>     1</td>      <th>                     </th>              <td> </td>    \n",
       "</tr>\n",
       "<tr>\n",
       "  <th>Covariance Type:</th>      <td>nonrobust</td>    <th>                     </th>              <td> </td>    \n",
       "</tr>\n",
       "</table>\n",
       "<table class=\"simpletable\">\n",
       "<tr>\n",
       "      <td></td>         <th>coef</th>     <th>std err</th>      <th>t</th>      <th>P>|t|</th>  <th>[0.025</th>    <th>0.975]</th>  \n",
       "</tr>\n",
       "<tr>\n",
       "  <th>AM_Height</th> <td>    0.9944</td> <td>    0.000</td> <td> 4212.277</td> <td> 0.000</td> <td>    0.994</td> <td>    0.995</td>\n",
       "</tr>\n",
       "</table>\n",
       "<table class=\"simpletable\">\n",
       "<tr>\n",
       "  <th>Omnibus:</th>       <td> 1.607</td> <th>  Durbin-Watson:     </th> <td>   2.189</td>\n",
       "</tr>\n",
       "<tr>\n",
       "  <th>Prob(Omnibus):</th> <td> 0.448</td> <th>  Jarque-Bera (JB):  </th> <td>   1.295</td>\n",
       "</tr>\n",
       "<tr>\n",
       "  <th>Skew:</th>          <td> 0.247</td> <th>  Prob(JB):          </th> <td>   0.523</td>\n",
       "</tr>\n",
       "<tr>\n",
       "  <th>Kurtosis:</th>      <td> 2.270</td> <th>  Cond. No.          </th> <td>    1.00</td>\n",
       "</tr>\n",
       "</table><br/><br/>Notes:<br/>[1] R² is computed without centering (uncentered) since the model does not contain a constant.<br/>[2] Standard Errors assume that the covariance matrix of the errors is correctly specified."
      ],
      "text/plain": [
       "<class 'statsmodels.iolib.summary.Summary'>\n",
       "\"\"\"\n",
       "                                 OLS Regression Results                                \n",
       "=======================================================================================\n",
       "Dep. Variable:              PM_Height   R-squared (uncentered):                   1.000\n",
       "Model:                            OLS   Adj. R-squared (uncentered):              1.000\n",
       "Method:                 Least Squares   F-statistic:                          1.774e+07\n",
       "Date:                Wed, 30 Mar 2022   Prob (F-statistic):                   5.93e-112\n",
       "Time:                        20:26:59   Log-Likelihood:                         -93.134\n",
       "No. Observations:                  40   AIC:                                      188.3\n",
       "Df Residuals:                      39   BIC:                                      190.0\n",
       "Df Model:                           1                                                  \n",
       "Covariance Type:            nonrobust                                                  \n",
       "==============================================================================\n",
       "                 coef    std err          t      P>|t|      [0.025      0.975]\n",
       "------------------------------------------------------------------------------\n",
       "AM_Height      0.9944      0.000   4212.277      0.000       0.994       0.995\n",
       "==============================================================================\n",
       "Omnibus:                        1.607   Durbin-Watson:                   2.189\n",
       "Prob(Omnibus):                  0.448   Jarque-Bera (JB):                1.295\n",
       "Skew:                           0.247   Prob(JB):                        0.523\n",
       "Kurtosis:                       2.270   Cond. No.                         1.00\n",
       "==============================================================================\n",
       "\n",
       "Notes:\n",
       "[1] R² is computed without centering (uncentered) since the model does not contain a constant.\n",
       "[2] Standard Errors assume that the covariance matrix of the errors is correctly specified.\n",
       "\"\"\""
      ]
     },
     "execution_count": 86,
     "metadata": {},
     "output_type": "execute_result"
    }
   ],
   "source": [
    "modelNew.summary()"
   ]
  },
  {
   "cell_type": "code",
   "execution_count": null,
   "id": "add87c84",
   "metadata": {},
   "outputs": [],
   "source": [
    "# Very different data summmary. "
   ]
  }
 ],
 "metadata": {
  "kernelspec": {
   "display_name": "Python 3.9.9 64-bit",
   "language": "python",
   "name": "python399jvsc74a57bd050292dbb1f747f7151d445135d392af3138fb3c65386d17d9510cb605222b10b"
  },
  "language_info": {
   "codemirror_mode": {
    "name": "ipython",
    "version": 3
   },
   "file_extension": ".py",
   "mimetype": "text/x-python",
   "name": "python",
   "nbconvert_exporter": "python",
   "pygments_lexer": "ipython3",
   "version": "3.9.9"
  }
 },
 "nbformat": 4,
 "nbformat_minor": 5
}
