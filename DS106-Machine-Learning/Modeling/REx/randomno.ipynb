{
 "cells": [
  {
   "cell_type": "markdown",
   "id": "5c33e998",
   "metadata": {},
   "source": [
    "# generate random numbers"
   ]
  },
  {
   "cell_type": "code",
   "execution_count": 2,
   "id": "f489eeab",
   "metadata": {},
   "outputs": [],
   "source": [
    "import random as rm"
   ]
  },
  {
   "cell_type": "code",
   "execution_count": 3,
   "id": "41fd5eb9",
   "metadata": {},
   "outputs": [
    {
     "name": "stdout",
     "output_type": "stream",
     "text": [
      "0.25944412475683853\n"
     ]
    }
   ],
   "source": [
    "# Generating Numbers Between 0 and 1\n",
    "# The function to generate a single value from a uniform random variable between\n",
    "# 0 and 1 is random.random(). You can save the number to a variable if you like\n",
    "# (this one is called value and then use the print() function on it:\n",
    "\n",
    "value = rm.random()\n",
    "print(value)\n"
   ]
  },
  {
   "cell_type": "code",
   "execution_count": 6,
   "id": "de5d04f4",
   "metadata": {},
   "outputs": [
    {
     "name": "stdout",
     "output_type": "stream",
     "text": [
      "30.53721185089958\n"
     ]
    }
   ],
   "source": [
    "# Generating User-Specified Values\n",
    "# In order to get a random value between two other points - say 30 to 50, \n",
    "# Now, instead of using the random function within the random package, \n",
    "# you will use the random.uniform() function, as follows:\n",
    "\n",
    "value = rm.uniform(30, 50)\n",
    "print(value)"
   ]
  },
  {
   "cell_type": "code",
   "execution_count": 7,
   "id": "65fdf8c7",
   "metadata": {},
   "outputs": [
    {
     "name": "stdout",
     "output_type": "stream",
     "text": [
      "-58.22639262499784\n"
     ]
    }
   ],
   "source": [
    "value = rm.uniform(-60, -50)\n",
    "print(value)"
   ]
  },
  {
   "cell_type": "markdown",
   "id": "d57f04df",
   "metadata": {},
   "source": [
    "# Generating the Standard Normal Distribution\n",
    "\n",
    "\n"
   ]
  },
  {
   "cell_type": "code",
   "execution_count": 10,
   "id": "095d72a7",
   "metadata": {},
   "outputs": [
    {
     "name": "stdout",
     "output_type": "stream",
     "text": [
      "[-0.64053192 -0.46923115 -0.08627027  1.03260594  1.14725401]\n"
     ]
    }
   ],
   "source": [
    "# As shown here, you can generate 5 random numbers according to the standard normal distribution\n",
    "# (mean of zero, standard deviation of 1) with the package numpy. So start by importing it:\n",
    "\n",
    "import numpy as np\n",
    "\n",
    "# Then you can create a vector of random numbers using the function np.random.normal() \n",
    "# with the argument size= to specify how many random numbers you'd like:\n",
    "\n",
    "x = np.random.normal(size = 5)\n",
    "\n",
    "print(x)\n"
   ]
  },
  {
   "cell_type": "markdown",
   "id": "111335a5",
   "metadata": {},
   "source": [
    "# Generating a Normal Distribution Centered Elsewhere\n"
   ]
  },
  {
   "cell_type": "code",
   "execution_count": 11,
   "id": "fd2e410f",
   "metadata": {},
   "outputs": [
    {
     "name": "stdout",
     "output_type": "stream",
     "text": [
      "[53.29903059 66.69243839 41.56846701 53.03961885 44.77950365]\n"
     ]
    }
   ],
   "source": [
    "# In order to have the normal distribution centered somewhere other than 0, \n",
    "# with a standard deviation other than 1, you need to do a little manipulation.\n",
    "# Suppose you wanted a normal distribution centered at 50, with a standard deviation of 10? \n",
    "# You could simply multiply the function by the standard deviation (10), and then add the mean (50):\n",
    "\n",
    "x = (np.random.normal(size=5))*10 + 50\n",
    "print(x)\n",
    "\n"
   ]
  },
  {
   "cell_type": "code",
   "execution_count": null,
   "id": "1f0ac055",
   "metadata": {},
   "outputs": [],
   "source": []
  }
 ],
 "metadata": {
  "kernelspec": {
   "display_name": "Python 3.9.9 64-bit",
   "language": "python",
   "name": "python399jvsc74a57bd050292dbb1f747f7151d445135d392af3138fb3c65386d17d9510cb605222b10b"
  },
  "language_info": {
   "codemirror_mode": {
    "name": "ipython",
    "version": 3
   },
   "file_extension": ".py",
   "mimetype": "text/x-python",
   "name": "python",
   "nbconvert_exporter": "python",
   "pygments_lexer": "ipython3",
   "version": "3.9.9"
  }
 },
 "nbformat": 4,
 "nbformat_minor": 5
}
