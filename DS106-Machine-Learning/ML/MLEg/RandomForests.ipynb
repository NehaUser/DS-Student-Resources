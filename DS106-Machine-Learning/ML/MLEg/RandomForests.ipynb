{
 "cells": [
  {
   "cell_type": "markdown",
   "id": "be69fc19",
   "metadata": {},
   "source": [
    "# Import Packages"
   ]
  },
  {
   "cell_type": "code",
   "execution_count": 1,
   "id": "69812e10",
   "metadata": {},
   "outputs": [],
   "source": [
    "import pandas as pd\n",
    "import numpy as np\n",
    "import matplotlib.pyplot as plt\n",
    "import seaborn as sns\n",
    "%matplotlib inline\n",
    "from sklearn.ensemble import RandomForestClassifier\n",
    "from sklearn.model_selection import train_test_split\n",
    "from sklearn.metrics import classification_report, confusion_matrix\n"
   ]
  },
  {
   "cell_type": "markdown",
   "id": "2383df6f",
   "metadata": {},
   "source": [
    "# Load Data"
   ]
  },
  {
   "cell_type": "code",
   "execution_count": 2,
   "id": "0d4e0104",
   "metadata": {},
   "outputs": [],
   "source": [
    "iris = sns.load_dataset('iris')"
   ]
  },
  {
   "cell_type": "markdown",
   "id": "99dfd4e4",
   "metadata": {},
   "source": [
    "# Data Wrangling"
   ]
  },
  {
   "cell_type": "code",
   "execution_count": 3,
   "id": "5ba71f41",
   "metadata": {},
   "outputs": [],
   "source": [
    "x = iris.drop('species', axis=1)\n",
    "y = iris['species']"
   ]
  },
  {
   "cell_type": "markdown",
   "id": "bc439492",
   "metadata": {},
   "source": [
    "# Train Test Split"
   ]
  },
  {
   "cell_type": "code",
   "execution_count": 4,
   "id": "173dac4e",
   "metadata": {},
   "outputs": [],
   "source": [
    "x_train, x_test, y_train, y_test = train_test_split(x,y, test_size=0.3, random_state=76)\n"
   ]
  },
  {
   "cell_type": "markdown",
   "id": "d3a238ab",
   "metadata": {},
   "source": [
    "# Initial Random Forest Model"
   ]
  },
  {
   "cell_type": "code",
   "execution_count": 5,
   "id": "3d99971f",
   "metadata": {},
   "outputs": [
    {
     "data": {
      "text/plain": [
       "RandomForestClassifier(n_estimators=500, random_state=76)"
      ]
     },
     "execution_count": 5,
     "metadata": {},
     "output_type": "execute_result"
    }
   ],
   "source": [
    "# And at last you are ready to kick it into high gear by creating your random forest model.\n",
    "# You'll use the function RandomForestClassifer(), with the arguments n_estimators= to specify how many \n",
    "# decision trees you want the random forest to stem from, and of course random_state= just to follow along \n",
    "# with this content:\n",
    "\n",
    "forest = RandomForestClassifier(n_estimators=500, random_state=76)\n",
    "forest.fit(x_train, y_train)"
   ]
  },
  {
   "cell_type": "code",
   "execution_count": 6,
   "id": "6c502e3e",
   "metadata": {},
   "outputs": [],
   "source": [
    "# This is exactly like when you set up a single tree, except now you specify the number of trees you want \n",
    "# to make with n_estimators=, which you have set to 500. This means you will be testing your data with\n",
    " # 500 decision trees. If you have a very large dataset, you may want to set n_estimators= smaller to decrease \n",
    "    # the time it takes to run the RandomForestClassifier() function. However, in general, the higher\n",
    "    # your n_estimators=, the more accurate your model will be. You'll then fit() to the data."
   ]
  },
  {
   "cell_type": "markdown",
   "id": "2b08372a",
   "metadata": {},
   "source": [
    "# Evaluate Model Fit"
   ]
  },
  {
   "cell_type": "code",
   "execution_count": 7,
   "id": "dde29b7a",
   "metadata": {},
   "outputs": [
    {
     "name": "stdout",
     "output_type": "stream",
     "text": [
      "[[19  0  0]\n",
      " [ 0 11  2]\n",
      " [ 0  0 13]]\n",
      "              precision    recall  f1-score   support\n",
      "\n",
      "      setosa       1.00      1.00      1.00        19\n",
      "  versicolor       1.00      0.85      0.92        13\n",
      "   virginica       0.87      1.00      0.93        13\n",
      "\n",
      "    accuracy                           0.96        45\n",
      "   macro avg       0.96      0.95      0.95        45\n",
      "weighted avg       0.96      0.96      0.96        45\n",
      "\n"
     ]
    }
   ],
   "source": [
    "# The final step is to create your prediction set and print a report! \n",
    "\n",
    "forestPredictions = forest.predict(x_test)\n",
    "print(confusion_matrix(y_test, forestPredictions))\n",
    "print(classification_report(y_test, forestPredictions))"
   ]
  },
  {
   "cell_type": "code",
   "execution_count": null,
   "id": "26d5d52f",
   "metadata": {},
   "outputs": [],
   "source": [
    "# Looks like the random forest did better than the decision tree, which is to be expected. \n",
    "# All setosa and virginica irises were correctly classified, and only two of the versicolor irises\n",
    "# were misclassified as virginica.\n",
    "\n",
    "# That is it. The new model is 96% accurate, and in general it will become more and more accurate the larger \n",
    "# your dataset is. There is 100% accuracy for both setosa and versicolor irises, but only 87% accuracy for\n",
    " #virginica."
   ]
  }
 ],
 "metadata": {
  "kernelspec": {
   "display_name": "Python 3.9.9 64-bit",
   "language": "python",
   "name": "python399jvsc74a57bd050292dbb1f747f7151d445135d392af3138fb3c65386d17d9510cb605222b10b"
  },
  "language_info": {
   "codemirror_mode": {
    "name": "ipython",
    "version": 3
   },
   "file_extension": ".py",
   "mimetype": "text/x-python",
   "name": "python",
   "nbconvert_exporter": "python",
   "pygments_lexer": "ipython3",
   "version": "3.9.9"
  }
 },
 "nbformat": 4,
 "nbformat_minor": 5
}
