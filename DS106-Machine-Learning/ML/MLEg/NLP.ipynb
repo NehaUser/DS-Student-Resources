{
 "cells": [
  {
   "cell_type": "code",
   "execution_count": 3,
   "id": "e0089eac",
   "metadata": {},
   "outputs": [],
   "source": [
    "# Install Required Packages\n",
    "\n",
    "# pip install bs4\n",
    "# pip install nltk\n"
   ]
  },
  {
   "cell_type": "markdown",
   "id": "28629aa0",
   "metadata": {},
   "source": [
    "# Import packages"
   ]
  },
  {
   "cell_type": "code",
   "execution_count": 4,
   "id": "d2d0ab62",
   "metadata": {},
   "outputs": [],
   "source": [
    "# You'll use requests to read in your data from the webpage, BeautifulSoup to help process your raw data, \n",
    "# nltk as the definitive natural language processing package, and RegexpTokenizer to break down your data\n",
    "# into words. You should already be familiar with matplotlib and seaborn, and you'll make use of them to\n",
    "# visualize the frequency counts of words at the end.\n",
    "\n",
    "import requests\n",
    "from bs4 import BeautifulSoup\n",
    "import nltk\n",
    "from nltk.tokenize import RegexpTokenizer\n",
    "import matplotlib.pyplot as plt\n",
    "import seaborn as sns\n",
    "%matplotlib inline"
   ]
  },
  {
   "cell_type": "markdown",
   "id": "f7a369bd",
   "metadata": {},
   "source": [
    "# Read in Text"
   ]
  },
  {
   "cell_type": "code",
   "execution_count": 5,
   "id": "70f711f4",
   "metadata": {},
   "outputs": [],
   "source": [
    "# Then, you will read in the text you'll analyze. You'll start by taking a URL to a webpage and assigning it a \n",
    "# variable name, in this case, url:\n",
    "\n",
    "url = 'http://www.gutenberg.org/files/1184/1184-h/1184-h.htm'"
   ]
  },
  {
   "cell_type": "code",
   "execution_count": 6,
   "id": "4b0e4b2f",
   "metadata": {},
   "outputs": [],
   "source": [
    "# Once you have your URL saved to a Python variable, you can get make a request to get data from that webpage. \n",
    "# This will use the function requests.get(), and you are making it to the url webpage you just saved:\n",
    "\n",
    "r = requests.get(url)"
   ]
  },
  {
   "cell_type": "code",
   "execution_count": 7,
   "id": "c87d314f",
   "metadata": {},
   "outputs": [
    {
     "data": {
      "text/plain": [
       "requests.models.Response"
      ]
     },
     "execution_count": 7,
     "metadata": {},
     "output_type": "execute_result"
    }
   ],
   "source": [
    "# Then, you can find out the type of that request if you like by using the function type():\n",
    "\n",
    "type(r)"
   ]
  },
  {
   "cell_type": "markdown",
   "id": "11dc912c",
   "metadata": {},
   "source": [
    "# Convert Text to soup"
   ]
  },
  {
   "cell_type": "code",
   "execution_count": 8,
   "id": "86a1fa30",
   "metadata": {},
   "outputs": [
    {
     "data": {
      "text/plain": [
       "bs4.BeautifulSoup"
      ]
     },
     "execution_count": 8,
     "metadata": {},
     "output_type": "execute_result"
    }
   ],
   "source": [
    "# The next few lines take the data off the webpage and extract the text, then use the html5lib to convert it \n",
    "# into something you'll be able to process and better understand, called soup.\n",
    "\n",
    "html = r.text\n",
    "soup = BeautifulSoup(html,\"html.parser\")\n",
    "type(soup)"
   ]
  },
  {
   "cell_type": "markdown",
   "id": "87444c97",
   "metadata": {},
   "source": [
    "# Use HTML Tags to Extract Useful Info"
   ]
  },
  {
   "cell_type": "code",
   "execution_count": 9,
   "id": "f845d404",
   "metadata": {},
   "outputs": [
    {
     "data": {
      "text/plain": [
       "'The Project Gutenberg eBook of The Count of Monte Cristo, by Alexandre Dumas, pÃ¨re'"
      ]
     },
     "execution_count": 9,
     "metadata": {},
     "output_type": "execute_result"
    }
   ],
   "source": [
    "#  you can then call out certain pieces of this text. For instance, the title:\n",
    "\n",
    "soup.title.string\n",
    "\n",
    "# soup is the name of the webpage broken into HTML, then you are calling the title tag from the HTML and asking\n",
    "# for Python to give it back as .string. The result should be this:\n",
    "\n"
   ]
  },
  {
   "cell_type": "markdown",
   "id": "90cd61b6",
   "metadata": {},
   "source": [
    "# Tokenize Data"
   ]
  },
  {
   "cell_type": "code",
   "execution_count": 10,
   "id": "675b19d9",
   "metadata": {},
   "outputs": [
    {
     "data": {
      "text/plain": [
       "['The', 'Project', 'Gutenberg', 'eBook', 'of']"
      ]
     },
     "execution_count": 10,
     "metadata": {},
     "output_type": "execute_result"
    }
   ],
   "source": [
    "# The following code uses the function get_text() to retrieve your text, and then you will use the function\n",
    "# RegexpTokenizer() to break it down into words, separated by spaces. Well, in the language RegEx, \\w+ is the \n",
    "# symbol for space.\n",
    "\n",
    "# Then the function tokenize() will actually perform the operation, and you will get the first five words with [:5]:\n",
    "\n",
    "text = soup.get_text()\n",
    "tokenizer = RegexpTokenizer('\\w+')\n",
    "tokens = tokenizer.tokenize(text)\n",
    "tokens[:5]"
   ]
  },
  {
   "cell_type": "markdown",
   "id": "ddfa9d7c",
   "metadata": {},
   "source": [
    "# Remove Capitalization\n"
   ]
  },
  {
   "cell_type": "code",
   "execution_count": 11,
   "id": "0675559d",
   "metadata": {},
   "outputs": [],
   "source": [
    "# Should The be different from the? What about typos, like THe or thE? Probably not important. \n",
    "# You can remove capitalization like this:\n",
    "\n",
    "\n",
    "words = []\n",
    "for word in tokens:\n",
    "    words.append(word.lower())"
   ]
  },
  {
   "cell_type": "code",
   "execution_count": 12,
   "id": "a8f926db",
   "metadata": {},
   "outputs": [
    {
     "data": {
      "text/plain": [
       "['the', 'project', 'gutenberg', 'ebook', 'of']"
      ]
     },
     "execution_count": 12,
     "metadata": {},
     "output_type": "execute_result"
    }
   ],
   "source": [
    "# The above code uses a for loop, and makes use of the function lower() to strip caps.\n",
    "# It all goes into a dictionary named words. You can take a look at the first five entries in the dictionary \n",
    "# like this:\n",
    "\n",
    "words[:5]"
   ]
  },
  {
   "cell_type": "markdown",
   "id": "3c507d24",
   "metadata": {},
   "source": [
    "# Removing Stopwords"
   ]
  },
  {
   "cell_type": "code",
   "execution_count": 14,
   "id": "d088a028",
   "metadata": {},
   "outputs": [],
   "source": [
    "# There are some words that mean nothing out of context. These \"boring\" and \"useless\" words are considered \n",
    "# stopwords, and, luckily, nltk already has a list of them! You can pull them out and label them like this:\n",
    "\n",
    "stopwords = nltk.corpus.stopwords.words('english')"
   ]
  },
  {
   "cell_type": "code",
   "execution_count": 16,
   "id": "66ce6acd",
   "metadata": {},
   "outputs": [
    {
     "data": {
      "text/plain": [
       "['i', 'me', 'my', 'myself', 'we', 'our', 'ours', 'ourselves', 'you', \"you're\"]"
      ]
     },
     "execution_count": 16,
     "metadata": {},
     "output_type": "execute_result"
    }
   ],
   "source": [
    "# here are the first ten stopwords in the list:\n",
    "\n",
    "stopwords[:10]"
   ]
  },
  {
   "cell_type": "code",
   "execution_count": 17,
   "id": "f6015ef7",
   "metadata": {},
   "outputs": [],
   "source": [
    "# These words don't have any emotional context, descriptive information, or tell you anything about the subject.\n",
    "# So you'll want to filter these out, and others like them, so they don't clutter up your analysis."
   ]
  },
  {
   "cell_type": "code",
   "execution_count": 19,
   "id": "a914a184",
   "metadata": {},
   "outputs": [],
   "source": [
    "wordsWithoutStops = []\n",
    "for word in words:\n",
    "    if word not in stopwords:\n",
    "        wordsWithoutStops.append(word)\n",
    "        \n",
    "\n",
    "# This makes a dictionary named wordsWithoutStops that filters out all the stopwords,\n",
    "# so only the good stuff is left. "
   ]
  },
  {
   "cell_type": "code",
   "execution_count": 20,
   "id": "8c675c25",
   "metadata": {},
   "outputs": [
    {
     "data": {
      "text/plain": [
       "['project',\n",
       " 'gutenberg',\n",
       " 'ebook',\n",
       " 'count',\n",
       " 'monte',\n",
       " 'cristo',\n",
       " 'alexandre',\n",
       " 'dumas',\n",
       " 'pã',\n",
       " 'project']"
      ]
     },
     "execution_count": 20,
     "metadata": {},
     "output_type": "execute_result"
    }
   ],
   "source": [
    "wordsWithoutStops[:10]"
   ]
  },
  {
   "cell_type": "markdown",
   "id": "0490d4a2",
   "metadata": {},
   "source": [
    "# Count and Plot Words"
   ]
  },
  {
   "cell_type": "code",
   "execution_count": 23,
   "id": "7c4d253f",
   "metadata": {},
   "outputs": [
    {
     "data": {
      "image/png": "[encoded data removed]",
      "text/plain": [
       "<Figure size 432x288 with 1 Axes>"
      ]
     },
     "metadata": {},
     "output_type": "display_data"
    },
    {
     "data": {
      "text/plain": [
       "<AxesSubplot:xlabel='Samples', ylabel='Counts'>"
      ]
     },
     "execution_count": 23,
     "metadata": {},
     "output_type": "execute_result"
    }
   ],
   "source": [
    "# You have successfully brought in data from a website with a get request, made it usable with BeautifulSoup, \n",
    "# tokenized it, and cleaned it. Now you can plot it.\n",
    "\n",
    "sns.set()\n",
    "frequencyDis = nltk.FreqDist(wordsWithoutStops)\n",
    "frequencyDis.plot(25)"
   ]
  },
  {
   "cell_type": "code",
   "execution_count": null,
   "id": "8151c93c",
   "metadata": {},
   "outputs": [],
   "source": [
    "# Line two will get a frequency count of all the words in the wordsWithoutStops dictionary, \n",
    "# using the function nltk.FreqDist(). Then you can easily plot it with the .plot() command from matplotlib.\n",
    "# The 25 in parentheses says that you're only going to plot the top 25 words, though of course you could change \n",
    "# that to whatever you like."
   ]
  }
 ],
 "metadata": {
  "kernelspec": {
   "display_name": "Python 3.9.9 64-bit",
   "language": "python",
   "name": "python399jvsc74a57bd050292dbb1f747f7151d445135d392af3138fb3c65386d17d9510cb605222b10b"
  },
  "language_info": {
   "codemirror_mode": {
    "name": "ipython",
    "version": 3
   },
   "file_extension": ".py",
   "mimetype": "text/x-python",
   "name": "python",
   "nbconvert_exporter": "python",
   "pygments_lexer": "ipython3",
   "version": "3.9.9"
  }
 },
 "nbformat": 4,
 "nbformat_minor": 5
}
