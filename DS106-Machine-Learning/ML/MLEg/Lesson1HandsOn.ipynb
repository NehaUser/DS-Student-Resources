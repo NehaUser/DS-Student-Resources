{
 "cells": [
  {
   "cell_type": "markdown",
   "id": "942902e1",
   "metadata": {},
   "source": [
    "# Import Packages"
   ]
  },
  {
   "cell_type": "code",
   "execution_count": 23,
   "id": "b7715533",
   "metadata": {},
   "outputs": [],
   "source": [
    "import pandas as pd\n",
    "from sklearn.linear_model import LinearRegression\n",
    "from sklearn.model_selection import train_test_split\n",
    "import matplotlib.pyplot as plt\n",
    "%matplotlib inline\n",
    "from sklearn import metrics\n",
    "import numpy as np\n",
    "\n",
    "\n",
    "# Load data diamonds.\n",
    "\n",
    "import seaborn as sns\n",
    "from sklearn.utils import shuffle\n",
    "Diamonds = shuffle(sns.load_dataset('diamonds'))"
   ]
  },
  {
   "cell_type": "code",
   "execution_count": 24,
   "id": "150096de",
   "metadata": {},
   "outputs": [
    {
     "data": {
      "text/html": [
       "<div>\n",
       "<style scoped>\n",
       "    .dataframe tbody tr th:only-of-type {\n",
       "        vertical-align: middle;\n",
       "    }\n",
       "\n",
       "    .dataframe tbody tr th {\n",
       "        vertical-align: top;\n",
       "    }\n",
       "\n",
       "    .dataframe thead th {\n",
       "        text-align: right;\n",
       "    }\n",
       "</style>\n",
       "<table border=\"1\" class=\"dataframe\">\n",
       "  <thead>\n",
       "    <tr style=\"text-align: right;\">\n",
       "      <th></th>\n",
       "      <th>carat</th>\n",
       "      <th>cut</th>\n",
       "      <th>color</th>\n",
       "      <th>clarity</th>\n",
       "      <th>depth</th>\n",
       "      <th>table</th>\n",
       "      <th>price</th>\n",
       "      <th>x</th>\n",
       "      <th>y</th>\n",
       "      <th>z</th>\n",
       "    </tr>\n",
       "  </thead>\n",
       "  <tbody>\n",
       "    <tr>\n",
       "      <th>31327</th>\n",
       "      <td>0.30</td>\n",
       "      <td>Very Good</td>\n",
       "      <td>E</td>\n",
       "      <td>VVS2</td>\n",
       "      <td>62.4</td>\n",
       "      <td>57.0</td>\n",
       "      <td>759</td>\n",
       "      <td>4.28</td>\n",
       "      <td>4.31</td>\n",
       "      <td>2.68</td>\n",
       "    </tr>\n",
       "    <tr>\n",
       "      <th>44575</th>\n",
       "      <td>0.53</td>\n",
       "      <td>Ideal</td>\n",
       "      <td>G</td>\n",
       "      <td>VS1</td>\n",
       "      <td>61.7</td>\n",
       "      <td>55.0</td>\n",
       "      <td>1607</td>\n",
       "      <td>5.18</td>\n",
       "      <td>5.22</td>\n",
       "      <td>3.21</td>\n",
       "    </tr>\n",
       "    <tr>\n",
       "      <th>3871</th>\n",
       "      <td>0.90</td>\n",
       "      <td>Very Good</td>\n",
       "      <td>H</td>\n",
       "      <td>SI2</td>\n",
       "      <td>61.2</td>\n",
       "      <td>57.0</td>\n",
       "      <td>3481</td>\n",
       "      <td>6.21</td>\n",
       "      <td>6.27</td>\n",
       "      <td>3.82</td>\n",
       "    </tr>\n",
       "    <tr>\n",
       "      <th>26667</th>\n",
       "      <td>1.52</td>\n",
       "      <td>Ideal</td>\n",
       "      <td>G</td>\n",
       "      <td>VVS1</td>\n",
       "      <td>61.4</td>\n",
       "      <td>57.0</td>\n",
       "      <td>16492</td>\n",
       "      <td>7.40</td>\n",
       "      <td>7.38</td>\n",
       "      <td>4.54</td>\n",
       "    </tr>\n",
       "    <tr>\n",
       "      <th>22198</th>\n",
       "      <td>1.60</td>\n",
       "      <td>Very Good</td>\n",
       "      <td>I</td>\n",
       "      <td>VS1</td>\n",
       "      <td>62.3</td>\n",
       "      <td>59.0</td>\n",
       "      <td>10238</td>\n",
       "      <td>7.46</td>\n",
       "      <td>7.51</td>\n",
       "      <td>4.66</td>\n",
       "    </tr>\n",
       "  </tbody>\n",
       "</table>\n",
       "</div>"
      ],
      "text/plain": [
       "       carat        cut color clarity  depth  table  price     x     y     z\n",
       "31327   0.30  Very Good     E    VVS2   62.4   57.0    759  4.28  4.31  2.68\n",
       "44575   0.53      Ideal     G     VS1   61.7   55.0   1607  5.18  5.22  3.21\n",
       "3871    0.90  Very Good     H     SI2   61.2   57.0   3481  6.21  6.27  3.82\n",
       "26667   1.52      Ideal     G    VVS1   61.4   57.0  16492  7.40  7.38  4.54\n",
       "22198   1.60  Very Good     I     VS1   62.3   59.0  10238  7.46  7.51  4.66"
      ]
     },
     "execution_count": 24,
     "metadata": {},
     "output_type": "execute_result"
    }
   ],
   "source": [
    "Diamonds.head()"
   ]
  },
  {
   "cell_type": "code",
   "execution_count": 3,
   "id": "f0774028",
   "metadata": {},
   "outputs": [],
   "source": [
    "#  use the following variables to predict the price of diamonds:\n",
    "\n",
    "# carat\n",
    "# cut\n",
    "# color\n",
    "# clarity"
   ]
  },
  {
   "cell_type": "markdown",
   "id": "09f46417",
   "metadata": {},
   "source": [
    "# Recoding "
   ]
  },
  {
   "cell_type": "code",
   "execution_count": 11,
   "id": "59d2202d",
   "metadata": {},
   "outputs": [
    {
     "data": {
      "text/plain": [
       "Ideal        21551\n",
       "Premium      13791\n",
       "Very Good    12082\n",
       "Good          4906\n",
       "Fair          1610\n",
       "Name: cut, dtype: int64"
      ]
     },
     "execution_count": 11,
     "metadata": {},
     "output_type": "execute_result"
    }
   ],
   "source": [
    "# Unique values of cut\n",
    "\n",
    "Diamonds.cut.value_counts()"
   ]
  },
  {
   "cell_type": "code",
   "execution_count": 25,
   "id": "af29eee1",
   "metadata": {},
   "outputs": [],
   "source": [
    "# Recoding the string variable cut to Numeric into a new Variable cutR. \n",
    "\n",
    "def cut_recode(Cuttype):\n",
    "    if Cuttype == \"Ideal\":\n",
    "        return 0\n",
    "    if Cuttype == \"Premium\":\n",
    "        return 1\n",
    "    if Cuttype == \"Very Good\":\n",
    "        return 2\n",
    "    if Cuttype == \"Good\":\n",
    "        return 3\n",
    "    if Cuttype == \"Fair\":\n",
    "        return 4\n",
    "Diamonds['cutR'] = Diamonds['cut'].apply(cut_recode)"
   ]
  },
  {
   "cell_type": "code",
   "execution_count": 16,
   "id": "477d65c6",
   "metadata": {},
   "outputs": [
    {
     "data": {
      "text/plain": [
       "G    11292\n",
       "E     9797\n",
       "F     9542\n",
       "H     8304\n",
       "D     6775\n",
       "I     5422\n",
       "J     2808\n",
       "Name: color, dtype: int64"
      ]
     },
     "execution_count": 16,
     "metadata": {},
     "output_type": "execute_result"
    }
   ],
   "source": [
    "# Unique values of color\n",
    "\n",
    "Diamonds.color.value_counts()"
   ]
  },
  {
   "cell_type": "code",
   "execution_count": 26,
   "id": "f46e4965",
   "metadata": {},
   "outputs": [],
   "source": [
    "# Color Recode \n",
    "\n",
    "def color_recode(ColorVal):\n",
    "    if ColorVal == \"G\":\n",
    "        return 0\n",
    "    if ColorVal == \"E\":\n",
    "        return 1\n",
    "    if ColorVal == \"F\":\n",
    "        return 2\n",
    "    if ColorVal == \"H\":\n",
    "        return 3\n",
    "    if ColorVal == \"D\":\n",
    "        return 4\n",
    "    if ColorVal == \"I\":\n",
    "        return 5\n",
    "    if ColorVal == \"J\":\n",
    "        return 6\n",
    "Diamonds['colorR'] = Diamonds['color'].apply(color_recode)"
   ]
  },
  {
   "cell_type": "code",
   "execution_count": 19,
   "id": "4df643b4",
   "metadata": {},
   "outputs": [
    {
     "data": {
      "text/plain": [
       "SI1     13065\n",
       "VS2     12258\n",
       "SI2      9194\n",
       "VS1      8171\n",
       "VVS2     5066\n",
       "VVS1     3655\n",
       "IF       1790\n",
       "I1        741\n",
       "Name: clarity, dtype: int64"
      ]
     },
     "execution_count": 19,
     "metadata": {},
     "output_type": "execute_result"
    }
   ],
   "source": [
    "# Unique values of clarity\n",
    "\n",
    "Diamonds.clarity.value_counts()"
   ]
  },
  {
   "cell_type": "code",
   "execution_count": 27,
   "id": "24ace151",
   "metadata": {},
   "outputs": [],
   "source": [
    "#clarity Recode\n",
    "\n",
    "def clarity_recode(ClarityVal):\n",
    "    if ClarityVal == \"SI1\":\n",
    "        return 0\n",
    "    if ClarityVal == \"VS2\":\n",
    "        return 1\n",
    "    if ClarityVal == \"SI2\":\n",
    "        return 2\n",
    "    if ClarityVal == \"VS1\":\n",
    "        return 3\n",
    "    if ClarityVal == \"VVS2\":\n",
    "        return 4\n",
    "    if ClarityVal == \"VVS1\":\n",
    "        return 5\n",
    "    if ClarityVal == \"IF\":\n",
    "        return 6\n",
    "    if ClarityVal == \"I1\":\n",
    "        return 7\n",
    "Diamonds['clarityR'] = Diamonds['clarity'].apply(clarity_recode)"
   ]
  },
  {
   "cell_type": "code",
   "execution_count": 28,
   "id": "1159135f",
   "metadata": {},
   "outputs": [
    {
     "data": {
      "text/html": [
       "<div>\n",
       "<style scoped>\n",
       "    .dataframe tbody tr th:only-of-type {\n",
       "        vertical-align: middle;\n",
       "    }\n",
       "\n",
       "    .dataframe tbody tr th {\n",
       "        vertical-align: top;\n",
       "    }\n",
       "\n",
       "    .dataframe thead th {\n",
       "        text-align: right;\n",
       "    }\n",
       "</style>\n",
       "<table border=\"1\" class=\"dataframe\">\n",
       "  <thead>\n",
       "    <tr style=\"text-align: right;\">\n",
       "      <th></th>\n",
       "      <th>carat</th>\n",
       "      <th>cut</th>\n",
       "      <th>color</th>\n",
       "      <th>clarity</th>\n",
       "      <th>depth</th>\n",
       "      <th>table</th>\n",
       "      <th>price</th>\n",
       "      <th>x</th>\n",
       "      <th>y</th>\n",
       "      <th>z</th>\n",
       "      <th>cutR</th>\n",
       "      <th>colorR</th>\n",
       "      <th>clarityR</th>\n",
       "    </tr>\n",
       "  </thead>\n",
       "  <tbody>\n",
       "    <tr>\n",
       "      <th>31327</th>\n",
       "      <td>0.30</td>\n",
       "      <td>Very Good</td>\n",
       "      <td>E</td>\n",
       "      <td>VVS2</td>\n",
       "      <td>62.4</td>\n",
       "      <td>57.0</td>\n",
       "      <td>759</td>\n",
       "      <td>4.28</td>\n",
       "      <td>4.31</td>\n",
       "      <td>2.68</td>\n",
       "      <td>2</td>\n",
       "      <td>1</td>\n",
       "      <td>4</td>\n",
       "    </tr>\n",
       "    <tr>\n",
       "      <th>44575</th>\n",
       "      <td>0.53</td>\n",
       "      <td>Ideal</td>\n",
       "      <td>G</td>\n",
       "      <td>VS1</td>\n",
       "      <td>61.7</td>\n",
       "      <td>55.0</td>\n",
       "      <td>1607</td>\n",
       "      <td>5.18</td>\n",
       "      <td>5.22</td>\n",
       "      <td>3.21</td>\n",
       "      <td>0</td>\n",
       "      <td>0</td>\n",
       "      <td>3</td>\n",
       "    </tr>\n",
       "    <tr>\n",
       "      <th>3871</th>\n",
       "      <td>0.90</td>\n",
       "      <td>Very Good</td>\n",
       "      <td>H</td>\n",
       "      <td>SI2</td>\n",
       "      <td>61.2</td>\n",
       "      <td>57.0</td>\n",
       "      <td>3481</td>\n",
       "      <td>6.21</td>\n",
       "      <td>6.27</td>\n",
       "      <td>3.82</td>\n",
       "      <td>2</td>\n",
       "      <td>3</td>\n",
       "      <td>2</td>\n",
       "    </tr>\n",
       "    <tr>\n",
       "      <th>26667</th>\n",
       "      <td>1.52</td>\n",
       "      <td>Ideal</td>\n",
       "      <td>G</td>\n",
       "      <td>VVS1</td>\n",
       "      <td>61.4</td>\n",
       "      <td>57.0</td>\n",
       "      <td>16492</td>\n",
       "      <td>7.40</td>\n",
       "      <td>7.38</td>\n",
       "      <td>4.54</td>\n",
       "      <td>0</td>\n",
       "      <td>0</td>\n",
       "      <td>5</td>\n",
       "    </tr>\n",
       "    <tr>\n",
       "      <th>22198</th>\n",
       "      <td>1.60</td>\n",
       "      <td>Very Good</td>\n",
       "      <td>I</td>\n",
       "      <td>VS1</td>\n",
       "      <td>62.3</td>\n",
       "      <td>59.0</td>\n",
       "      <td>10238</td>\n",
       "      <td>7.46</td>\n",
       "      <td>7.51</td>\n",
       "      <td>4.66</td>\n",
       "      <td>2</td>\n",
       "      <td>5</td>\n",
       "      <td>3</td>\n",
       "    </tr>\n",
       "  </tbody>\n",
       "</table>\n",
       "</div>"
      ],
      "text/plain": [
       "       carat        cut color clarity  depth  table  price     x     y     z  \\\n",
       "31327   0.30  Very Good     E    VVS2   62.4   57.0    759  4.28  4.31  2.68   \n",
       "44575   0.53      Ideal     G     VS1   61.7   55.0   1607  5.18  5.22  3.21   \n",
       "3871    0.90  Very Good     H     SI2   61.2   57.0   3481  6.21  6.27  3.82   \n",
       "26667   1.52      Ideal     G    VVS1   61.4   57.0  16492  7.40  7.38  4.54   \n",
       "22198   1.60  Very Good     I     VS1   62.3   59.0  10238  7.46  7.51  4.66   \n",
       "\n",
       "      cutR colorR clarityR  \n",
       "31327    2      1        4  \n",
       "44575    0      0        3  \n",
       "3871     2      3        2  \n",
       "26667    0      0        5  \n",
       "22198    2      5        3  "
      ]
     },
     "execution_count": 28,
     "metadata": {},
     "output_type": "execute_result"
    }
   ],
   "source": [
    "# Recoded Diamonds with the numeric values \n",
    "\n",
    "Diamonds.head()"
   ]
  },
  {
   "cell_type": "code",
   "execution_count": null,
   "id": "8337f734",
   "metadata": {},
   "outputs": [],
   "source": []
  },
  {
   "cell_type": "code",
   "execution_count": null,
   "id": "46991cdf",
   "metadata": {},
   "outputs": [],
   "source": []
  },
  {
   "cell_type": "markdown",
   "id": "936d1c78",
   "metadata": {},
   "source": [
    "# Data Wrangling"
   ]
  },
  {
   "cell_type": "code",
   "execution_count": 29,
   "id": "fc3a601c",
   "metadata": {},
   "outputs": [],
   "source": [
    "# Since we can't feed the whole data, we need to subset the diamond data set to keep the useful columns.\n",
    "# Create x and y variables as their own arrays.\n",
    "# The x data variable will consist of carat, cutR, colorR and clarityR.\n",
    "# The y data variable will consist of the target variable, what we are trying to predict. In this case, that is \n",
    "# the price of diamonds, or the price column:\n",
    "\n",
    "x = Diamonds[['carat', 'cutR', 'colorR', 'clarityR']]\n",
    "y = Diamonds['price']"
   ]
  },
  {
   "cell_type": "markdown",
   "id": "ca224292",
   "metadata": {},
   "source": [
    "# Train Test Split"
   ]
  },
  {
   "cell_type": "code",
   "execution_count": 30,
   "id": "e9e50c81",
   "metadata": {},
   "outputs": [],
   "source": [
    "# As arguments into the train_test_split() function, we will place our x and y data, and specify how much of \n",
    "# our data you want to test with the argument test_size=. In this case, the value of test_size= is .4, because \n",
    "# we are going to use a 60/40 train/test split. This means that we are reserving 40% of our data for testing,\n",
    "# and training with the remaining 60%.\n",
    "\n",
    "\n",
    "\n",
    "\n",
    "x_train, x_test, y_train, y_test = train_test_split(x,y, test_size = .4, random_state=101)"
   ]
  },
  {
   "cell_type": "code",
   "execution_count": 31,
   "id": "3340a60d",
   "metadata": {},
   "outputs": [
    {
     "name": "stdout",
     "output_type": "stream",
     "text": [
      "(32364, 4) (32364,)\n",
      "(21576, 4) (21576,)\n"
     ]
    }
   ],
   "source": [
    "print(x_train.shape, y_train.shape)\n",
    "print(x_test.shape, y_test.shape)"
   ]
  },
  {
   "cell_type": "code",
   "execution_count": null,
   "id": "35f7a0d2",
   "metadata": {},
   "outputs": [],
   "source": [
    "# Above it is showing that in the x_train dataset, there are 32364 rows and 4 columns, and in the x_test dataset, \n",
    "# there are 21576 rows and 4 columns. So we can see how the training and testing data is broken up."
   ]
  },
  {
   "cell_type": "markdown",
   "id": "ac3d7579",
   "metadata": {},
   "source": [
    "# Create the Linear Regression Model\n",
    "\n"
   ]
  },
  {
   "cell_type": "code",
   "execution_count": 32,
   "id": "968c002b",
   "metadata": {},
   "outputs": [
    {
     "data": {
      "text/plain": [
       "LinearRegression()"
      ]
     },
     "execution_count": 32,
     "metadata": {},
     "output_type": "execute_result"
    }
   ],
   "source": [
    "# Next, we will run the linear regression model on our training data. It's named lm. We will then fit this model to the \n",
    "# training data using the .fit() function, specifying the x and y training sets.\n",
    "\n",
    "\n",
    "lm = LinearRegression()\n",
    "lm.fit(x_train, y_train)"
   ]
  },
  {
   "cell_type": "code",
   "execution_count": null,
   "id": "80a1e7f1",
   "metadata": {},
   "outputs": [],
   "source": [
    "# Since the output is LinearRegression(), it means LM worked ok."
   ]
  },
  {
   "cell_type": "markdown",
   "id": "aa61587b",
   "metadata": {},
   "source": [
    "# Interpreting Supervised Machine Learning Model Accuracy"
   ]
  },
  {
   "cell_type": "code",
   "execution_count": null,
   "id": "2e2382ad",
   "metadata": {},
   "outputs": [],
   "source": [
    "# It's time to take a peek at the model and determine whether it is any good."
   ]
  },
  {
   "cell_type": "code",
   "execution_count": 33,
   "id": "9a52bd9a",
   "metadata": {},
   "outputs": [
    {
     "data": {
      "text/plain": [
       "array([3074.3895644 , 1135.74684987, 8810.96110838, ..., 6074.92007523,\n",
       "       5327.47504118, 9079.26693123])"
      ]
     },
     "execution_count": 33,
     "metadata": {},
     "output_type": "execute_result"
    }
   ],
   "source": [
    "predictions = lm.predict(x_test)\n",
    "predictions"
   ]
  },
  {
   "cell_type": "code",
   "execution_count": 34,
   "id": "75672248",
   "metadata": {},
   "outputs": [
    {
     "data": {
      "text/plain": [
       "<matplotlib.collections.PathCollection at 0x15eda5ee0>"
      ]
     },
     "execution_count": 34,
     "metadata": {},
     "output_type": "execute_result"
    },
    {
     "data": {
      "image/png": "[encoded data removed]",
      "text/plain": [
       "<Figure size 432x288 with 1 Axes>"
      ]
     },
     "metadata": {
      "needs_background": "light"
     },
     "output_type": "display_data"
    }
   ],
   "source": [
    "# Plotting it will give us a better idea of how accurate\n",
    "# our predictions (and thus our model) is. The straighter the line, the better the model fit. \n",
    "\n",
    "plt.scatter(y_test, predictions)"
   ]
  },
  {
   "cell_type": "code",
   "execution_count": null,
   "id": "5e152947",
   "metadata": {},
   "outputs": [],
   "source": [
    "# The above plot looks really good and pretty mucha straight line can be drawn."
   ]
  },
  {
   "cell_type": "markdown",
   "id": "df240956",
   "metadata": {},
   "source": [
    "# Accuracy Score"
   ]
  },
  {
   "cell_type": "code",
   "execution_count": 35,
   "id": "a28416d4",
   "metadata": {},
   "outputs": [
    {
     "name": "stdout",
     "output_type": "stream",
     "text": [
      "Score: 0.8639417776819646\n"
     ]
    }
   ],
   "source": [
    "# The first way is to print an accuracy score for this model.\n",
    "\n",
    "print(\"Score:\", lm.score(x_test, y_test))"
   ]
  },
  {
   "cell_type": "code",
   "execution_count": null,
   "id": "2a1ae3ed",
   "metadata": {},
   "outputs": [],
   "source": [
    "# The score of .864 shows that the model is accurate approximately 86% of the time.Or, we can say that \n",
    "# this model predicts the price of diamonds 86.4% times which is really good model."
   ]
  },
  {
   "cell_type": "markdown",
   "id": "e79b79cc",
   "metadata": {},
   "source": [
    "# Examining Error"
   ]
  },
  {
   "cell_type": "code",
   "execution_count": null,
   "id": "d9032678",
   "metadata": {},
   "outputs": [],
   "source": [
    "# The next way to determine model fit is to look at the error terms. This is just another way to quantify \n",
    "# the residuals - how close is our predicted data from the real data?\n",
    "# The main thing to know about interpreting error is that the smaller the error value, the better."
   ]
  },
  {
   "cell_type": "markdown",
   "id": "d1b1aa35",
   "metadata": {},
   "source": [
    "# 1. - Mean Absolute Error (MAE)"
   ]
  },
  {
   "cell_type": "code",
   "execution_count": 36,
   "id": "a8c42cfe",
   "metadata": {},
   "outputs": [
    {
     "data": {
      "text/plain": [
       "950.8667534683542"
      ]
     },
     "execution_count": 36,
     "metadata": {},
     "output_type": "execute_result"
    }
   ],
   "source": [
    "metrics.mean_absolute_error(y_test, predictions)"
   ]
  },
  {
   "cell_type": "markdown",
   "id": "df156245",
   "metadata": {},
   "source": [
    "# 2. - Mean Squared Error (MSE)"
   ]
  },
  {
   "cell_type": "code",
   "execution_count": 37,
   "id": "547b30d1",
   "metadata": {},
   "outputs": [
    {
     "data": {
      "text/plain": [
       "2178021.7011096003"
      ]
     },
     "execution_count": 37,
     "metadata": {},
     "output_type": "execute_result"
    }
   ],
   "source": [
    "metrics.mean_squared_error(y_test, predictions)"
   ]
  },
  {
   "cell_type": "markdown",
   "id": "f6ee21ca",
   "metadata": {},
   "source": [
    "# 3. - Root Mean Squared Error (RMSE)"
   ]
  },
  {
   "cell_type": "code",
   "execution_count": 39,
   "id": "f0a84695",
   "metadata": {},
   "outputs": [
    {
     "data": {
      "text/plain": [
       "1475.8122174279492"
      ]
     },
     "execution_count": 39,
     "metadata": {},
     "output_type": "execute_result"
    }
   ],
   "source": [
    "np.sqrt(metrics.mean_squared_error(y_test, predictions))"
   ]
  },
  {
   "cell_type": "markdown",
   "id": "25b0a6d1",
   "metadata": {},
   "source": [
    "# k-Fold Cross Validation in Python"
   ]
  },
  {
   "cell_type": "code",
   "execution_count": 40,
   "id": "ef565c5a",
   "metadata": {},
   "outputs": [],
   "source": [
    "# Import Packages\n",
    "\n",
    "# We will need from sklearn.model_selection the packages for KFold and for cross_val_score.\n",
    "\n",
    "from sklearn.model_selection import KFold\n",
    "from sklearn.model_selection import cross_val_score"
   ]
  },
  {
   "cell_type": "markdown",
   "id": "19b0c80d",
   "metadata": {},
   "source": [
    "# Create the Folds"
   ]
  },
  {
   "cell_type": "code",
   "execution_count": 41,
   "id": "932b1e97",
   "metadata": {},
   "outputs": [
    {
     "name": "stdout",
     "output_type": "stream",
     "text": [
      "train: [    0     1     2 ... 53937 53938 53939], test: [   10    12    23 ... 53906 53911 53913]\n",
      "train: [    0     1     4 ... 53936 53938 53939], test: [    2     3     8 ... 53934 53935 53937]\n",
      "train: [    1     2     3 ... 53937 53938 53939], test: [    0    26    29 ... 53922 53933 53936]\n",
      "train: [    0     2     3 ... 53937 53938 53939], test: [    1     4     5 ... 53927 53930 53931]\n",
      "train: [    0     1     2 ... 53935 53936 53937], test: [    9    14    15 ... 53929 53938 53939]\n"
     ]
    }
   ],
   "source": [
    "# By inputting the 5, we have chosen to have 5 iterations as per the HandsOn\n",
    "# Then the argument True means that we want your data to be shuffled. \n",
    "\n",
    "\n",
    "kfold = KFold(n_splits = 5, shuffle=True, random_state=1)\n",
    "for train, test in kfold.split(x,y):\n",
    "    print('train: %s, test: %s' % (train,test))"
   ]
  },
  {
   "cell_type": "code",
   "execution_count": 42,
   "id": "70d45d5f",
   "metadata": {},
   "outputs": [
    {
     "name": "stdout",
     "output_type": "stream",
     "text": [
      "[0.86718522 0.86206253 0.86509137 0.86437972 0.86091421]\n"
     ]
    }
   ],
   "source": [
    "print(cross_val_score(lm, x,y, cv=5))"
   ]
  },
  {
   "cell_type": "code",
   "execution_count": null,
   "id": "6c3a293e",
   "metadata": {},
   "outputs": [],
   "source": [
    "# Looks like the first trained model was accurate 87% of the time, while the second model was accurate 86% of \n",
    "# the time , the third model was accurate 87% of the time, the fourth trained model was accurate 86% of the time \n",
    "# and the fifth model was accurate 86% of times.\n",
    "\n",
    "# Using cross-validation, our model has now been thoroughly tested, we have created a rigorous model."
   ]
  }
 ],
 "metadata": {
  "kernelspec": {
   "display_name": "Python 3.9.9 64-bit",
   "language": "python",
   "name": "python399jvsc74a57bd050292dbb1f747f7151d445135d392af3138fb3c65386d17d9510cb605222b10b"
  },
  "language_info": {
   "codemirror_mode": {
    "name": "ipython",
    "version": 3
   },
   "file_extension": ".py",
   "mimetype": "text/x-python",
   "name": "python",
   "nbconvert_exporter": "python",
   "pygments_lexer": "ipython3",
   "version": "3.9.9"
  }
 },
 "nbformat": 4,
 "nbformat_minor": 5
}
