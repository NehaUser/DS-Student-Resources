{
 "cells": [
  {
   "cell_type": "markdown",
   "id": "b9e1ba4b",
   "metadata": {},
   "source": [
    "# Import Packages"
   ]
  },
  {
   "cell_type": "code",
   "execution_count": 61,
   "id": "14bfb8de",
   "metadata": {},
   "outputs": [],
   "source": [
    "import pandas as pd\n",
    "import numpy as np\n",
    "import matplotlib.pyplot as plt\n",
    "import seaborn as sns\n",
    "%matplotlib inline\n",
    "from sklearn.tree import DecisionTreeClassifier\n",
    "from sklearn.ensemble import RandomForestClassifier\n",
    "from sklearn.model_selection import train_test_split\n",
    "from sklearn.metrics import classification_report, confusion_matrix"
   ]
  },
  {
   "cell_type": "markdown",
   "id": "874fe554",
   "metadata": {},
   "source": [
    "# Load Data"
   ]
  },
  {
   "cell_type": "code",
   "execution_count": 50,
   "id": "87785fb5",
   "metadata": {},
   "outputs": [],
   "source": [
    "Titanic = sns.load_dataset('titanic')"
   ]
  },
  {
   "cell_type": "markdown",
   "id": "2079caf2",
   "metadata": {},
   "source": [
    "# Data Wrangling"
   ]
  },
  {
   "cell_type": "markdown",
   "id": "b612a192",
   "metadata": {},
   "source": [
    "## Drop the missing values"
   ]
  },
  {
   "cell_type": "code",
   "execution_count": 51,
   "id": "048ed98f",
   "metadata": {},
   "outputs": [],
   "source": [
    "# Drop the missing values\n",
    "\n",
    "Titanic.dropna(inplace=True)"
   ]
  },
  {
   "cell_type": "markdown",
   "id": "88abe9ef",
   "metadata": {},
   "source": [
    "## Recoding the string data"
   ]
  },
  {
   "cell_type": "code",
   "execution_count": 52,
   "id": "9c280e98",
   "metadata": {},
   "outputs": [],
   "source": [
    "# Recoding embark_town to R_embark_town\n",
    "\n",
    "\n",
    "def town_recode(town):\n",
    "    if town == \"Southampton\":\n",
    "        return 0\n",
    "    if town == \"Cherbourg\":\n",
    "        return 1\n",
    "    if town == \"Queenstown\":\n",
    "        return 2\n",
    "    \n",
    "Titanic['R_embark_town'] = Titanic['embark_town'].apply(town_recode)"
   ]
  },
  {
   "cell_type": "code",
   "execution_count": 53,
   "id": "0c238cd2",
   "metadata": {},
   "outputs": [],
   "source": [
    "# Recoding sex to SexM0F1\n",
    "\n",
    "def sex_recode(MorF):\n",
    "    if MorF == \"male\":\n",
    "        return 0\n",
    "    if MorF == \"female\":\n",
    "        return 1\n",
    "    \n",
    "Titanic['SexM0F1'] = Titanic['sex'].apply(sex_recode)\n"
   ]
  },
  {
   "cell_type": "code",
   "execution_count": 54,
   "id": "905776ee",
   "metadata": {},
   "outputs": [],
   "source": [
    "# Recoding deck to R_deck\n",
    "\n",
    "Titanic.deck.value_counts()\n",
    "\n",
    "def deck_recode(deckval):\n",
    "    if deckval == \"C\":\n",
    "        return 0\n",
    "    if deckval == \"B\":\n",
    "        return 1\n",
    "    if deckval == \"D\":\n",
    "        return 2\n",
    "    if deckval == \"E\":\n",
    "        return 3\n",
    "    if deckval == \"A\":\n",
    "        return 4\n",
    "    if deckval == \"F\":\n",
    "        return 5\n",
    "    if deckval == \"G\":\n",
    "        return 6\n",
    "    \n",
    "Titanic['R_deck'] = Titanic['deck'].apply(deck_recode)\n",
    "\n"
   ]
  },
  {
   "cell_type": "markdown",
   "id": "f298d08a",
   "metadata": {},
   "source": [
    "## Trimming the data to keep useful variables/ Drop any variables that are redundant.\n"
   ]
  },
  {
   "cell_type": "code",
   "execution_count": 55,
   "id": "4e182067",
   "metadata": {},
   "outputs": [],
   "source": [
    "TitanicTrimmed = Titanic.drop(['sex','embarked','class','who','adult_male','deck','embark_town','survived','alone'], axis=1)\n"
   ]
  },
  {
   "cell_type": "markdown",
   "id": "ebc35fa5",
   "metadata": {},
   "source": [
    "## Changing float to int"
   ]
  },
  {
   "cell_type": "code",
   "execution_count": 45,
   "id": "f098756d",
   "metadata": {},
   "outputs": [
    {
     "name": "stdout",
     "output_type": "stream",
     "text": [
      "<class 'pandas.core.frame.DataFrame'>\n",
      "Int64Index: 182 entries, 1 to 889\n",
      "Data columns (total 9 columns):\n",
      " #   Column         Non-Null Count  Dtype   \n",
      "---  ------         --------------  -----   \n",
      " 0   survived       182 non-null    int64   \n",
      " 1   pclass         182 non-null    int64   \n",
      " 2   age            182 non-null    float64 \n",
      " 3   sibsp          182 non-null    int64   \n",
      " 4   parch          182 non-null    int64   \n",
      " 5   fare           182 non-null    float64 \n",
      " 6   R_embark_town  182 non-null    int64   \n",
      " 7   SexM0F1        182 non-null    int64   \n",
      " 8   R_deck         182 non-null    category\n",
      "dtypes: category(1), float64(2), int64(6)\n",
      "memory usage: 13.3 KB\n"
     ]
    }
   ],
   "source": [
    "TitanicTrimmed.info()"
   ]
  },
  {
   "cell_type": "code",
   "execution_count": 56,
   "id": "f027cda2",
   "metadata": {},
   "outputs": [],
   "source": [
    "TitanicTrimmed.R_deck = TitanicTrimmed.R_deck.astype(int)\n",
    "TitanicTrimmed.age = TitanicTrimmed.age.astype(int)\n",
    "TitanicTrimmed.fare = TitanicTrimmed.fare.astype(int)\n",
    "TitanicTrimmed.R_embark_town = TitanicTrimmed.R_embark_town.astype(int)\n"
   ]
  },
  {
   "cell_type": "code",
   "execution_count": 57,
   "id": "eaf2bfb6",
   "metadata": {},
   "outputs": [
    {
     "data": {
      "text/html": [
       "<div>\n",
       "<style scoped>\n",
       "    .dataframe tbody tr th:only-of-type {\n",
       "        vertical-align: middle;\n",
       "    }\n",
       "\n",
       "    .dataframe tbody tr th {\n",
       "        vertical-align: top;\n",
       "    }\n",
       "\n",
       "    .dataframe thead th {\n",
       "        text-align: right;\n",
       "    }\n",
       "</style>\n",
       "<table border=\"1\" class=\"dataframe\">\n",
       "  <thead>\n",
       "    <tr style=\"text-align: right;\">\n",
       "      <th></th>\n",
       "      <th>pclass</th>\n",
       "      <th>age</th>\n",
       "      <th>sibsp</th>\n",
       "      <th>parch</th>\n",
       "      <th>fare</th>\n",
       "      <th>alive</th>\n",
       "      <th>R_embark_town</th>\n",
       "      <th>SexM0F1</th>\n",
       "      <th>R_deck</th>\n",
       "    </tr>\n",
       "  </thead>\n",
       "  <tbody>\n",
       "    <tr>\n",
       "      <th>1</th>\n",
       "      <td>1</td>\n",
       "      <td>38</td>\n",
       "      <td>1</td>\n",
       "      <td>0</td>\n",
       "      <td>71</td>\n",
       "      <td>yes</td>\n",
       "      <td>1</td>\n",
       "      <td>1</td>\n",
       "      <td>0</td>\n",
       "    </tr>\n",
       "    <tr>\n",
       "      <th>3</th>\n",
       "      <td>1</td>\n",
       "      <td>35</td>\n",
       "      <td>1</td>\n",
       "      <td>0</td>\n",
       "      <td>53</td>\n",
       "      <td>yes</td>\n",
       "      <td>0</td>\n",
       "      <td>1</td>\n",
       "      <td>0</td>\n",
       "    </tr>\n",
       "    <tr>\n",
       "      <th>6</th>\n",
       "      <td>1</td>\n",
       "      <td>54</td>\n",
       "      <td>0</td>\n",
       "      <td>0</td>\n",
       "      <td>51</td>\n",
       "      <td>no</td>\n",
       "      <td>0</td>\n",
       "      <td>0</td>\n",
       "      <td>3</td>\n",
       "    </tr>\n",
       "    <tr>\n",
       "      <th>10</th>\n",
       "      <td>3</td>\n",
       "      <td>4</td>\n",
       "      <td>1</td>\n",
       "      <td>1</td>\n",
       "      <td>16</td>\n",
       "      <td>yes</td>\n",
       "      <td>0</td>\n",
       "      <td>1</td>\n",
       "      <td>6</td>\n",
       "    </tr>\n",
       "    <tr>\n",
       "      <th>11</th>\n",
       "      <td>1</td>\n",
       "      <td>58</td>\n",
       "      <td>0</td>\n",
       "      <td>0</td>\n",
       "      <td>26</td>\n",
       "      <td>yes</td>\n",
       "      <td>0</td>\n",
       "      <td>1</td>\n",
       "      <td>0</td>\n",
       "    </tr>\n",
       "  </tbody>\n",
       "</table>\n",
       "</div>"
      ],
      "text/plain": [
       "    pclass  age  sibsp  parch  fare alive  R_embark_town  SexM0F1  R_deck\n",
       "1        1   38      1      0    71   yes              1        1       0\n",
       "3        1   35      1      0    53   yes              0        1       0\n",
       "6        1   54      0      0    51    no              0        0       3\n",
       "10       3    4      1      1    16   yes              0        1       6\n",
       "11       1   58      0      0    26   yes              0        1       0"
      ]
     },
     "execution_count": 57,
     "metadata": {},
     "output_type": "execute_result"
    }
   ],
   "source": [
    "TitanicTrimmed.head()"
   ]
  },
  {
   "cell_type": "markdown",
   "id": "5190df38",
   "metadata": {},
   "source": [
    "# PART 1\n",
    "## Create a decision tree model of the Titanic dataset that predicts survival from seaborn."
   ]
  },
  {
   "cell_type": "code",
   "execution_count": 58,
   "id": "3cbadfaf",
   "metadata": {},
   "outputs": [],
   "source": [
    "# Question Set Up \n",
    "\n",
    "# The next step is to specify your x and y variables using subsetting.\n",
    "# y is the column you are predicting, and x is everything you are using to predict it.\n",
    "\n",
    "x = TitanicTrimmed[['pclass', 'age', 'sibsp', 'parch', 'fare', 'R_embark_town', 'SexM0F1', 'R_deck']]\n",
    "y = TitanicTrimmed['alive']"
   ]
  },
  {
   "cell_type": "markdown",
   "id": "20afbb3a",
   "metadata": {},
   "source": [
    "## Train Test Split"
   ]
  },
  {
   "cell_type": "code",
   "execution_count": 59,
   "id": "bb47e84c",
   "metadata": {},
   "outputs": [],
   "source": [
    "x_train, x_test, y_train, y_test = train_test_split(x,y, test_size=0.3, random_state=76)"
   ]
  },
  {
   "cell_type": "markdown",
   "id": "67641628",
   "metadata": {},
   "source": [
    "## Create Initial Decision Tree"
   ]
  },
  {
   "cell_type": "code",
   "execution_count": 62,
   "id": "410517e5",
   "metadata": {},
   "outputs": [
    {
     "data": {
      "text/plain": [
       "DecisionTreeClassifier(random_state=76)"
      ]
     },
     "execution_count": 62,
     "metadata": {},
     "output_type": "execute_result"
    }
   ],
   "source": [
    "# To do this, utilize the DecisionTreeClassifier() function and then fit() the model. \n",
    "\n",
    "decisionTree = DecisionTreeClassifier(random_state=76)\n",
    "decisionTree.fit(x_train, y_train)"
   ]
  },
  {
   "cell_type": "markdown",
   "id": "7318ab3b",
   "metadata": {},
   "source": [
    "## Assess the model"
   ]
  },
  {
   "cell_type": "code",
   "execution_count": 63,
   "id": "5fd4fbee",
   "metadata": {},
   "outputs": [
    {
     "name": "stdout",
     "output_type": "stream",
     "text": [
      "['yes' 'yes' 'yes' 'no' 'yes' 'no' 'no' 'no' 'no' 'yes' 'yes' 'yes' 'yes'\n",
      " 'no' 'yes' 'no' 'yes' 'no' 'yes' 'no' 'yes' 'yes' 'yes' 'yes' 'yes' 'no'\n",
      " 'no' 'no' 'yes' 'no' 'yes' 'yes' 'yes' 'no' 'yes' 'yes' 'no' 'yes' 'no'\n",
      " 'yes' 'yes' 'yes' 'no' 'yes' 'yes' 'yes' 'yes' 'no' 'yes' 'yes' 'no'\n",
      " 'yes' 'yes' 'yes' 'yes']\n"
     ]
    }
   ],
   "source": [
    "# Now that the data is fit, the next step is to create a set of predictions and interpret the results.\n",
    "\n",
    "treePredictions = decisionTree.predict(x_test)\n",
    "print(treePredictions)\n"
   ]
  },
  {
   "cell_type": "code",
   "execution_count": 64,
   "id": "23a8edc7",
   "metadata": {},
   "outputs": [
    {
     "name": "stdout",
     "output_type": "stream",
     "text": [
      "[[12  7]\n",
      " [ 7 29]]\n"
     ]
    }
   ],
   "source": [
    "# the above output is hard to understand.\n",
    "# We'll call on the functions confusion_matrix() and classification_report(). \n",
    "\n",
    "print(confusion_matrix(y_test, treePredictions))"
   ]
  },
  {
   "cell_type": "code",
   "execution_count": null,
   "id": "b842a4bf",
   "metadata": {},
   "outputs": [],
   "source": [
    "# Alive   No (actual)\t Yes (actual)\n",
    "# No (predicted)\t12\t7\n",
    "# Yes (predicted)\t7\t29\n",
    "\n",
    "# So what this means is that 12 were correctly classified as Dead. \n",
    "# There were 7 misclassifications. 29 were correctly classified as Alive, with 7 accidentally\n",
    "# being misclassified as Dead. "
   ]
  },
  {
   "cell_type": "markdown",
   "id": "e9076aab",
   "metadata": {},
   "source": [
    "## How Well Does your Model Fit?"
   ]
  },
  {
   "cell_type": "code",
   "execution_count": 65,
   "id": "26e400e0",
   "metadata": {},
   "outputs": [
    {
     "name": "stdout",
     "output_type": "stream",
     "text": [
      "              precision    recall  f1-score   support\n",
      "\n",
      "          no       0.63      0.63      0.63        19\n",
      "         yes       0.81      0.81      0.81        36\n",
      "\n",
      "    accuracy                           0.75        55\n",
      "   macro avg       0.72      0.72      0.72        55\n",
      "weighted avg       0.75      0.75      0.75        55\n",
      "\n"
     ]
    }
   ],
   "source": [
    "print(classification_report(y_test, treePredictions))"
   ]
  },
  {
   "cell_type": "code",
   "execution_count": null,
   "id": "359b8da6",
   "metadata": {},
   "outputs": [],
   "source": [
    "# The precision column here tells 63% accurate in predicting Dead people, \n",
    "# and was 81% accurate in predicting the Alive population. Also looking at the weighted avg row\n",
    "# for precision, which gives an overall value of 75%.\n"
   ]
  },
  {
   "cell_type": "markdown",
   "id": "ccfb8ce3",
   "metadata": {},
   "source": [
    "# Part 2"
   ]
  },
  {
   "cell_type": "markdown",
   "id": "30c99e2b",
   "metadata": {},
   "source": [
    "## Now create a random forest model of the Titanic dataset that predicts survival."
   ]
  },
  {
   "cell_type": "markdown",
   "id": "2a4cef2f",
   "metadata": {},
   "source": [
    "## Initial Random Forest Model"
   ]
  },
  {
   "cell_type": "code",
   "execution_count": 66,
   "id": "c595c0ad",
   "metadata": {},
   "outputs": [
    {
     "data": {
      "text/plain": [
       "RandomForestClassifier(n_estimators=500, random_state=76)"
      ]
     },
     "execution_count": 66,
     "metadata": {},
     "output_type": "execute_result"
    }
   ],
   "source": [
    "# We'll use the function RandomForestClassifer(), with the arguments n_estimators= to specify how many \n",
    "# decision trees we want the random forest to stem from, and of course random_state= just to follow along \n",
    "# with this content:\n",
    "\n",
    "forest = RandomForestClassifier(n_estimators=500, random_state=76)\n",
    "forest.fit(x_train, y_train)"
   ]
  },
  {
   "cell_type": "markdown",
   "id": "89da1c4b",
   "metadata": {},
   "source": [
    "## Evaluate Model Fit"
   ]
  },
  {
   "cell_type": "code",
   "execution_count": 67,
   "id": "850cbc35",
   "metadata": {},
   "outputs": [
    {
     "name": "stdout",
     "output_type": "stream",
     "text": [
      "[[12  7]\n",
      " [ 6 30]]\n",
      "              precision    recall  f1-score   support\n",
      "\n",
      "          no       0.67      0.63      0.65        19\n",
      "         yes       0.81      0.83      0.82        36\n",
      "\n",
      "    accuracy                           0.76        55\n",
      "   macro avg       0.74      0.73      0.74        55\n",
      "weighted avg       0.76      0.76      0.76        55\n",
      "\n"
     ]
    }
   ],
   "source": [
    "# The final step is to create our prediction set and print a report! \n",
    "\n",
    "forestPredictions = forest.predict(x_test)\n",
    "print(confusion_matrix(y_test, forestPredictions))\n",
    "print(classification_report(y_test, forestPredictions))"
   ]
  },
  {
   "cell_type": "code",
   "execution_count": null,
   "id": "007bde03",
   "metadata": {},
   "outputs": [],
   "source": [
    "# The output above shows that both the methods give almost the same results for the Titanic dataset; \n",
    "# Random Forest being a little better.\n",
    "# there's an improvement in predicting the survived. \n",
    "\n",
    "# The confusion matrix tells us\n",
    "# So what this means is that 12 were correctly classified as Dead. \n",
    "# There were 7 misclassifications. 30 were correctly classified as Alive, with 6 accidentally\n",
    "# being misclassified as Dead. \n",
    "\n",
    "# The precision column here tells 67% accurate in predicting Dead people, \n",
    "# and was 81% accurate in predicting the Alive population. Also looking at the weighted avg row\n",
    "# for precision, which gives an overall value of 76%.\n"
   ]
  }
 ],
 "metadata": {
  "kernelspec": {
   "display_name": "Python 3.9.9 64-bit",
   "language": "python",
   "name": "python399jvsc74a57bd050292dbb1f747f7151d445135d392af3138fb3c65386d17d9510cb605222b10b"
  },
  "language_info": {
   "codemirror_mode": {
    "name": "ipython",
    "version": 3
   },
   "file_extension": ".py",
   "mimetype": "text/x-python",
   "name": "python",
   "nbconvert_exporter": "python",
   "pygments_lexer": "ipython3",
   "version": "3.9.9"
  }
 },
 "nbformat": 4,
 "nbformat_minor": 5
}
