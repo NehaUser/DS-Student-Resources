{
 "cells": [
  {
   "cell_type": "markdown",
   "id": "acac3cfe",
   "metadata": {},
   "source": [
    "# Import Packages"
   ]
  },
  {
   "cell_type": "code",
   "execution_count": 10,
   "id": "7a80d3ab",
   "metadata": {},
   "outputs": [],
   "source": [
    "import pandas as pd\n",
    "import numpy as np\n",
    "import matplotlib.pyplot as plt\n",
    "import seaborn as sns\n",
    "%matplotlib inline\n",
    "from sklearn.ensemble import RandomForestClassifier\n",
    "from sklearn.model_selection import train_test_split\n",
    "from sklearn.metrics import classification_report, confusion_matrix\n",
    "from sklearn.model_selection import RandomizedSearchCV\n",
    "from sklearn.metrics import accuracy_score\n"
   ]
  },
  {
   "cell_type": "markdown",
   "id": "685294a4",
   "metadata": {},
   "source": [
    "# Load Data"
   ]
  },
  {
   "cell_type": "code",
   "execution_count": 11,
   "id": "292dca75",
   "metadata": {},
   "outputs": [],
   "source": [
    "iris = sns.load_dataset('iris')"
   ]
  },
  {
   "cell_type": "markdown",
   "id": "66b3fb82",
   "metadata": {},
   "source": [
    "# Data Wrangling"
   ]
  },
  {
   "cell_type": "code",
   "execution_count": 12,
   "id": "f1202361",
   "metadata": {},
   "outputs": [],
   "source": [
    "x = iris.drop('species', axis=1)\n",
    "y = iris['species']"
   ]
  },
  {
   "cell_type": "markdown",
   "id": "baae4c9e",
   "metadata": {},
   "source": [
    "# Train Test Split"
   ]
  },
  {
   "cell_type": "code",
   "execution_count": 13,
   "id": "1fffd20b",
   "metadata": {},
   "outputs": [],
   "source": [
    "x_train, x_test, y_train, y_test = train_test_split(x,y, test_size=0.3, random_state=76)\n",
    "\n"
   ]
  },
  {
   "cell_type": "markdown",
   "id": "21f3f2f4",
   "metadata": {},
   "source": [
    "# Number of Estimators"
   ]
  },
  {
   "cell_type": "code",
   "execution_count": 2,
   "id": "e109e141",
   "metadata": {},
   "outputs": [],
   "source": [
    "#The first thing you want to do is determine how many trees you should be using, which is the number of estimators.\n",
    "# The code below will help you find the best number of estimators based on the accuracy of the model. \n",
    "# Remember that an accuracy of 1 is the highest you can get, so the closer you get to one, the better.\n",
    "\n",
    "# You can create an array that contains the most likely number of estimators, which is what is shown in the \n",
    " #first line. While you could put any numbers in this array, these typically get used frequently in ML. \n",
    "    # Then you'll create an empty list named results that will end up filled using a for loop!\n",
    "\n",
    " # And lastly, on to the for loop itself! This iterates over your n_estimators_array and creates a random forest\n",
    " #for each, prints out the accuracy for each, and finally adds it to your results list. So you don't have to \n",
    "    # test everything manually! The very last line in the for loop prints out each result as it becomes available. \n",
    "    # Depending on how fast your computer is, this code may take a minute (you are doing 11 random forests,\n",
    "    # after all!) and you can see the results come up in real time. Pretty cool!\n",
    "\n"
   ]
  },
  {
   "cell_type": "code",
   "execution_count": 14,
   "id": "4fe4fae6",
   "metadata": {},
   "outputs": [
    {
     "name": "stdout",
     "output_type": "stream",
     "text": [
      "1 : 0.9111111111111111\n",
      "4 : 0.9555555555555556\n",
      "5 : 0.9333333333333333\n",
      "8 : 0.9555555555555556\n",
      "10 : 0.9777777777777777\n",
      "20 : 0.9555555555555556\n",
      "50 : 0.9555555555555556\n",
      "75 : 0.9555555555555556\n",
      "100 : 0.9555555555555556\n",
      "250 : 0.9555555555555556\n",
      "500 : 0.9555555555555556\n"
     ]
    }
   ],
   "source": [
    "n_estimators_array = [1, 4, 5, 8, 10, 20, 50, 75, 100, 250, 500]\n",
    "results = []\n",
    "for n in n_estimators_array:\n",
    "    forest = RandomForestClassifier(n_estimators=n, random_state=76)\n",
    "    forest.fit(x_train, y_train)\n",
    "    result = accuracy_score(y_test, forest.predict(x_test))\n",
    "    results.append(result) \n",
    "    print(n, ':', result)"
   ]
  },
  {
   "cell_type": "code",
   "execution_count": 15,
   "id": "41d8982b",
   "metadata": {},
   "outputs": [
    {
     "data": {
      "text/plain": [
       "[<matplotlib.lines.Line2D at 0x14ffa6a30>]"
      ]
     },
     "execution_count": 15,
     "metadata": {},
     "output_type": "execute_result"
    },
    {
     "data": {
      "image/png": "[encoded data removed]",
      "text/plain": [
       "<Figure size 432x288 with 1 Axes>"
      ]
     },
     "metadata": {
      "needs_background": "light"
     },
     "output_type": "display_data"
    }
   ],
   "source": [
    "# So it looks like the best accuracy arises when you use only 10 trees instead of the standard 500! Good to know.\n",
    "\n",
    "# If you wanted a visual representation of this, that can be done too with your good old plt() function!\n",
    "\n",
    "plt.plot(n_estimators_array, results)"
   ]
  },
  {
   "cell_type": "code",
   "execution_count": null,
   "id": "6d0bdd80",
   "metadata": {},
   "outputs": [],
   "source": [
    "#You really get a sense from this graph that things have completely stagnated before 100 trees, \n",
    "# so it certainly is a waste of processing power to request 500!\n",
    "\n"
   ]
  },
  {
   "cell_type": "markdown",
   "id": "a10b890e",
   "metadata": {},
   "source": [
    "# Tuning the Remaining Three"
   ]
  },
  {
   "cell_type": "code",
   "execution_count": null,
   "id": "68d7e235",
   "metadata": {},
   "outputs": [],
   "source": [
    "# there is an easier way to find the best hyperparameter values without having to go through each.\n",
    "# You can automate it and find em' all in one whack with the RandomizedSearchCV library. \n",
    "# Although you'll be doing this just with random forests right now, this library will work with any algorithm \n",
    "# in the sklearn library!They've thrown in cross-validation for the accuracy calculations as well!\n",
    "\n",
    "# Below you are creating lists with all the hyperparameter values you want to trial. \n",
    "# There is one for each of the remaining three features, named: max_features, max_depth, and min_samples_leaf. \n",
    "# Then, you'll create a dictionary with the hyperparameter names as the keys and the list variables as the values.\n",
    "# This is called a grid and is aptly named random_grid.\n",
    "\n"
   ]
  },
  {
   "cell_type": "code",
   "execution_count": 16,
   "id": "96d50ff1",
   "metadata": {},
   "outputs": [
    {
     "name": "stdout",
     "output_type": "stream",
     "text": [
      "{'max_features': ['auto', None, 'log2'], 'max_depth': [10, 20, 30, 40, 50, 60, 70, 80, 90, None], 'min_samples_leaf': [1, 2, 4]}\n"
     ]
    }
   ],
   "source": [
    "# Number of features to consider at every split\n",
    "max_features = ['auto', None, 'log2']\n",
    "# Maximum number of levels in tree\n",
    "max_depth = [10, 20, 30, 40, 50, 60, 70, 80, 90, None]\n",
    "# Minimum number of samples required at each leaf node\n",
    "min_samples_leaf = [1, 2, 4]\n",
    "# Method of selecting samples for training each tree\n",
    "random_grid = {'max_features': max_features,\n",
    "               'max_depth': max_depth,\n",
    "               'min_samples_leaf': min_samples_leaf}\n",
    "print(random_grid)"
   ]
  },
  {
   "cell_type": "code",
   "execution_count": 17,
   "id": "1911bedd",
   "metadata": {},
   "outputs": [],
   "source": [
    "# So nothing has actually happened yet - but you're prepared for the next move, which is to initialize one\n",
    "# random forest for every one of those hyperparameters in the random_grid. Since you know that you only want\n",
    "# ten trees, the first line sets up a random forest model with that.\n",
    "\n",
    "# The next line of code gives you a random search of the random_grid you created using the function \n",
    "# RandomizedSearchCV(). The arguments for that function include the estimator=, which is what you've named \n",
    "# your latest iteration of the random forest with only ten estimators, the param_distributions= argument, \n",
    "# which is where you plug in the random_grid dictionary, n_iter=, which is the number of iterations, or times to\n",
    "# complete the random forest, and lastly, the cv= argument, which allows you to choose how many folds you'd \n",
    "# like in your cross validation. The random_state= argument is not required to run code, but including it means \n",
    "# that your results should be the same as those in the lesson.\n",
    "\n",
    "rf = RandomForestClassifier(n_estimators=10)\n",
    "rf_random = RandomizedSearchCV(estimator = rf, param_distributions = random_grid, n_iter = 90, cv = 3, random_state=42)"
   ]
  },
  {
   "cell_type": "code",
   "execution_count": 18,
   "id": "e7f3f1d0",
   "metadata": {},
   "outputs": [
    {
     "data": {
      "text/plain": [
       "RandomizedSearchCV(cv=3, estimator=RandomForestClassifier(n_estimators=10),\n",
       "                   n_iter=90,\n",
       "                   param_distributions={'max_depth': [10, 20, 30, 40, 50, 60,\n",
       "                                                      70, 80, 90, None],\n",
       "                                        'max_features': ['auto', None, 'log2'],\n",
       "                                        'min_samples_leaf': [1, 2, 4]},\n",
       "                   random_state=42)"
      ]
     },
     "execution_count": 18,
     "metadata": {},
     "output_type": "execute_result"
    }
   ],
   "source": [
    "# With that created, it's time to fit!\n",
    "\n",
    "rf_random.fit(x_train, y_train)"
   ]
  },
  {
   "cell_type": "code",
   "execution_count": 19,
   "id": "befcae8f",
   "metadata": {},
   "outputs": [
    {
     "data": {
      "text/plain": [
       "{'min_samples_leaf': 4, 'max_features': 'auto', 'max_depth': 50}"
      ]
     },
     "execution_count": 19,
     "metadata": {},
     "output_type": "execute_result"
    }
   ],
   "source": [
    "# It basically just tells you what it did, which is not particularly helpful. \n",
    "# What would be helpful is knowing which hyperparameter produced the best accuracy. But that isn't possible, is it?\n",
    "\n",
    "# It is! Try this line of code out!\n",
    "\n",
    "rf_random.best_params_"
   ]
  },
  {
   "cell_type": "code",
   "execution_count": null,
   "id": "9870f40e",
   "metadata": {},
   "outputs": [],
   "source": [
    "# This means that the model with the best accuracy has at least 4 samples per leaf, leaves the max features setting on auto, and has a maximum depth of 30 decision points. Pretty nifty! Now all you need to do is run one last random forest that actually has those parameters! This is relatively plug-and-play here, since in your random grid search code, you used approximately the same names."
   ]
  },
  {
   "cell_type": "code",
   "execution_count": 20,
   "id": "76b033c8",
   "metadata": {},
   "outputs": [
    {
     "data": {
      "text/plain": [
       "RandomForestClassifier(max_depth=30, min_samples_leaf=4, n_estimators=10)"
      ]
     },
     "execution_count": 20,
     "metadata": {},
     "output_type": "execute_result"
    }
   ],
   "source": [
    "forest = RandomForestClassifier(n_estimators=10, min_samples_leaf=4, max_features=\"auto\", max_depth=30)\n",
    "forest.fit(x_train, y_train)"
   ]
  },
  {
   "cell_type": "code",
   "execution_count": null,
   "id": "89af064c",
   "metadata": {},
   "outputs": [],
   "source": [
    "# Running the above code just tells you the details of the model:"
   ]
  },
  {
   "cell_type": "code",
   "execution_count": 21,
   "id": "ee6d6598",
   "metadata": {},
   "outputs": [
    {
     "data": {
      "text/plain": [
       "RandomForestClassifier(max_depth=30, min_samples_leaf=4, n_estimators=10)"
      ]
     },
     "execution_count": 21,
     "metadata": {},
     "output_type": "execute_result"
    }
   ],
   "source": [
    "RandomForestClassifier(max_depth=30, min_samples_leaf=4, n_estimators=10)\n"
   ]
  },
  {
   "cell_type": "code",
   "execution_count": null,
   "id": "68261ab9",
   "metadata": {},
   "outputs": [],
   "source": [
    "# But if you want the details you can use the same prediction and classification report info as before, but with your new and improved model:"
   ]
  },
  {
   "cell_type": "code",
   "execution_count": 22,
   "id": "775279b8",
   "metadata": {},
   "outputs": [
    {
     "name": "stdout",
     "output_type": "stream",
     "text": [
      "[[19  0  0]\n",
      " [ 0 11  2]\n",
      " [ 0  1 12]]\n",
      "              precision    recall  f1-score   support\n",
      "\n",
      "      setosa       1.00      1.00      1.00        19\n",
      "  versicolor       0.92      0.85      0.88        13\n",
      "   virginica       0.86      0.92      0.89        13\n",
      "\n",
      "    accuracy                           0.93        45\n",
      "   macro avg       0.92      0.92      0.92        45\n",
      "weighted avg       0.93      0.93      0.93        45\n",
      "\n"
     ]
    }
   ],
   "source": [
    "forestPredictions = forest.predict(x_test)\n",
    "print(confusion_matrix(y_test, forestPredictions))\n",
    "print(classification_report(y_test, forestPredictions))"
   ]
  },
  {
   "cell_type": "code",
   "execution_count": null,
   "id": "ca2ef6d4",
   "metadata": {},
   "outputs": [],
   "source": [
    "# Looking good here! Overall accuracy is 95% weighted."
   ]
  },
  {
   "cell_type": "markdown",
   "id": "de6b7bf6",
   "metadata": {},
   "source": [
    "# Next Lesson - Feature Importance"
   ]
  },
  {
   "cell_type": "markdown",
   "id": "c786e680",
   "metadata": {},
   "source": [
    "## Feature Importance"
   ]
  },
  {
   "cell_type": "code",
   "execution_count": 23,
   "id": "7cea5ac4",
   "metadata": {},
   "outputs": [
    {
     "data": {
      "text/plain": [
       "sepal_length    0.133700\n",
       "sepal_width     0.007244\n",
       "petal_length    0.655831\n",
       "petal_width     0.203225\n",
       "dtype: float64"
      ]
     },
     "execution_count": 23,
     "metadata": {},
     "output_type": "execute_result"
    }
   ],
   "source": [
    "# determining the feature importance just means that you can figure out which variable makes more difference \n",
    "# to the prediction of the y.\n",
    "\n",
    "# Feature Importance in Python\n",
    "# It's a pretty quick and easy line of code to get feature importance! \n",
    "# They are outputs of your model, and so you just need to call them in a format that is useful.\n",
    "# You'll create a new variable called feature_importances that is formatted as a pandas series, using the \n",
    "# function pd.Series(). Then, you can call forest.feature_importances_, which by default is created when you \n",
    "# run forest. Lastly, for readability, you can index it with the argument index= and put in x.columns so that \n",
    "# the name of the column names in your dataset show on the left.\n",
    "\n",
    "feature_importances = pd.Series(forest.feature_importances_, index=x.columns)\n",
    "feature_importances"
   ]
  },
  {
   "cell_type": "code",
   "execution_count": 24,
   "id": "249b8064",
   "metadata": {},
   "outputs": [
    {
     "name": "stdout",
     "output_type": "stream",
     "text": [
      "petal_length    0.655831\n",
      "petal_width     0.203225\n",
      "sepal_length    0.133700\n",
      "sepal_width     0.007244\n",
      "dtype: float64\n"
     ]
    }
   ],
   "source": [
    "# The bigger, the better for feature importance. Wouldn't it be nice to see each of them in order of \n",
    "# feature importance, rather than in column order? Well, that can be arranged! The sort_values()\n",
    "# function will sort them. The inplace=True argument, like always, makes this change permanent, and \n",
    " #ascending=False means that this goes from largest to smallest, which is exactly what you'd like to see!\n",
    "    \n",
    "feature_importances.sort_values(inplace=True, ascending=False)\n",
    "print(feature_importances)"
   ]
  },
  {
   "cell_type": "code",
   "execution_count": null,
   "id": "51dc02a6",
   "metadata": {},
   "outputs": [],
   "source": [
    "# But wait! There's more! If you're someone visual, you can also graph this. "
   ]
  },
  {
   "cell_type": "code",
   "execution_count": 25,
   "id": "eae9c682",
   "metadata": {},
   "outputs": [
    {
     "data": {
      "text/plain": [
       "<AxesSubplot:>"
      ]
     },
     "execution_count": 25,
     "metadata": {},
     "output_type": "execute_result"
    },
    {
     "data": {
      "image/png": "[encoded data removed]",
      "text/plain": [
       "<Figure size 504x432 with 1 Axes>"
      ]
     },
     "metadata": {
      "needs_background": "light"
     },
     "output_type": "display_data"
    }
   ],
   "source": [
    "feature_importances.plot(kind='barh', figsize=(7,6))"
   ]
  },
  {
   "cell_type": "code",
   "execution_count": null,
   "id": "fc4063f7",
   "metadata": {},
   "outputs": [],
   "source": []
  }
 ],
 "metadata": {
  "kernelspec": {
   "display_name": "Python 3.9.9 64-bit",
   "language": "python",
   "name": "python399jvsc74a57bd050292dbb1f747f7151d445135d392af3138fb3c65386d17d9510cb605222b10b"
  },
  "language_info": {
   "codemirror_mode": {
    "name": "ipython",
    "version": 3
   },
   "file_extension": ".py",
   "mimetype": "text/x-python",
   "name": "python",
   "nbconvert_exporter": "python",
   "pygments_lexer": "ipython3",
   "version": "3.9.9"
  }
 },
 "nbformat": 4,
 "nbformat_minor": 5
}
