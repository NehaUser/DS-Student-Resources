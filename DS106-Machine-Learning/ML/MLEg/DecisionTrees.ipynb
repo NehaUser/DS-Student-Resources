{
 "cells": [
  {
   "cell_type": "markdown",
   "id": "b23956f7",
   "metadata": {},
   "source": [
    "# Import Packages"
   ]
  },
  {
   "cell_type": "code",
   "execution_count": 1,
   "id": "c2359274",
   "metadata": {},
   "outputs": [],
   "source": [
    "import pandas as pd\n",
    "import numpy as np\n",
    "import matplotlib.pyplot as plt\n",
    "import seaborn as sns\n",
    "%matplotlib inline\n",
    "from sklearn.model_selection import train_test_split\n",
    "from sklearn.tree import DecisionTreeClassifier\n",
    "from sklearn.metrics import classification_report, confusion_matrix, accuracy_score"
   ]
  },
  {
   "cell_type": "markdown",
   "id": "fa8ef350",
   "metadata": {},
   "source": [
    "# Load Data"
   ]
  },
  {
   "cell_type": "code",
   "execution_count": 2,
   "id": "66602fa2",
   "metadata": {},
   "outputs": [],
   "source": [
    "iris = sns.load_dataset('iris')"
   ]
  },
  {
   "cell_type": "code",
   "execution_count": 3,
   "id": "de898fcc",
   "metadata": {},
   "outputs": [
    {
     "data": {
      "text/html": [
       "<div>\n",
       "<style scoped>\n",
       "    .dataframe tbody tr th:only-of-type {\n",
       "        vertical-align: middle;\n",
       "    }\n",
       "\n",
       "    .dataframe tbody tr th {\n",
       "        vertical-align: top;\n",
       "    }\n",
       "\n",
       "    .dataframe thead th {\n",
       "        text-align: right;\n",
       "    }\n",
       "</style>\n",
       "<table border=\"1\" class=\"dataframe\">\n",
       "  <thead>\n",
       "    <tr style=\"text-align: right;\">\n",
       "      <th></th>\n",
       "      <th>sepal_length</th>\n",
       "      <th>sepal_width</th>\n",
       "      <th>petal_length</th>\n",
       "      <th>petal_width</th>\n",
       "      <th>species</th>\n",
       "    </tr>\n",
       "  </thead>\n",
       "  <tbody>\n",
       "    <tr>\n",
       "      <th>0</th>\n",
       "      <td>5.1</td>\n",
       "      <td>3.5</td>\n",
       "      <td>1.4</td>\n",
       "      <td>0.2</td>\n",
       "      <td>setosa</td>\n",
       "    </tr>\n",
       "    <tr>\n",
       "      <th>1</th>\n",
       "      <td>4.9</td>\n",
       "      <td>3.0</td>\n",
       "      <td>1.4</td>\n",
       "      <td>0.2</td>\n",
       "      <td>setosa</td>\n",
       "    </tr>\n",
       "    <tr>\n",
       "      <th>2</th>\n",
       "      <td>4.7</td>\n",
       "      <td>3.2</td>\n",
       "      <td>1.3</td>\n",
       "      <td>0.2</td>\n",
       "      <td>setosa</td>\n",
       "    </tr>\n",
       "    <tr>\n",
       "      <th>3</th>\n",
       "      <td>4.6</td>\n",
       "      <td>3.1</td>\n",
       "      <td>1.5</td>\n",
       "      <td>0.2</td>\n",
       "      <td>setosa</td>\n",
       "    </tr>\n",
       "    <tr>\n",
       "      <th>4</th>\n",
       "      <td>5.0</td>\n",
       "      <td>3.6</td>\n",
       "      <td>1.4</td>\n",
       "      <td>0.2</td>\n",
       "      <td>setosa</td>\n",
       "    </tr>\n",
       "  </tbody>\n",
       "</table>\n",
       "</div>"
      ],
      "text/plain": [
       "   sepal_length  sepal_width  petal_length  petal_width species\n",
       "0           5.1          3.5           1.4          0.2  setosa\n",
       "1           4.9          3.0           1.4          0.2  setosa\n",
       "2           4.7          3.2           1.3          0.2  setosa\n",
       "3           4.6          3.1           1.5          0.2  setosa\n",
       "4           5.0          3.6           1.4          0.2  setosa"
      ]
     },
     "execution_count": 3,
     "metadata": {},
     "output_type": "execute_result"
    }
   ],
   "source": [
    "iris.head()"
   ]
  },
  {
   "cell_type": "markdown",
   "id": "f9ec939d",
   "metadata": {},
   "source": [
    "# Data Wrangling\n"
   ]
  },
  {
   "cell_type": "code",
   "execution_count": 4,
   "id": "2752e262",
   "metadata": {},
   "outputs": [],
   "source": [
    "# The next step is to specify your x and y variables using subsetting.\n",
    "# y is the column you are predicting, and x is everything you are using to predict it.\n",
    "\n",
    "x = iris.drop('species', axis=1)\n",
    "y = iris['species']"
   ]
  },
  {
   "cell_type": "markdown",
   "id": "e4301731",
   "metadata": {},
   "source": [
    "# Train Test Split"
   ]
  },
  {
   "cell_type": "code",
   "execution_count": 5,
   "id": "6f0e796b",
   "metadata": {},
   "outputs": [],
   "source": [
    "# You will split the data into training and testing sets.\n",
    "# The train variables are creating your initial model, and the test variables are what you'll use to \n",
    "# determine the fit of the model. Note that just for following along, you will set the random_state to 76, \n",
    "# which is not necessary, but it will give you the same split as the example.\n",
    "\n",
    "x_train, x_test, y_train, y_test = train_test_split(x,y, test_size=0.3, random_state=76)"
   ]
  },
  {
   "cell_type": "markdown",
   "id": "97194f03",
   "metadata": {},
   "source": [
    "# Create Initial Decision Tree"
   ]
  },
  {
   "cell_type": "code",
   "execution_count": 6,
   "id": "f37dd3ea",
   "metadata": {},
   "outputs": [
    {
     "data": {
      "text/plain": [
       "DecisionTreeClassifier(random_state=76)"
      ]
     },
     "execution_count": 6,
     "metadata": {},
     "output_type": "execute_result"
    }
   ],
   "source": [
    "# Before you jump into the Random Forest, try a single decision tree.\n",
    "# To do this, utilize the DecisionTreeClassifier() function and then fit() the model. \n",
    "# Once more, to keep everyone on the same page, the random_state is 76.\n",
    "\n",
    "decisionTree = DecisionTreeClassifier(random_state=76)\n",
    "decisionTree.fit(x_train, y_train)"
   ]
  },
  {
   "cell_type": "markdown",
   "id": "3ca3da99",
   "metadata": {},
   "source": [
    "# Assess the model"
   ]
  },
  {
   "cell_type": "code",
   "execution_count": 9,
   "id": "c960ad8a",
   "metadata": {},
   "outputs": [
    {
     "name": "stdout",
     "output_type": "stream",
     "text": [
      "['setosa' 'versicolor' 'setosa' 'virginica' 'virginica' 'versicolor'\n",
      " 'setosa' 'virginica' 'versicolor' 'virginica' 'setosa' 'virginica'\n",
      " 'versicolor' 'versicolor' 'setosa' 'setosa' 'setosa' 'virginica'\n",
      " 'versicolor' 'setosa' 'versicolor' 'setosa' 'setosa' 'setosa' 'setosa'\n",
      " 'setosa' 'virginica' 'virginica' 'setosa' 'versicolor' 'virginica'\n",
      " 'versicolor' 'versicolor' 'virginica' 'versicolor' 'setosa' 'setosa'\n",
      " 'setosa' 'versicolor' 'virginica' 'virginica' 'virginica' 'virginica'\n",
      " 'setosa' 'setosa']\n"
     ]
    }
   ],
   "source": [
    "# Now that the data is fit, the next step is to create a set of predictions and interpret the results.\n",
    "# You can start by using the predict() function, and then you'll utilize the same confusion matrix and \n",
    "# classification report coding as you did last lesson.\n",
    "\n",
    "treePredictions = decisionTree.predict(x_test)\n",
    "print(treePredictions)\n"
   ]
  },
  {
   "cell_type": "code",
   "execution_count": null,
   "id": "2decab2d",
   "metadata": {},
   "outputs": [],
   "source": [
    "# the above output is hard to understand. So you can use some other sklearn tools to make this pretty and usable.\n",
    "# You'll call on the functions confusion_matrix() and classification_report(). Start with the confusion matrix:"
   ]
  },
  {
   "cell_type": "code",
   "execution_count": 10,
   "id": "536fb5bf",
   "metadata": {},
   "outputs": [
    {
     "name": "stdout",
     "output_type": "stream",
     "text": [
      "[[19  0  0]\n",
      " [ 0 10  3]\n",
      " [ 0  2 11]]\n"
     ]
    }
   ],
   "source": [
    "print(confusion_matrix(y_test, treePredictions))\n"
   ]
  },
  {
   "cell_type": "code",
   "execution_count": null,
   "id": "69372be8",
   "metadata": {},
   "outputs": [],
   "source": [
    "\n",
    "# setosa (actual)\tversicolor (actual)\tvirginica (actual)\n",
    "# setosa (predicted)\t19\t0\t0\n",
    "# versicolor (predicted)\t0\t10\t3\n",
    "# virginica (predicted)\t0\t2\t11\n"
   ]
  },
  {
   "cell_type": "markdown",
   "id": "2878d8ad",
   "metadata": {},
   "source": [
    "# How Well Does your Model Fit?"
   ]
  },
  {
   "cell_type": "code",
   "execution_count": 12,
   "id": "7c59fc03",
   "metadata": {},
   "outputs": [
    {
     "name": "stdout",
     "output_type": "stream",
     "text": [
      "              precision    recall  f1-score   support\n",
      "\n",
      "      setosa       1.00      1.00      1.00        19\n",
      "  versicolor       0.83      0.77      0.80        13\n",
      "   virginica       0.79      0.85      0.81        13\n",
      "\n",
      "    accuracy                           0.89        45\n",
      "   macro avg       0.87      0.87      0.87        45\n",
      "weighted avg       0.89      0.89      0.89        45\n",
      "\n"
     ]
    }
   ],
   "source": [
    "print(classification_report(y_test, treePredictions))"
   ]
  },
  {
   "cell_type": "code",
   "execution_count": 13,
   "id": "10faa812",
   "metadata": {},
   "outputs": [],
   "source": [
    "# So setosa was predicted with 100% precision, while versicolor was predicted with 83% accuracy and virginica \n",
    "# was predicted with 79% accuracy! Not too shabby, especially considering that you can predict the species of \n",
    "# the flower with 89% accuracy. "
   ]
  },
  {
   "cell_type": "code",
   "execution_count": null,
   "id": "d6822e10",
   "metadata": {},
   "outputs": [],
   "source": []
  }
 ],
 "metadata": {
  "kernelspec": {
   "display_name": "Python 3.9.9 64-bit",
   "language": "python",
   "name": "python399jvsc74a57bd050292dbb1f747f7151d445135d392af3138fb3c65386d17d9510cb605222b10b"
  },
  "language_info": {
   "codemirror_mode": {
    "name": "ipython",
    "version": 3
   },
   "file_extension": ".py",
   "mimetype": "text/x-python",
   "name": "python",
   "nbconvert_exporter": "python",
   "pygments_lexer": "ipython3",
   "version": "3.9.9"
  }
 },
 "nbformat": 4,
 "nbformat_minor": 5
}
