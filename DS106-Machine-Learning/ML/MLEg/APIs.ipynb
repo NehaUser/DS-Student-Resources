{
 "cells": [
  {
   "cell_type": "code",
   "execution_count": 1,
   "id": "7b2b31c7",
   "metadata": {},
   "outputs": [],
   "source": [
    "# Start by importing the quandl package\n",
    "\n",
    "import quandl"
   ]
  },
  {
   "cell_type": "code",
   "execution_count": 2,
   "id": "57b65259",
   "metadata": {},
   "outputs": [
    {
     "data": {
      "text/html": [
       "<div>\n",
       "<style scoped>\n",
       "    .dataframe tbody tr th:only-of-type {\n",
       "        vertical-align: middle;\n",
       "    }\n",
       "\n",
       "    .dataframe tbody tr th {\n",
       "        vertical-align: top;\n",
       "    }\n",
       "\n",
       "    .dataframe thead th {\n",
       "        text-align: right;\n",
       "    }\n",
       "</style>\n",
       "<table border=\"1\" class=\"dataframe\">\n",
       "  <thead>\n",
       "    <tr style=\"text-align: right;\">\n",
       "      <th></th>\n",
       "      <th>NSA Value</th>\n",
       "      <th>SA Value</th>\n",
       "    </tr>\n",
       "    <tr>\n",
       "      <th>Date</th>\n",
       "      <th></th>\n",
       "      <th></th>\n",
       "    </tr>\n",
       "  </thead>\n",
       "  <tbody>\n",
       "    <tr>\n",
       "      <th>1975-01-31</th>\n",
       "      <td>34.427647</td>\n",
       "      <td>34.604936</td>\n",
       "    </tr>\n",
       "    <tr>\n",
       "      <th>1975-02-28</th>\n",
       "      <td>34.898074</td>\n",
       "      <td>35.035870</td>\n",
       "    </tr>\n",
       "    <tr>\n",
       "      <th>1975-03-31</th>\n",
       "      <td>35.384843</td>\n",
       "      <td>35.407964</td>\n",
       "    </tr>\n",
       "    <tr>\n",
       "      <th>1975-04-30</th>\n",
       "      <td>35.913989</td>\n",
       "      <td>35.784216</td>\n",
       "    </tr>\n",
       "    <tr>\n",
       "      <th>1975-05-31</th>\n",
       "      <td>36.534766</td>\n",
       "      <td>36.228856</td>\n",
       "    </tr>\n",
       "  </tbody>\n",
       "</table>\n",
       "</div>"
      ],
      "text/plain": [
       "            NSA Value   SA Value\n",
       "Date                            \n",
       "1975-01-31  34.427647  34.604936\n",
       "1975-02-28  34.898074  35.035870\n",
       "1975-03-31  35.384843  35.407964\n",
       "1975-04-30  35.913989  35.784216\n",
       "1975-05-31  36.534766  36.228856"
      ]
     },
     "execution_count": 2,
     "metadata": {},
     "output_type": "execute_result"
    }
   ],
   "source": [
    "# Then, use the command below will get the Alaska data:\n",
    "\n",
    "Alaska = quandl.get(\"FMAC/HPI_AK\")\n",
    "Alaska.head()"
   ]
  },
  {
   "cell_type": "code",
   "execution_count": null,
   "id": "44d1b485",
   "metadata": {},
   "outputs": [],
   "source": []
  }
 ],
 "metadata": {
  "kernelspec": {
   "display_name": "Python 3.9.9 64-bit",
   "language": "python",
   "name": "python399jvsc74a57bd050292dbb1f747f7151d445135d392af3138fb3c65386d17d9510cb605222b10b"
  },
  "language_info": {
   "codemirror_mode": {
    "name": "ipython",
    "version": 3
   },
   "file_extension": ".py",
   "mimetype": "text/x-python",
   "name": "python",
   "nbconvert_exporter": "python",
   "pygments_lexer": "ipython3",
   "version": "3.9.9"
  }
 },
 "nbformat": 4,
 "nbformat_minor": 5
}
