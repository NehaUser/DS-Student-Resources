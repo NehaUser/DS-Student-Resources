{
 "cells": [
  {
   "cell_type": "markdown",
   "id": "21909ded",
   "metadata": {},
   "source": [
    "## Import Packages"
   ]
  },
  {
   "cell_type": "code",
   "execution_count": 2,
   "id": "a80c6673",
   "metadata": {},
   "outputs": [],
   "source": [
    "import pandas as pd\n",
    "import numpy as np"
   ]
  },
  {
   "cell_type": "markdown",
   "id": "2d186943",
   "metadata": {},
   "source": [
    "### Load the csv file"
   ]
  },
  {
   "cell_type": "code",
   "execution_count": 3,
   "id": "94c9524a",
   "metadata": {},
   "outputs": [],
   "source": [
    "L3Exam = pd.read_csv(\"L3exam.csv\")"
   ]
  },
  {
   "cell_type": "code",
   "execution_count": 5,
   "id": "ab8f793e",
   "metadata": {},
   "outputs": [
    {
     "data": {
      "text/html": [
       "<div>\n",
       "<style scoped>\n",
       "    .dataframe tbody tr th:only-of-type {\n",
       "        vertical-align: middle;\n",
       "    }\n",
       "\n",
       "    .dataframe tbody tr th {\n",
       "        vertical-align: top;\n",
       "    }\n",
       "\n",
       "    .dataframe thead th {\n",
       "        text-align: right;\n",
       "    }\n",
       "</style>\n",
       "<table border=\"1\" class=\"dataframe\">\n",
       "  <thead>\n",
       "    <tr style=\"text-align: right;\">\n",
       "      <th></th>\n",
       "      <th>L3exam</th>\n",
       "    </tr>\n",
       "  </thead>\n",
       "  <tbody>\n",
       "    <tr>\n",
       "      <th>0</th>\n",
       "      <td>267.5</td>\n",
       "    </tr>\n",
       "    <tr>\n",
       "      <th>1</th>\n",
       "      <td>256.5</td>\n",
       "    </tr>\n",
       "    <tr>\n",
       "      <th>2</th>\n",
       "      <td>266.7</td>\n",
       "    </tr>\n",
       "    <tr>\n",
       "      <th>3</th>\n",
       "      <td>256.0</td>\n",
       "    </tr>\n",
       "    <tr>\n",
       "      <th>4</th>\n",
       "      <td>268.2</td>\n",
       "    </tr>\n",
       "  </tbody>\n",
       "</table>\n",
       "</div>"
      ],
      "text/plain": [
       "   L3exam\n",
       "0   267.5\n",
       "1   256.5\n",
       "2   266.7\n",
       "3   256.0\n",
       "4   268.2"
      ]
     },
     "execution_count": 5,
     "metadata": {},
     "output_type": "execute_result"
    }
   ],
   "source": [
    "L3Exam.head()"
   ]
  },
  {
   "cell_type": "markdown",
   "id": "595efdf4",
   "metadata": {},
   "source": [
    "### Calculate Mean and Standard Deviation"
   ]
  },
  {
   "cell_type": "code",
   "execution_count": 4,
   "id": "10f867df",
   "metadata": {},
   "outputs": [
    {
     "name": "stdout",
     "output_type": "stream",
     "text": [
      "L3exam    264.846667\n",
      "dtype: float64\n",
      "L3exam    4.851931\n",
      "dtype: float64\n"
     ]
    }
   ],
   "source": [
    "# Process_Mean = np.mean(L3Exam.L3exam)\n",
    "\n",
    "df = pd.DataFrame(L3Exam.L3exam)\n",
    "Process_StdDev = df.std()\n",
    "Process_Mean = df.mean()\n",
    "\n",
    "print(Process_Mean)\n",
    "\n",
    "print(Process_StdDev)\n"
   ]
  },
  {
   "cell_type": "code",
   "execution_count": 43,
   "id": "767fb2de",
   "metadata": {},
   "outputs": [],
   "source": [
    "# UCL = Mean + (stddev *3) \n",
    "UCL = Process_Mean + (Process_StdDev * 3)"
   ]
  },
  {
   "cell_type": "code",
   "execution_count": 44,
   "id": "8e29cae1",
   "metadata": {},
   "outputs": [
    {
     "name": "stdout",
     "output_type": "stream",
     "text": [
      "L3exam    279.402461\n",
      "dtype: float64\n"
     ]
    }
   ],
   "source": [
    "print(UCL)"
   ]
  },
  {
   "cell_type": "code",
   "execution_count": 45,
   "id": "b3232351",
   "metadata": {},
   "outputs": [],
   "source": [
    "# Lower Control Limit LCL = Mean - (stddev *3) \n",
    "LCL = Process_Mean - (Process_StdDev * 3)"
   ]
  },
  {
   "cell_type": "code",
   "execution_count": 46,
   "id": "b9498efa",
   "metadata": {},
   "outputs": [
    {
     "name": "stdout",
     "output_type": "stream",
     "text": [
      "L3exam    250.290873\n",
      "dtype: float64\n"
     ]
    }
   ],
   "source": [
    "print(LCL)"
   ]
  },
  {
   "cell_type": "code",
   "execution_count": 48,
   "id": "bb357308",
   "metadata": {},
   "outputs": [],
   "source": [
    "# control Width = UCL- LCL\n",
    "ControlWidth = UCL - LCL"
   ]
  },
  {
   "cell_type": "code",
   "execution_count": 49,
   "id": "c545e70a",
   "metadata": {},
   "outputs": [
    {
     "name": "stdout",
     "output_type": "stream",
     "text": [
      "L3exam    29.111588\n",
      "dtype: float64\n"
     ]
    }
   ],
   "source": [
    "print(ControlWidth)"
   ]
  },
  {
   "cell_type": "code",
   "execution_count": 50,
   "id": "7932af92",
   "metadata": {},
   "outputs": [
    {
     "name": "stdout",
     "output_type": "stream",
     "text": [
      "47\n"
     ]
    }
   ],
   "source": [
    "# USL = 288\n",
    "# LSL = 241\n",
    "# Spec Width = USL - LSL\n",
    "\n",
    "USL = 288\n",
    "LSL = 241\n",
    "\n",
    "SpecWidth = USL - LSL\n",
    "print(SpecWidth)"
   ]
  },
  {
   "cell_type": "code",
   "execution_count": 29,
   "id": "6c258fad",
   "metadata": {},
   "outputs": [
    {
     "data": {
      "text/plain": [
       "47"
      ]
     },
     "execution_count": 29,
     "metadata": {},
     "output_type": "execute_result"
    }
   ],
   "source": []
  },
  {
   "cell_type": "code",
   "execution_count": 51,
   "id": "52763b42",
   "metadata": {},
   "outputs": [],
   "source": [
    "# Cp is SpecWidth/ Control Width\n",
    "\n",
    "Cp = SpecWidth/ControlWidth"
   ]
  },
  {
   "cell_type": "code",
   "execution_count": 52,
   "id": "ec082963",
   "metadata": {},
   "outputs": [
    {
     "name": "stdout",
     "output_type": "stream",
     "text": [
      "L3exam    1.614477\n",
      "dtype: float64\n"
     ]
    }
   ],
   "source": [
    "print(Cp)"
   ]
  },
  {
   "cell_type": "code",
   "execution_count": 53,
   "id": "0e9afb65",
   "metadata": {},
   "outputs": [],
   "source": [
    "# Cpu = (USL - Mean)/(3*StdDev)\n",
    "\n",
    "Cpu = (USL - Process_Mean)/(Process_StdDev * 3)"
   ]
  },
  {
   "cell_type": "code",
   "execution_count": 54,
   "id": "f2b22506",
   "metadata": {},
   "outputs": [
    {
     "name": "stdout",
     "output_type": "stream",
     "text": [
      "L3exam    1.590661\n",
      "dtype: float64\n"
     ]
    }
   ],
   "source": [
    "print(Cpu)"
   ]
  },
  {
   "cell_type": "code",
   "execution_count": 55,
   "id": "a9028f0a",
   "metadata": {},
   "outputs": [],
   "source": [
    "# Cpk = Lower of the Cp and Cpu\n",
    "\n",
    "Cpk = 1.59"
   ]
  },
  {
   "cell_type": "code",
   "execution_count": 56,
   "id": "21c8d070",
   "metadata": {},
   "outputs": [],
   "source": [
    "# Since Cpk > 1.33, the process is capable."
   ]
  },
  {
   "cell_type": "code",
   "execution_count": null,
   "id": "f53340e0",
   "metadata": {},
   "outputs": [],
   "source": []
  }
 ],
 "metadata": {
  "kernelspec": {
   "display_name": "Python 3.9.9 64-bit",
   "language": "python",
   "name": "python399jvsc74a57bd050292dbb1f747f7151d445135d392af3138fb3c65386d17d9510cb605222b10b"
  },
  "language_info": {
   "codemirror_mode": {
    "name": "ipython",
    "version": 3
   },
   "file_extension": ".py",
   "mimetype": "text/x-python",
   "name": "python",
   "nbconvert_exporter": "python",
   "pygments_lexer": "ipython3",
   "version": "3.9.9"
  }
 },
 "nbformat": 4,
 "nbformat_minor": 5
}
