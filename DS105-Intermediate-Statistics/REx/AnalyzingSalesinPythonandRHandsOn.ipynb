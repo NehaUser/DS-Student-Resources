{
 "cells": [
  {
   "cell_type": "markdown",
   "id": "7f64f589",
   "metadata": {},
   "source": [
    "# Analyzing Sales in Python, Lesson 4 Hands On Part - 2"
   ]
  },
  {
   "cell_type": "markdown",
   "id": "5b32e41f",
   "metadata": {},
   "source": [
    "## Import packages"
   ]
  },
  {
   "cell_type": "code",
   "execution_count": 33,
   "id": "a337bf47",
   "metadata": {},
   "outputs": [],
   "source": [
    "import pandas as pd\n",
    "import numpy as np\n",
    "import scipy\n",
    "import seaborn as sns\n",
    "from scipy import stats\n",
    "from statsmodels.stats.multicomp import pairwise_tukeyhsd\n",
    "from statsmodels.stats.multicomp import MultiComparison\n"
   ]
  },
  {
   "cell_type": "markdown",
   "id": "dcea09b7",
   "metadata": {},
   "source": [
    "## Load data"
   ]
  },
  {
   "cell_type": "code",
   "execution_count": 34,
   "id": "553f4063",
   "metadata": {},
   "outputs": [
    {
     "data": {
      "text/html": [
       "<div>\n",
       "<style scoped>\n",
       "    .dataframe tbody tr th:only-of-type {\n",
       "        vertical-align: middle;\n",
       "    }\n",
       "\n",
       "    .dataframe tbody tr th {\n",
       "        vertical-align: top;\n",
       "    }\n",
       "\n",
       "    .dataframe thead th {\n",
       "        text-align: right;\n",
       "    }\n",
       "</style>\n",
       "<table border=\"1\" class=\"dataframe\">\n",
       "  <thead>\n",
       "    <tr style=\"text-align: right;\">\n",
       "      <th></th>\n",
       "      <th>Unnamed: 0</th>\n",
       "      <th>Date</th>\n",
       "      <th>AveragePrice</th>\n",
       "      <th>Total Volume</th>\n",
       "      <th>4046</th>\n",
       "      <th>4225</th>\n",
       "      <th>4770</th>\n",
       "      <th>Total Bags</th>\n",
       "      <th>Small Bags</th>\n",
       "      <th>Large Bags</th>\n",
       "      <th>XLarge Bags</th>\n",
       "      <th>type</th>\n",
       "      <th>year</th>\n",
       "      <th>region</th>\n",
       "    </tr>\n",
       "  </thead>\n",
       "  <tbody>\n",
       "    <tr>\n",
       "      <th>0</th>\n",
       "      <td>0</td>\n",
       "      <td>12/27/2015</td>\n",
       "      <td>1.33</td>\n",
       "      <td>64236.62</td>\n",
       "      <td>1036.74</td>\n",
       "      <td>54454.85</td>\n",
       "      <td>48.16</td>\n",
       "      <td>8696.87</td>\n",
       "      <td>8603.62</td>\n",
       "      <td>93.25</td>\n",
       "      <td>0.0</td>\n",
       "      <td>conventional</td>\n",
       "      <td>2015</td>\n",
       "      <td>Albany</td>\n",
       "    </tr>\n",
       "    <tr>\n",
       "      <th>1</th>\n",
       "      <td>1</td>\n",
       "      <td>12/20/2015</td>\n",
       "      <td>1.35</td>\n",
       "      <td>54876.98</td>\n",
       "      <td>674.28</td>\n",
       "      <td>44638.81</td>\n",
       "      <td>58.33</td>\n",
       "      <td>9505.56</td>\n",
       "      <td>9408.07</td>\n",
       "      <td>97.49</td>\n",
       "      <td>0.0</td>\n",
       "      <td>conventional</td>\n",
       "      <td>2015</td>\n",
       "      <td>Albany</td>\n",
       "    </tr>\n",
       "    <tr>\n",
       "      <th>2</th>\n",
       "      <td>2</td>\n",
       "      <td>12/13/2015</td>\n",
       "      <td>0.93</td>\n",
       "      <td>118220.22</td>\n",
       "      <td>794.70</td>\n",
       "      <td>109149.67</td>\n",
       "      <td>130.50</td>\n",
       "      <td>8145.35</td>\n",
       "      <td>8042.21</td>\n",
       "      <td>103.14</td>\n",
       "      <td>0.0</td>\n",
       "      <td>conventional</td>\n",
       "      <td>2015</td>\n",
       "      <td>Albany</td>\n",
       "    </tr>\n",
       "    <tr>\n",
       "      <th>3</th>\n",
       "      <td>3</td>\n",
       "      <td>12/6/2015</td>\n",
       "      <td>1.08</td>\n",
       "      <td>78992.15</td>\n",
       "      <td>1132.00</td>\n",
       "      <td>71976.41</td>\n",
       "      <td>72.58</td>\n",
       "      <td>5811.16</td>\n",
       "      <td>5677.40</td>\n",
       "      <td>133.76</td>\n",
       "      <td>0.0</td>\n",
       "      <td>conventional</td>\n",
       "      <td>2015</td>\n",
       "      <td>Albany</td>\n",
       "    </tr>\n",
       "    <tr>\n",
       "      <th>4</th>\n",
       "      <td>4</td>\n",
       "      <td>11/29/2015</td>\n",
       "      <td>1.28</td>\n",
       "      <td>51039.60</td>\n",
       "      <td>941.48</td>\n",
       "      <td>43838.39</td>\n",
       "      <td>75.78</td>\n",
       "      <td>6183.95</td>\n",
       "      <td>5986.26</td>\n",
       "      <td>197.69</td>\n",
       "      <td>0.0</td>\n",
       "      <td>conventional</td>\n",
       "      <td>2015</td>\n",
       "      <td>Albany</td>\n",
       "    </tr>\n",
       "  </tbody>\n",
       "</table>\n",
       "</div>"
      ],
      "text/plain": [
       "   Unnamed: 0        Date  AveragePrice  Total Volume     4046       4225  \\\n",
       "0           0  12/27/2015          1.33      64236.62  1036.74   54454.85   \n",
       "1           1  12/20/2015          1.35      54876.98   674.28   44638.81   \n",
       "2           2  12/13/2015          0.93     118220.22   794.70  109149.67   \n",
       "3           3   12/6/2015          1.08      78992.15  1132.00   71976.41   \n",
       "4           4  11/29/2015          1.28      51039.60   941.48   43838.39   \n",
       "\n",
       "     4770  Total Bags  Small Bags  Large Bags  XLarge Bags          type  \\\n",
       "0   48.16     8696.87     8603.62       93.25          0.0  conventional   \n",
       "1   58.33     9505.56     9408.07       97.49          0.0  conventional   \n",
       "2  130.50     8145.35     8042.21      103.14          0.0  conventional   \n",
       "3   72.58     5811.16     5677.40      133.76          0.0  conventional   \n",
       "4   75.78     6183.95     5986.26      197.69          0.0  conventional   \n",
       "\n",
       "   year  region  \n",
       "0  2015  Albany  \n",
       "1  2015  Albany  \n",
       "2  2015  Albany  \n",
       "3  2015  Albany  \n",
       "4  2015  Albany  "
      ]
     },
     "execution_count": 34,
     "metadata": {},
     "output_type": "execute_result"
    }
   ],
   "source": [
    "Sales_Avocados = pd.read_csv(\"avocados.csv\")\n",
    "\n",
    "Sales_Avocados.head()"
   ]
  },
  {
   "cell_type": "markdown",
   "id": "72941f98",
   "metadata": {},
   "source": [
    "## Question setup"
   ]
  },
  {
   "cell_type": "code",
   "execution_count": 35,
   "id": "3a4360a8",
   "metadata": {},
   "outputs": [],
   "source": [
    "# Does the total volume of avocados sold differ between Indianapolis, Orlando, and PhoenixTucson?\n",
    "\n",
    "# In order to answer this question, our x, or independent variable, will be the region, \n",
    "# which has three levels: Indianapolis, Orlando, and PhoenixTucson. Our y, or dependent variable, \n",
    "# will be the Total Volume."
   ]
  },
  {
   "cell_type": "markdown",
   "id": "99894521",
   "metadata": {},
   "source": [
    "## Data Wrangling"
   ]
  },
  {
   "cell_type": "markdown",
   "id": "69e620da",
   "metadata": {},
   "source": [
    "### Focusing on the Three regions - Indianapolis, Orlando, and PhoenixTucson\n",
    " "
   ]
  },
  {
   "cell_type": "code",
   "execution_count": 36,
   "id": "4903640e",
   "metadata": {},
   "outputs": [
    {
     "data": {
      "text/plain": [
       "Indianapolis     338\n",
       "Orlando          338\n",
       "PhoenixTucson    338\n",
       "Name: region, dtype: int64"
      ]
     },
     "execution_count": 36,
     "metadata": {},
     "output_type": "execute_result"
    }
   ],
   "source": [
    "# The data has many more categories than three, so we will need to filter the dataset by the region we want. \n",
    "# Indianapolis, Orlando, and PhoenixTucson.\n",
    "\n",
    "regions = ['Indianapolis', 'Orlando','PhoenixTucson']\n",
    "Sales_Avocados1 = Sales_Avocados['region'].isin(regions)\n",
    "Sales_Avocados2 = Sales_Avocados[Sales_Avocados1].copy()\n",
    "\n",
    "Sales_Avocados2.region.value_counts()"
   ]
  },
  {
   "cell_type": "markdown",
   "id": "f98803a1",
   "metadata": {},
   "source": [
    "### Subsetting to Only the Variables Needed\n"
   ]
  },
  {
   "cell_type": "code",
   "execution_count": 37,
   "id": "2dc8cc63",
   "metadata": {},
   "outputs": [],
   "source": [
    "# We only want to keep the two variables we'll need in our test: 'Total Volume' and 'region'.\n",
    "\n",
    "Sales_Avocados3 = Sales_Avocados2[['Total Volume','region']]"
   ]
  },
  {
   "cell_type": "markdown",
   "id": "f3ac24af",
   "metadata": {},
   "source": [
    "### Changing the DV, 'Total Volume', to integer"
   ]
  },
  {
   "cell_type": "code",
   "execution_count": 38,
   "id": "e98dd7a5",
   "metadata": {},
   "outputs": [
    {
     "name": "stdout",
     "output_type": "stream",
     "text": [
      "<class 'pandas.core.frame.DataFrame'>\n",
      "Int64Index: 1014 entries, 988 to 18008\n",
      "Data columns (total 2 columns):\n",
      " #   Column        Non-Null Count  Dtype  \n",
      "---  ------        --------------  -----  \n",
      " 0   Total Volume  1014 non-null   float64\n",
      " 1   region        1014 non-null   object \n",
      "dtypes: float64(1), object(1)\n",
      "memory usage: 23.8+ KB\n"
     ]
    },
    {
     "name": "stderr",
     "output_type": "stream",
     "text": [
      "/var/folders/w0/t7zkm9d12h11l_wy7wwcclsm0000gn/T/ipykernel_17590/711553801.py:5: SettingWithCopyWarning: \n",
      "A value is trying to be set on a copy of a slice from a DataFrame.\n",
      "Try using .loc[row_indexer,col_indexer] = value instead\n",
      "\n",
      "See the caveats in the documentation: https://pandas.pydata.org/pandas-docs/stable/user_guide/indexing.html#returning-a-view-versus-a-copy\n",
      "  Sales_Avocados3['Total Volume'] = Sales_Avocados3['Total Volume'].astype(int)\n"
     ]
    }
   ],
   "source": [
    "# Your dependent variable will need to be an integer. \n",
    "\n",
    "Sales_Avocados3.info()\n",
    "\n",
    "Sales_Avocados3['Total Volume'] = Sales_Avocados3['Total Volume'].astype(int)"
   ]
  },
  {
   "cell_type": "markdown",
   "id": "af1537f5",
   "metadata": {},
   "source": [
    "### Recoding region to numeric too"
   ]
  },
  {
   "cell_type": "code",
   "execution_count": 39,
   "id": "79eed09e",
   "metadata": {},
   "outputs": [
    {
     "name": "stderr",
     "output_type": "stream",
     "text": [
      "/var/folders/w0/t7zkm9d12h11l_wy7wwcclsm0000gn/T/ipykernel_17590/2995765802.py:11: SettingWithCopyWarning: \n",
      "A value is trying to be set on a copy of a slice from a DataFrame.\n",
      "Try using .loc[row_indexer,col_indexer] = value instead\n",
      "\n",
      "See the caveats in the documentation: https://pandas.pydata.org/pandas-docs/stable/user_guide/indexing.html#returning-a-view-versus-a-copy\n",
      "  Sales_Avocados3['regionR'] = Sales_Avocados3['region'].apply(recode)\n"
     ]
    }
   ],
   "source": [
    "# The post-hocs and assumptions won't take any string values, so we'll need to recode region as well:\n",
    "\n",
    "def recode (series):\n",
    "    if series == \"Indianapolis\": \n",
    "        return 0\n",
    "    if series == \"Orlando\": \n",
    "        return 1\n",
    "    if series == \"PhoenixTucson\": \n",
    "        return 2\n",
    "\n",
    "Sales_Avocados3['regionR'] = Sales_Avocados3['region'].apply(recode)\n"
   ]
  },
  {
   "cell_type": "code",
   "execution_count": 40,
   "id": "9929b119",
   "metadata": {},
   "outputs": [
    {
     "data": {
      "text/html": [
       "<div>\n",
       "<style scoped>\n",
       "    .dataframe tbody tr th:only-of-type {\n",
       "        vertical-align: middle;\n",
       "    }\n",
       "\n",
       "    .dataframe tbody tr th {\n",
       "        vertical-align: top;\n",
       "    }\n",
       "\n",
       "    .dataframe thead th {\n",
       "        text-align: right;\n",
       "    }\n",
       "</style>\n",
       "<table border=\"1\" class=\"dataframe\">\n",
       "  <thead>\n",
       "    <tr style=\"text-align: right;\">\n",
       "      <th></th>\n",
       "      <th>Total Volume</th>\n",
       "      <th>region</th>\n",
       "      <th>regionR</th>\n",
       "    </tr>\n",
       "  </thead>\n",
       "  <tbody>\n",
       "    <tr>\n",
       "      <th>988</th>\n",
       "      <td>123096</td>\n",
       "      <td>Indianapolis</td>\n",
       "      <td>0</td>\n",
       "    </tr>\n",
       "    <tr>\n",
       "      <th>989</th>\n",
       "      <td>116353</td>\n",
       "      <td>Indianapolis</td>\n",
       "      <td>0</td>\n",
       "    </tr>\n",
       "    <tr>\n",
       "      <th>990</th>\n",
       "      <td>125342</td>\n",
       "      <td>Indianapolis</td>\n",
       "      <td>0</td>\n",
       "    </tr>\n",
       "    <tr>\n",
       "      <th>991</th>\n",
       "      <td>145740</td>\n",
       "      <td>Indianapolis</td>\n",
       "      <td>0</td>\n",
       "    </tr>\n",
       "    <tr>\n",
       "      <th>992</th>\n",
       "      <td>108444</td>\n",
       "      <td>Indianapolis</td>\n",
       "      <td>0</td>\n",
       "    </tr>\n",
       "  </tbody>\n",
       "</table>\n",
       "</div>"
      ],
      "text/plain": [
       "     Total Volume        region  regionR\n",
       "988        123096  Indianapolis        0\n",
       "989        116353  Indianapolis        0\n",
       "990        125342  Indianapolis        0\n",
       "991        145740  Indianapolis        0\n",
       "992        108444  Indianapolis        0"
      ]
     },
     "execution_count": 40,
     "metadata": {},
     "output_type": "execute_result"
    }
   ],
   "source": [
    "Sales_Avocados3.head()"
   ]
  },
  {
   "cell_type": "markdown",
   "id": "05d09a33",
   "metadata": {},
   "source": [
    "### Dropping the original region Variable"
   ]
  },
  {
   "cell_type": "code",
   "execution_count": 41,
   "id": "65b8a678",
   "metadata": {},
   "outputs": [
    {
     "data": {
      "text/html": [
       "<div>\n",
       "<style scoped>\n",
       "    .dataframe tbody tr th:only-of-type {\n",
       "        vertical-align: middle;\n",
       "    }\n",
       "\n",
       "    .dataframe tbody tr th {\n",
       "        vertical-align: top;\n",
       "    }\n",
       "\n",
       "    .dataframe thead th {\n",
       "        text-align: right;\n",
       "    }\n",
       "</style>\n",
       "<table border=\"1\" class=\"dataframe\">\n",
       "  <thead>\n",
       "    <tr style=\"text-align: right;\">\n",
       "      <th></th>\n",
       "      <th>regionR</th>\n",
       "      <th>Total Volume</th>\n",
       "    </tr>\n",
       "  </thead>\n",
       "  <tbody>\n",
       "    <tr>\n",
       "      <th>988</th>\n",
       "      <td>0</td>\n",
       "      <td>123096</td>\n",
       "    </tr>\n",
       "    <tr>\n",
       "      <th>989</th>\n",
       "      <td>0</td>\n",
       "      <td>116353</td>\n",
       "    </tr>\n",
       "    <tr>\n",
       "      <th>990</th>\n",
       "      <td>0</td>\n",
       "      <td>125342</td>\n",
       "    </tr>\n",
       "    <tr>\n",
       "      <th>991</th>\n",
       "      <td>0</td>\n",
       "      <td>145740</td>\n",
       "    </tr>\n",
       "    <tr>\n",
       "      <th>992</th>\n",
       "      <td>0</td>\n",
       "      <td>108444</td>\n",
       "    </tr>\n",
       "  </tbody>\n",
       "</table>\n",
       "</div>"
      ],
      "text/plain": [
       "     regionR  Total Volume\n",
       "988        0        123096\n",
       "989        0        116353\n",
       "990        0        125342\n",
       "991        0        145740\n",
       "992        0        108444"
      ]
     },
     "execution_count": 41,
     "metadata": {},
     "output_type": "execute_result"
    }
   ],
   "source": [
    "# Since we now have three variables again, we have to drop the original region variable.\n",
    "\n",
    "Sales_Avocados4 = Sales_Avocados3[['regionR','Total Volume']]\n",
    "\n",
    "Sales_Avocados4.head()"
   ]
  },
  {
   "cell_type": "code",
   "execution_count": 42,
   "id": "0880ef75",
   "metadata": {},
   "outputs": [],
   "source": [
    "# And finally, we are prepared to run a one-way ANOVA and all it's assumptions and post-hoc tests."
   ]
  },
  {
   "cell_type": "markdown",
   "id": "c9cb7455",
   "metadata": {},
   "source": [
    "## Running the assumptions"
   ]
  },
  {
   "cell_type": "markdown",
   "id": "b86b0f64",
   "metadata": {},
   "source": [
    "### Normality"
   ]
  },
  {
   "cell_type": "code",
   "execution_count": 43,
   "id": "7b2a8322",
   "metadata": {},
   "outputs": [
    {
     "name": "stderr",
     "output_type": "stream",
     "text": [
      "/opt/homebrew/lib/python3.9/site-packages/seaborn/distributions.py:2619: FutureWarning: `distplot` is a deprecated function and will be removed in a future version. Please adapt your code to use either `displot` (a figure-level function with similar flexibility) or `histplot` (an axes-level function for histograms).\n",
      "  warnings.warn(msg, FutureWarning)\n"
     ]
    },
    {
     "data": {
      "text/plain": [
       "<AxesSubplot:xlabel='Total Volume', ylabel='Density'>"
      ]
     },
     "execution_count": 43,
     "metadata": {},
     "output_type": "execute_result"
    },
    {
     "data": {
      "image/png": "[encoded data removed]",
      "text/plain": [
       "<Figure size 432x288 with 1 Axes>"
      ]
     },
     "metadata": {
      "needs_background": "light"
     },
     "output_type": "display_data"
    }
   ],
   "source": [
    "# We only need to test for the normality of the dependent variable, since the IV is categorical.\n",
    "\n",
    "sns.distplot(Sales_Avocados4['Total Volume'])"
   ]
  },
  {
   "cell_type": "code",
   "execution_count": 44,
   "id": "67bf98b7",
   "metadata": {},
   "outputs": [],
   "source": [
    "# Looks like that isn't normal in any way - it is very highly positively skewed. So, we'll need to transform \n",
    "# Total Volume by taking the square root or the log.\n",
    "\n",
    "Sales_Avocados4['TotalVolumeSQRT'] = np.sqrt(Sales_Avocados4['Total Volume'])"
   ]
  },
  {
   "cell_type": "code",
   "execution_count": 45,
   "id": "177aad90",
   "metadata": {},
   "outputs": [
    {
     "name": "stderr",
     "output_type": "stream",
     "text": [
      "/opt/homebrew/lib/python3.9/site-packages/seaborn/distributions.py:2619: FutureWarning: `distplot` is a deprecated function and will be removed in a future version. Please adapt your code to use either `displot` (a figure-level function with similar flexibility) or `histplot` (an axes-level function for histograms).\n",
      "  warnings.warn(msg, FutureWarning)\n"
     ]
    },
    {
     "data": {
      "text/plain": [
       "<AxesSubplot:xlabel='TotalVolumeSQRT', ylabel='Density'>"
      ]
     },
     "execution_count": 45,
     "metadata": {},
     "output_type": "execute_result"
    },
    {
     "data": {
      "image/png": "[encoded data removed]",
      "text/plain": [
       "<Figure size 432x288 with 1 Axes>"
      ]
     },
     "metadata": {
      "needs_background": "light"
     },
     "output_type": "display_data"
    }
   ],
   "source": [
    "# Plotting\n",
    "\n",
    "sns.distplot(Sales_Avocados4['TotalVolumeSQRT'])"
   ]
  },
  {
   "cell_type": "code",
   "execution_count": 46,
   "id": "6e1f9f58",
   "metadata": {},
   "outputs": [],
   "source": [
    "# Let's try log, since it doen't look normal:\n",
    "\n",
    "Sales_Avocados4['TotalVolumeLOG'] = np.log(Sales_Avocados4['Total Volume'])"
   ]
  },
  {
   "cell_type": "code",
   "execution_count": 47,
   "id": "4b949b1e",
   "metadata": {},
   "outputs": [
    {
     "name": "stderr",
     "output_type": "stream",
     "text": [
      "/opt/homebrew/lib/python3.9/site-packages/seaborn/distributions.py:2619: FutureWarning: `distplot` is a deprecated function and will be removed in a future version. Please adapt your code to use either `displot` (a figure-level function with similar flexibility) or `histplot` (an axes-level function for histograms).\n",
      "  warnings.warn(msg, FutureWarning)\n"
     ]
    },
    {
     "data": {
      "text/plain": [
       "<AxesSubplot:xlabel='TotalVolumeLOG', ylabel='Density'>"
      ]
     },
     "execution_count": 47,
     "metadata": {},
     "output_type": "execute_result"
    },
    {
     "data": {
      "image/png": "[encoded data removed]",
      "text/plain": [
       "<Figure size 432x288 with 1 Axes>"
      ]
     },
     "metadata": {
      "needs_background": "light"
     },
     "output_type": "display_data"
    }
   ],
   "source": [
    "# Plotting\n",
    "\n",
    "sns.distplot(Sales_Avocados4['TotalVolumeLOG'])"
   ]
  },
  {
   "cell_type": "code",
   "execution_count": 48,
   "id": "40484bb8",
   "metadata": {},
   "outputs": [],
   "source": [
    "# The plot isn't normal but much better than the first one."
   ]
  },
  {
   "cell_type": "markdown",
   "id": "25fd9e5f",
   "metadata": {},
   "source": [
    "## Homogeneity of Variance"
   ]
  },
  {
   "cell_type": "code",
   "execution_count": 49,
   "id": "b4d7932b",
   "metadata": {},
   "outputs": [],
   "source": [
    "# We can test for homogeneity of variance using either Bartlett's test or Fligner's Test.\n",
    "# Bartlett's test is for when data is normally distributed, and Fligner's test is for when data is\n",
    "# non-parametric. \n",
    "# No matter which test we are using, we are looking for a non-significant test. \n",
    "# The null hypothesis for both of these is that the data has equal variance, so we'd like to have a \n",
    "# p value of > .05. Since we have corrected our data, we can use Bartlett's test."
   ]
  },
  {
   "cell_type": "markdown",
   "id": "14a75062",
   "metadata": {},
   "source": [
    "### Bartlett's Test\n"
   ]
  },
  {
   "cell_type": "code",
   "execution_count": 50,
   "id": "80dca79a",
   "metadata": {},
   "outputs": [
    {
     "data": {
      "text/plain": [
       "BartlettResult(statistic=883.8333293750119, pvalue=3.2084549477506726e-194)"
      ]
     },
     "execution_count": 50,
     "metadata": {},
     "output_type": "execute_result"
    }
   ],
   "source": [
    "# To do Bartlett's test, use the function scipy.stats.bartlett(), with the argument of the y data,\n",
    "# followed by the x data.\n",
    "\n",
    "scipy.stats.bartlett(Sales_Avocados4['TotalVolumeLOG'], Sales_Avocados4['regionR'])\n"
   ]
  },
  {
   "cell_type": "code",
   "execution_count": 51,
   "id": "f9ac2a21",
   "metadata": {},
   "outputs": [],
   "source": [
    "# The p value associated with this test is < .05, which means that unfortunately, we have violated the assumption\n",
    "# of homogeneity of variance."
   ]
  },
  {
   "cell_type": "markdown",
   "id": "ab6d7ac5",
   "metadata": {},
   "source": [
    "### Sample Size"
   ]
  },
  {
   "cell_type": "code",
   "execution_count": 52,
   "id": "17ba3873",
   "metadata": {},
   "outputs": [],
   "source": [
    "# An ANOVA requires a sample size of at least 20 per independent variable.\n",
    "# Looking at the data, the n is 18,249, so we are fine to proceed with this assumption!"
   ]
  },
  {
   "cell_type": "markdown",
   "id": "d295d01f",
   "metadata": {},
   "source": [
    "### Independence"
   ]
  },
  {
   "cell_type": "code",
   "execution_count": 53,
   "id": "6351be07",
   "metadata": {},
   "outputs": [],
   "source": [
    "# There is no statistical test for the assumption of independence, so we can proceed!"
   ]
  },
  {
   "cell_type": "markdown",
   "id": "4fc691ca",
   "metadata": {},
   "source": [
    "## Computing ANOVAs\n"
   ]
  },
  {
   "cell_type": "code",
   "execution_count": 54,
   "id": "8f5adfb1",
   "metadata": {},
   "outputs": [],
   "source": [
    "# In this case, our data did not meet this assumption, but for the purposes of learning and since there is NO WAY to compute \n",
    "# ANOVAs with unequal variance in Python, we'll calculate it."
   ]
  },
  {
   "cell_type": "code",
   "execution_count": 55,
   "id": "f21cf4b1",
   "metadata": {},
   "outputs": [
    {
     "data": {
      "text/plain": [
       "F_onewayResult(statistic=174.05378837225294, pvalue=1.101276256457687e-65)"
      ]
     },
     "execution_count": 55,
     "metadata": {},
     "output_type": "execute_result"
    }
   ],
   "source": [
    "stats.f_oneway(Sales_Avocados[\"Total Volume\"][Sales_Avocados[\"region\"]=='Indianapolis'],\n",
    "                    Sales_Avocados[\"Total Volume\"][Sales_Avocados[\"region\"]=='Orlando'],\n",
    "                    Sales_Avocados[\"Total Volume\"][Sales_Avocados[\"region\"]=='PhoenixTucson'])"
   ]
  },
  {
   "cell_type": "code",
   "execution_count": 56,
   "id": "2c9ff6ef",
   "metadata": {},
   "outputs": [],
   "source": [
    "# Since the p value is less than .05, there is a significant difference in Total Volume between these three regions.\n",
    "\n"
   ]
  },
  {
   "cell_type": "markdown",
   "id": "944a8326",
   "metadata": {},
   "source": [
    "## Post Hocs"
   ]
  },
  {
   "cell_type": "code",
   "execution_count": 57,
   "id": "ce1b8fe8",
   "metadata": {},
   "outputs": [],
   "source": [
    "# Running post-hocs to figure out what groups significantly differed from each other using Tukey post hoc."
   ]
  },
  {
   "cell_type": "markdown",
   "id": "a75fc82b",
   "metadata": {},
   "source": [
    "### Computing Post Hocs with Tukey's\n"
   ]
  },
  {
   "cell_type": "code",
   "execution_count": 58,
   "id": "650bdd6c",
   "metadata": {},
   "outputs": [
    {
     "name": "stdout",
     "output_type": "stream",
     "text": [
      "Multiple Comparison of Means - Tukey HSD, FWER=0.05\n",
      "==================================================\n",
      "group1 group2 meandiff p-adj  lower  upper  reject\n",
      "--------------------------------------------------\n",
      "     0      1   0.4292 0.0253 0.0424  0.816   True\n",
      "     0      2   1.4767    0.0 1.0899 1.8635   True\n",
      "     1      2   1.0475    0.0 0.6607 1.4343   True\n",
      "--------------------------------------------------\n"
     ]
    }
   ],
   "source": [
    "# Here is the code for computing a Tukey's post hoc in Python:\n",
    "\n",
    "postHoc = MultiComparison(Sales_Avocados4['TotalVolumeLOG'], Sales_Avocados4['regionR'])\n",
    "postHocResults = postHoc.tukeyhsd()\n",
    "print(postHocResults)"
   ]
  },
  {
   "cell_type": "code",
   "execution_count": 59,
   "id": "00fbadd3",
   "metadata": {},
   "outputs": [],
   "source": [
    "# 0 stands for Indianapolis, 1 stands for Orlando, and 2 stands for PhoenixTucson. \n",
    "# If the value in the reject column is True, then this means there's a significant difference in the means\n",
    "# between those groups. So, there is a significant difference between the total volume between the three regions.\n",
    "# To check what is that difference, wewill have to examine the means."
   ]
  },
  {
   "cell_type": "markdown",
   "id": "9de49fd2",
   "metadata": {},
   "source": [
    "## Determine Means and Draw Conclusions\n"
   ]
  },
  {
   "cell_type": "code",
   "execution_count": 60,
   "id": "d82ef65e",
   "metadata": {},
   "outputs": [
    {
     "data": {
      "text/html": [
       "<div>\n",
       "<style scoped>\n",
       "    .dataframe tbody tr th:only-of-type {\n",
       "        vertical-align: middle;\n",
       "    }\n",
       "\n",
       "    .dataframe tbody tr th {\n",
       "        vertical-align: top;\n",
       "    }\n",
       "\n",
       "    .dataframe thead th {\n",
       "        text-align: right;\n",
       "    }\n",
       "</style>\n",
       "<table border=\"1\" class=\"dataframe\">\n",
       "  <thead>\n",
       "    <tr style=\"text-align: right;\">\n",
       "      <th></th>\n",
       "      <th>Total Volume</th>\n",
       "      <th>TotalVolumeSQRT</th>\n",
       "      <th>TotalVolumeLOG</th>\n",
       "    </tr>\n",
       "    <tr>\n",
       "      <th>regionR</th>\n",
       "      <th></th>\n",
       "      <th></th>\n",
       "      <th></th>\n",
       "    </tr>\n",
       "  </thead>\n",
       "  <tbody>\n",
       "    <tr>\n",
       "      <th>0</th>\n",
       "      <td>89536.180473</td>\n",
       "      <td>240.444255</td>\n",
       "      <td>10.157488</td>\n",
       "    </tr>\n",
       "    <tr>\n",
       "      <th>1</th>\n",
       "      <td>173551.840237</td>\n",
       "      <td>324.643652</td>\n",
       "      <td>10.586681</td>\n",
       "    </tr>\n",
       "    <tr>\n",
       "      <th>2</th>\n",
       "      <td>578825.887574</td>\n",
       "      <td>585.836582</td>\n",
       "      <td>11.634147</td>\n",
       "    </tr>\n",
       "  </tbody>\n",
       "</table>\n",
       "</div>"
      ],
      "text/plain": [
       "          Total Volume  TotalVolumeSQRT  TotalVolumeLOG\n",
       "regionR                                                \n",
       "0         89536.180473       240.444255       10.157488\n",
       "1        173551.840237       324.643652       10.586681\n",
       "2        578825.887574       585.836582       11.634147"
      ]
     },
     "execution_count": 60,
     "metadata": {},
     "output_type": "execute_result"
    }
   ],
   "source": [
    "# Determine which regions had the highest and lowest Total Volume.\n",
    "\n",
    "Sales_Avocados4.groupby('regionR').mean()"
   ]
  },
  {
   "cell_type": "code",
   "execution_count": 61,
   "id": "d9d7ab12",
   "metadata": {},
   "outputs": [],
   "source": [
    "# Looking at the table we can say ,\n",
    "# PhoenixTucson has the highest total volume, and Indianapolis having the least total volume of the three."
   ]
  },
  {
   "cell_type": "markdown",
   "id": "a1016774",
   "metadata": {},
   "source": [
    "#  ------------------- Part - 2 Conclusion --------------------------- # "
   ]
  },
  {
   "cell_type": "markdown",
   "id": "4f0982a2",
   "metadata": {},
   "source": [
    "##  PhoenixTucson has the highest total volume, and Indianapolis having the least total volume of the three."
   ]
  },
  {
   "cell_type": "code",
   "execution_count": null,
   "id": "8936439a",
   "metadata": {},
   "outputs": [],
   "source": []
  }
 ],
 "metadata": {
  "kernelspec": {
   "display_name": "Python 3.9.9 64-bit",
   "language": "python",
   "name": "python399jvsc74a57bd050292dbb1f747f7151d445135d392af3138fb3c65386d17d9510cb605222b10b"
  },
  "language_info": {
   "codemirror_mode": {
    "name": "ipython",
    "version": 3
   },
   "file_extension": ".py",
   "mimetype": "text/x-python",
   "name": "python",
   "nbconvert_exporter": "python",
   "pygments_lexer": "ipython3",
   "version": "3.9.9"
  }
 },
 "nbformat": 4,
 "nbformat_minor": 5
}
