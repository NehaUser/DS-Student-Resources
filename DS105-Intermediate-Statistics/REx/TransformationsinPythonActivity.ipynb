{
 "cells": [
  {
   "cell_type": "markdown",
   "id": "163b9ef1",
   "metadata": {},
   "source": [
    "# Load Packages"
   ]
  },
  {
   "cell_type": "code",
   "execution_count": 1,
   "id": "372e2733",
   "metadata": {},
   "outputs": [],
   "source": [
    "import pandas as pd\n",
    "import numpy as np\n",
    "import seaborn as sns\n"
   ]
  },
  {
   "cell_type": "markdown",
   "id": "ee00d15b",
   "metadata": {},
   "source": [
    "## Load Data"
   ]
  },
  {
   "cell_type": "code",
   "execution_count": 6,
   "id": "a651eaee",
   "metadata": {},
   "outputs": [
    {
     "data": {
      "text/html": [
       "<div>\n",
       "<style scoped>\n",
       "    .dataframe tbody tr th:only-of-type {\n",
       "        vertical-align: middle;\n",
       "    }\n",
       "\n",
       "    .dataframe tbody tr th {\n",
       "        vertical-align: top;\n",
       "    }\n",
       "\n",
       "    .dataframe thead th {\n",
       "        text-align: right;\n",
       "    }\n",
       "</style>\n",
       "<table border=\"1\" class=\"dataframe\">\n",
       "  <thead>\n",
       "    <tr style=\"text-align: right;\">\n",
       "      <th></th>\n",
       "      <th>Ship</th>\n",
       "      <th>Line</th>\n",
       "      <th>YearBlt</th>\n",
       "      <th>Tonnage</th>\n",
       "      <th>passngrs</th>\n",
       "      <th>Length</th>\n",
       "      <th>Cabins</th>\n",
       "      <th>Crew</th>\n",
       "      <th>PassSpcR</th>\n",
       "      <th>outcab</th>\n",
       "    </tr>\n",
       "  </thead>\n",
       "  <tbody>\n",
       "    <tr>\n",
       "      <th>0</th>\n",
       "      <td>Journey</td>\n",
       "      <td>Azamara</td>\n",
       "      <td>2007</td>\n",
       "      <td>30277</td>\n",
       "      <td>694</td>\n",
       "      <td>594</td>\n",
       "      <td>355</td>\n",
       "      <td>355</td>\n",
       "      <td>42.64</td>\n",
       "      <td>329</td>\n",
       "    </tr>\n",
       "    <tr>\n",
       "      <th>1</th>\n",
       "      <td>Quest</td>\n",
       "      <td>Azamara</td>\n",
       "      <td>2007</td>\n",
       "      <td>30277</td>\n",
       "      <td>694</td>\n",
       "      <td>594</td>\n",
       "      <td>355</td>\n",
       "      <td>355</td>\n",
       "      <td>42.64</td>\n",
       "      <td>329</td>\n",
       "    </tr>\n",
       "    <tr>\n",
       "      <th>2</th>\n",
       "      <td>Celebration</td>\n",
       "      <td>Carnival</td>\n",
       "      <td>1987</td>\n",
       "      <td>47262</td>\n",
       "      <td>1486</td>\n",
       "      <td>722</td>\n",
       "      <td>743</td>\n",
       "      <td>670</td>\n",
       "      <td>31.80</td>\n",
       "      <td>453</td>\n",
       "    </tr>\n",
       "    <tr>\n",
       "      <th>3</th>\n",
       "      <td>Conquest</td>\n",
       "      <td>Carnival</td>\n",
       "      <td>2002</td>\n",
       "      <td>110000</td>\n",
       "      <td>2974</td>\n",
       "      <td>953</td>\n",
       "      <td>1488</td>\n",
       "      <td>1910</td>\n",
       "      <td>36.99</td>\n",
       "      <td>892</td>\n",
       "    </tr>\n",
       "    <tr>\n",
       "      <th>4</th>\n",
       "      <td>Destiny</td>\n",
       "      <td>Carnival</td>\n",
       "      <td>1996</td>\n",
       "      <td>101353</td>\n",
       "      <td>2642</td>\n",
       "      <td>892</td>\n",
       "      <td>1321</td>\n",
       "      <td>1000</td>\n",
       "      <td>38.36</td>\n",
       "      <td>740</td>\n",
       "    </tr>\n",
       "  </tbody>\n",
       "</table>\n",
       "</div>"
      ],
      "text/plain": [
       "          Ship      Line  YearBlt  Tonnage  passngrs  Length  Cabins  Crew  \\\n",
       "0      Journey   Azamara     2007    30277       694     594     355   355   \n",
       "1        Quest   Azamara     2007    30277       694     594     355   355   \n",
       "2  Celebration  Carnival     1987    47262      1486     722     743   670   \n",
       "3     Conquest  Carnival     2002   110000      2974     953    1488  1910   \n",
       "4      Destiny  Carnival     1996   101353      2642     892    1321  1000   \n",
       "\n",
       "   PassSpcR  outcab  \n",
       "0     42.64     329  \n",
       "1     42.64     329  \n",
       "2     31.80     453  \n",
       "3     36.99     892  \n",
       "4     38.36     740  "
      ]
     },
     "execution_count": 6,
     "metadata": {},
     "output_type": "execute_result"
    }
   ],
   "source": [
    "cruise_ship = pd.read_excel(\"cruise_ship.xlsx\")\n",
    "cruise_ship.head()"
   ]
  },
  {
   "cell_type": "code",
   "execution_count": 5,
   "id": "a74592b5",
   "metadata": {},
   "outputs": [
    {
     "data": {
      "text/plain": [
       "['Ship',\n",
       " 'Line',\n",
       " 'YearBlt',\n",
       " 'Tonnage',\n",
       " 'passngrs',\n",
       " 'Length',\n",
       " 'Cabins',\n",
       " 'Crew',\n",
       " 'PassSpcR',\n",
       " 'outcab']"
      ]
     },
     "execution_count": 5,
     "metadata": {},
     "output_type": "execute_result"
    }
   ],
   "source": [
    "list(cruise_ship.columns)"
   ]
  },
  {
   "cell_type": "markdown",
   "id": "5475e7ca",
   "metadata": {},
   "source": [
    "## YearBlt"
   ]
  },
  {
   "cell_type": "code",
   "execution_count": 7,
   "id": "57fae614",
   "metadata": {},
   "outputs": [
    {
     "data": {
      "text/plain": [
       "<AxesSubplot:>"
      ]
     },
     "execution_count": 7,
     "metadata": {},
     "output_type": "execute_result"
    },
    {
     "data": {
      "image/png": "[encoded data removed]",
      "text/plain": [
       "<Figure size 432x288 with 1 Axes>"
      ]
     },
     "metadata": {
      "needs_background": "light"
     },
     "output_type": "display_data"
    }
   ],
   "source": [
    "cruise_ship.YearBlt.hist()"
   ]
  },
  {
   "cell_type": "code",
   "execution_count": 8,
   "id": "a3006369",
   "metadata": {},
   "outputs": [],
   "source": [
    "## Since negatively skewed, use square and cube if needed\n",
    "\n",
    "cruise_ship['YearBltSqr'] = cruise_ship['YearBlt'] ^ 2"
   ]
  },
  {
   "cell_type": "code",
   "execution_count": 9,
   "id": "af7821e5",
   "metadata": {},
   "outputs": [
    {
     "data": {
      "text/plain": [
       "<AxesSubplot:>"
      ]
     },
     "execution_count": 9,
     "metadata": {},
     "output_type": "execute_result"
    },
    {
     "data": {
      "image/png": "[encoded data removed]",
      "text/plain": [
       "<Figure size 432x288 with 1 Axes>"
      ]
     },
     "metadata": {
      "needs_background": "light"
     },
     "output_type": "display_data"
    }
   ],
   "source": [
    "cruise_ship.YearBltSqr.hist()"
   ]
  },
  {
   "cell_type": "code",
   "execution_count": 10,
   "id": "143e937c",
   "metadata": {},
   "outputs": [],
   "source": [
    "# Looks better but not there yet, so try cube\n",
    "\n",
    "cruise_ship['YearBltCube'] = cruise_ship['YearBlt'] ^ 3"
   ]
  },
  {
   "cell_type": "code",
   "execution_count": 11,
   "id": "de45f9b9",
   "metadata": {},
   "outputs": [
    {
     "data": {
      "text/plain": [
       "<AxesSubplot:>"
      ]
     },
     "execution_count": 11,
     "metadata": {},
     "output_type": "execute_result"
    },
    {
     "data": {
      "image/png": "[encoded data removed]",
      "text/plain": [
       "<Figure size 432x288 with 1 Axes>"
      ]
     },
     "metadata": {
      "needs_background": "light"
     },
     "output_type": "display_data"
    }
   ],
   "source": [
    "cruise_ship.YearBltCube.hist()"
   ]
  },
  {
   "cell_type": "code",
   "execution_count": 12,
   "id": "09ace733",
   "metadata": {},
   "outputs": [],
   "source": [
    "# Looks much better."
   ]
  },
  {
   "cell_type": "markdown",
   "id": "ee39661f",
   "metadata": {},
   "source": [
    "## Tonnage"
   ]
  },
  {
   "cell_type": "code",
   "execution_count": 13,
   "id": "9b675cb9",
   "metadata": {},
   "outputs": [
    {
     "data": {
      "text/plain": [
       "<AxesSubplot:>"
      ]
     },
     "execution_count": 13,
     "metadata": {},
     "output_type": "execute_result"
    },
    {
     "data": {
      "image/png": "[encoded data removed]",
      "text/plain": [
       "<Figure size 432x288 with 1 Axes>"
      ]
     },
     "metadata": {
      "needs_background": "light"
     },
     "output_type": "display_data"
    }
   ],
   "source": [
    "cruise_ship.Tonnage.hist()"
   ]
  },
  {
   "cell_type": "code",
   "execution_count": 14,
   "id": "42e26bf9",
   "metadata": {},
   "outputs": [],
   "source": [
    "## Looks positively skewed, so will try sqrt\n",
    "\n",
    "cruise_ship['TonnageSqrt'] = np.sqrt(cruise_ship['Tonnage'])"
   ]
  },
  {
   "cell_type": "code",
   "execution_count": 15,
   "id": "09ce4c46",
   "metadata": {},
   "outputs": [
    {
     "data": {
      "text/plain": [
       "<AxesSubplot:>"
      ]
     },
     "execution_count": 15,
     "metadata": {},
     "output_type": "execute_result"
    },
    {
     "data": {
      "image/png": "[encoded data removed]",
      "text/plain": [
       "<Figure size 432x288 with 1 Axes>"
      ]
     },
     "metadata": {
      "needs_background": "light"
     },
     "output_type": "display_data"
    }
   ],
   "source": [
    "cruise_ship.TonnageSqrt.hist()"
   ]
  },
  {
   "cell_type": "code",
   "execution_count": 16,
   "id": "eff9a032",
   "metadata": {},
   "outputs": [],
   "source": [
    "# Looks good."
   ]
  },
  {
   "cell_type": "markdown",
   "id": "d3da157f",
   "metadata": {},
   "source": [
    "## passngrs"
   ]
  },
  {
   "cell_type": "code",
   "execution_count": 17,
   "id": "aaed8e46",
   "metadata": {},
   "outputs": [
    {
     "data": {
      "text/plain": [
       "<AxesSubplot:>"
      ]
     },
     "execution_count": 17,
     "metadata": {},
     "output_type": "execute_result"
    },
    {
     "data": {
      "image/png": "[encoded data removed]",
      "text/plain": [
       "<Figure size 432x288 with 1 Axes>"
      ]
     },
     "metadata": {
      "needs_background": "light"
     },
     "output_type": "display_data"
    }
   ],
   "source": [
    "cruise_ship.passngrs.hist()"
   ]
  },
  {
   "cell_type": "code",
   "execution_count": 18,
   "id": "e5bfd69b",
   "metadata": {},
   "outputs": [],
   "source": [
    "## Looks positively skewed, so will try sqrt\n",
    "\n",
    "cruise_ship['passngrsSqrt'] = np.sqrt(cruise_ship['passngrs'])"
   ]
  },
  {
   "cell_type": "code",
   "execution_count": 19,
   "id": "3b3d72f8",
   "metadata": {},
   "outputs": [
    {
     "data": {
      "text/plain": [
       "<AxesSubplot:>"
      ]
     },
     "execution_count": 19,
     "metadata": {},
     "output_type": "execute_result"
    },
    {
     "data": {
      "image/png": "[encoded data removed]",
      "text/plain": [
       "<Figure size 432x288 with 1 Axes>"
      ]
     },
     "metadata": {
      "needs_background": "light"
     },
     "output_type": "display_data"
    }
   ],
   "source": [
    "cruise_ship.passngrsSqrt.hist()"
   ]
  },
  {
   "cell_type": "markdown",
   "id": "cd29c4bd",
   "metadata": {},
   "source": [
    "## Length"
   ]
  },
  {
   "cell_type": "code",
   "execution_count": 21,
   "id": "e747490e",
   "metadata": {},
   "outputs": [
    {
     "data": {
      "text/plain": [
       "<AxesSubplot:>"
      ]
     },
     "execution_count": 21,
     "metadata": {},
     "output_type": "execute_result"
    },
    {
     "data": {
      "image/png": "[encoded data removed]",
      "text/plain": [
       "<Figure size 432x288 with 1 Axes>"
      ]
     },
     "metadata": {
      "needs_background": "light"
     },
     "output_type": "display_data"
    }
   ],
   "source": [
    "cruise_ship.Length.hist()"
   ]
  },
  {
   "cell_type": "code",
   "execution_count": 22,
   "id": "7f636fbb",
   "metadata": {},
   "outputs": [],
   "source": [
    "## Since negatively skewed, use square and cube if needed\n",
    "\n",
    "cruise_ship['LengthSqr'] = cruise_ship['Length'] ^ 2"
   ]
  },
  {
   "cell_type": "code",
   "execution_count": 23,
   "id": "52795c1f",
   "metadata": {},
   "outputs": [
    {
     "data": {
      "text/plain": [
       "<AxesSubplot:>"
      ]
     },
     "execution_count": 23,
     "metadata": {},
     "output_type": "execute_result"
    },
    {
     "data": {
      "image/png": "[encoded data removed]",
      "text/plain": [
       "<Figure size 432x288 with 1 Axes>"
      ]
     },
     "metadata": {
      "needs_background": "light"
     },
     "output_type": "display_data"
    }
   ],
   "source": [
    "cruise_ship.LengthSqr.hist()"
   ]
  },
  {
   "cell_type": "markdown",
   "id": "dfcf32be",
   "metadata": {},
   "source": [
    "## Cabins"
   ]
  },
  {
   "cell_type": "code",
   "execution_count": 24,
   "id": "21995b3d",
   "metadata": {},
   "outputs": [],
   "source": [
    "## Looks positively skewed, so will try sqrt\n",
    "\n",
    "cruise_ship['CabinsSqrt'] = np.sqrt(cruise_ship['Cabins'])"
   ]
  },
  {
   "cell_type": "code",
   "execution_count": 25,
   "id": "ae8022bb",
   "metadata": {},
   "outputs": [
    {
     "data": {
      "text/plain": [
       "<AxesSubplot:>"
      ]
     },
     "execution_count": 25,
     "metadata": {},
     "output_type": "execute_result"
    },
    {
     "data": {
      "image/png": "[encoded data removed]",
      "text/plain": [
       "<Figure size 432x288 with 1 Axes>"
      ]
     },
     "metadata": {
      "needs_background": "light"
     },
     "output_type": "display_data"
    }
   ],
   "source": [
    "cruise_ship.Cabins.hist()"
   ]
  },
  {
   "cell_type": "markdown",
   "id": "03d1cca4",
   "metadata": {},
   "source": [
    "## Crew"
   ]
  },
  {
   "cell_type": "code",
   "execution_count": 27,
   "id": "fca1fb1e",
   "metadata": {},
   "outputs": [
    {
     "data": {
      "text/plain": [
       "<AxesSubplot:>"
      ]
     },
     "execution_count": 27,
     "metadata": {},
     "output_type": "execute_result"
    },
    {
     "data": {
      "image/png": "[encoded data removed]",
      "text/plain": [
       "<Figure size 432x288 with 1 Axes>"
      ]
     },
     "metadata": {
      "needs_background": "light"
     },
     "output_type": "display_data"
    }
   ],
   "source": [
    "## Looks positively skewed, so will try sqrt\n",
    "\n",
    "cruise_ship['CrewSqrt'] = np.sqrt(cruise_ship['Crew'])\n",
    "\n",
    "cruise_ship.CrewSqrt.hist()"
   ]
  },
  {
   "cell_type": "markdown",
   "id": "24e421fc",
   "metadata": {},
   "source": [
    "## PassSpcR"
   ]
  },
  {
   "cell_type": "code",
   "execution_count": 28,
   "id": "92fe10f3",
   "metadata": {},
   "outputs": [
    {
     "data": {
      "text/plain": [
       "<AxesSubplot:>"
      ]
     },
     "execution_count": 28,
     "metadata": {},
     "output_type": "execute_result"
    },
    {
     "data": {
      "image/png": "[encoded data removed]",
      "text/plain": [
       "<Figure size 432x288 with 1 Axes>"
      ]
     },
     "metadata": {
      "needs_background": "light"
     },
     "output_type": "display_data"
    }
   ],
   "source": [
    "## Looks positively skewed, so will try sqrt\n",
    "\n",
    "cruise_ship['PassSpcRSqrt'] = np.sqrt(cruise_ship['PassSpcR'])\n",
    "\n",
    "cruise_ship.PassSpcRSqrt.hist()"
   ]
  },
  {
   "cell_type": "markdown",
   "id": "2c8b9aba",
   "metadata": {},
   "source": [
    "## outcab"
   ]
  },
  {
   "cell_type": "code",
   "execution_count": 29,
   "id": "6e1061f1",
   "metadata": {},
   "outputs": [
    {
     "data": {
      "text/plain": [
       "<AxesSubplot:>"
      ]
     },
     "execution_count": 29,
     "metadata": {},
     "output_type": "execute_result"
    },
    {
     "data": {
      "image/png": "[encoded data removed]",
      "text/plain": [
       "<Figure size 432x288 with 1 Axes>"
      ]
     },
     "metadata": {
      "needs_background": "light"
     },
     "output_type": "display_data"
    }
   ],
   "source": [
    "## Looks positively skewed, so will try sqrt\n",
    "\n",
    "cruise_ship['outcabSqrt'] = np.sqrt(cruise_ship['outcab'])\n",
    "\n",
    "cruise_ship.outcabSqrt.hist()"
   ]
  },
  {
   "cell_type": "code",
   "execution_count": null,
   "id": "073cd4dd",
   "metadata": {},
   "outputs": [],
   "source": []
  }
 ],
 "metadata": {
  "kernelspec": {
   "display_name": "Python 3.9.9 64-bit",
   "language": "python",
   "name": "python399jvsc74a57bd050292dbb1f747f7151d445135d392af3138fb3c65386d17d9510cb605222b10b"
  },
  "language_info": {
   "codemirror_mode": {
    "name": "ipython",
    "version": 3
   },
   "file_extension": ".py",
   "mimetype": "text/x-python",
   "name": "python",
   "nbconvert_exporter": "python",
   "pygments_lexer": "ipython3",
   "version": "3.9.9"
  }
 },
 "nbformat": 4,
 "nbformat_minor": 5
}
