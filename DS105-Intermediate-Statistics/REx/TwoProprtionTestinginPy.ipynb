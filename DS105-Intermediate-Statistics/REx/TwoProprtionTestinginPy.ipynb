{
 "cells": [
  {
   "cell_type": "code",
   "execution_count": 2,
   "id": "690496a3",
   "metadata": {},
   "outputs": [
    {
     "name": "stdout",
     "output_type": "stream",
     "text": [
      "0.23974366706563624 0.810528980523634\n"
     ]
    }
   ],
   "source": [
    "# For the Easter basket scenario from the last page, in which there are 15 jelly beans and 28 chocolate eggs,\n",
    "# with 7 pink jelly beans and 12 pink chocolate eggs, here's what the Python code would look like:\n",
    "\n",
    "import numpy as np\n",
    "from statsmodels.stats.proportion import proportions_ztest\n",
    "\n",
    "\n",
    "stat, pval = proportions_ztest([7, 12], [15, 28])\n",
    "print(stat,pval)"
   ]
  },
  {
   "cell_type": "code",
   "execution_count": 3,
   "id": "ecb97dca",
   "metadata": {},
   "outputs": [],
   "source": [
    "# You see exactly the same statistical results as in R and that there is not a significant difference\n",
    "# in the proportions of pink in either type of candy since p-value = .810"
   ]
  },
  {
   "cell_type": "code",
   "execution_count": null,
   "id": "22cdaf81",
   "metadata": {},
   "outputs": [],
   "source": []
  }
 ],
 "metadata": {
  "kernelspec": {
   "display_name": "Python 3.9.9 64-bit",
   "language": "python",
   "name": "python399jvsc74a57bd050292dbb1f747f7151d445135d392af3138fb3c65386d17d9510cb605222b10b"
  },
  "language_info": {
   "codemirror_mode": {
    "name": "ipython",
    "version": 3
   },
   "file_extension": ".py",
   "mimetype": "text/x-python",
   "name": "python",
   "nbconvert_exporter": "python",
   "pygments_lexer": "ipython3",
   "version": "3.9.9"
  }
 },
 "nbformat": 4,
 "nbformat_minor": 5
}
