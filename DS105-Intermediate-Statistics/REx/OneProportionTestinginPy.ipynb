{
 "cells": [
  {
   "cell_type": "code",
   "execution_count": 1,
   "id": "484f5a23",
   "metadata": {},
   "outputs": [],
   "source": [
    "# One Proportion Testing in Python\n",
    "# Now that you know how to do one proportion testing in R, you will try the exact same problem in Python,\n",
    "# examining the proportion of jellybeans to chocolate eggs in your Easter basket when you have 15 jellybeans out \n",
    "# of a total 43 pieces of candy in your randomly selected sample.\n",
    "\n",
    "# You'll start by importing a few packages. You'll need numpy as well as some specifics from statsmodels\n",
    "# to do your one proportion z test.\n",
    "\n"
   ]
  },
  {
   "cell_type": "code",
   "execution_count": 2,
   "id": "9a6fb408",
   "metadata": {},
   "outputs": [],
   "source": [
    "import numpy as np\n",
    "from statsmodels.stats.proportion import proportions_ztest\n"
   ]
  },
  {
   "cell_type": "code",
   "execution_count": 3,
   "id": "955fbc4b",
   "metadata": {},
   "outputs": [],
   "source": [
    "# Then you can define your count as the number of jelly beans, 15, and your nobs, standing for the number\n",
    "# of observations, as the total number of pieces of candy, which is 43. You will also define the proportion\n",
    "# value to which you want to compare. Since you are trying to test whether the number of jelly beans is equal \n",
    "# to the number of chocolate eggs, you will use a proportion of .5, which would be half and each would be equal.\n",
    "# Lastly you will define the output of your function proportions_ztest() as stat and pval, and will feed into the \n",
    "# proportions_ztest() function the arguments you just defined above: count, nobs, and value.\n",
    "\n"
   ]
  },
  {
   "cell_type": "code",
   "execution_count": 4,
   "id": "a5180b4c",
   "metadata": {},
   "outputs": [
    {
     "name": "stdout",
     "output_type": "stream",
     "text": [
      "-2.079806538622099 0.03754328113448803\n"
     ]
    }
   ],
   "source": [
    "count = 15\n",
    "nobs = 43\n",
    "value = .5\n",
    "stat, pval = proportions_ztest(count, nobs, value)\n",
    "print(stat,pval)"
   ]
  },
  {
   "cell_type": "code",
   "execution_count": 5,
   "id": "20699a35",
   "metadata": {},
   "outputs": [],
   "source": [
    "# Although the decimal precision for the p-value is slightly different than in R, you still come to \n",
    "# the same conclusion to reject to null hypothesis.\n",
    "\n"
   ]
  },
  {
   "cell_type": "code",
   "execution_count": null,
   "id": "887b5da1",
   "metadata": {},
   "outputs": [],
   "source": []
  }
 ],
 "metadata": {
  "kernelspec": {
   "display_name": "Python 3.9.9 64-bit",
   "language": "python",
   "name": "python399jvsc74a57bd050292dbb1f747f7151d445135d392af3138fb3c65386d17d9510cb605222b10b"
  },
  "language_info": {
   "codemirror_mode": {
    "name": "ipython",
    "version": 3
   },
   "file_extension": ".py",
   "mimetype": "text/x-python",
   "name": "python",
   "nbconvert_exporter": "python",
   "pygments_lexer": "ipython3",
   "version": "3.9.9"
  }
 },
 "nbformat": 4,
 "nbformat_minor": 5
}
