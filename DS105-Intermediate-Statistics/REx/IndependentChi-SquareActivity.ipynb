{
 "cells": [
  {
   "cell_type": "markdown",
   "id": "7b9280c3",
   "metadata": {},
   "source": [
    "# We have to determine if the shade of lipstick and the price category are related. "
   ]
  },
  {
   "cell_type": "markdown",
   "id": "86c2aace",
   "metadata": {},
   "source": [
    "## Load Packages"
   ]
  },
  {
   "cell_type": "code",
   "execution_count": 1,
   "id": "c962fdd3",
   "metadata": {},
   "outputs": [],
   "source": [
    "import pandas as pd\n",
    "from scipy import stats"
   ]
  },
  {
   "cell_type": "markdown",
   "id": "e98f44af",
   "metadata": {},
   "source": [
    "## Load data"
   ]
  },
  {
   "cell_type": "code",
   "execution_count": 3,
   "id": "508a39a8",
   "metadata": {},
   "outputs": [
    {
     "data": {
      "text/html": [
       "<div>\n",
       "<style scoped>\n",
       "    .dataframe tbody tr th:only-of-type {\n",
       "        vertical-align: middle;\n",
       "    }\n",
       "\n",
       "    .dataframe tbody tr th {\n",
       "        vertical-align: top;\n",
       "    }\n",
       "\n",
       "    .dataframe thead th {\n",
       "        text-align: right;\n",
       "    }\n",
       "</style>\n",
       "<table border=\"1\" class=\"dataframe\">\n",
       "  <thead>\n",
       "    <tr style=\"text-align: right;\">\n",
       "      <th></th>\n",
       "      <th>JRC_code</th>\n",
       "      <th>purchCntry</th>\n",
       "      <th>prodCntry</th>\n",
       "      <th>Pb</th>\n",
       "      <th>sdPb</th>\n",
       "      <th>shade</th>\n",
       "      <th>prodType</th>\n",
       "      <th>priceCatgry</th>\n",
       "    </tr>\n",
       "  </thead>\n",
       "  <tbody>\n",
       "    <tr>\n",
       "      <th>0</th>\n",
       "      <td>C135</td>\n",
       "      <td>NL</td>\n",
       "      <td>NL</td>\n",
       "      <td>3.75</td>\n",
       "      <td>0.24</td>\n",
       "      <td>Red</td>\n",
       "      <td>LP</td>\n",
       "      <td>2</td>\n",
       "    </tr>\n",
       "    <tr>\n",
       "      <th>1</th>\n",
       "      <td>C18</td>\n",
       "      <td>FI</td>\n",
       "      <td>FI</td>\n",
       "      <td>2.29</td>\n",
       "      <td>0.07</td>\n",
       "      <td>Red</td>\n",
       "      <td>LP</td>\n",
       "      <td>2</td>\n",
       "    </tr>\n",
       "    <tr>\n",
       "      <th>2</th>\n",
       "      <td>C20</td>\n",
       "      <td>FI</td>\n",
       "      <td>IT</td>\n",
       "      <td>1.27</td>\n",
       "      <td>0.06</td>\n",
       "      <td>Red</td>\n",
       "      <td>LP</td>\n",
       "      <td>2</td>\n",
       "    </tr>\n",
       "    <tr>\n",
       "      <th>3</th>\n",
       "      <td>C164</td>\n",
       "      <td>DE</td>\n",
       "      <td>FR</td>\n",
       "      <td>1.21</td>\n",
       "      <td>0.06</td>\n",
       "      <td>Red</td>\n",
       "      <td>LP</td>\n",
       "      <td>2</td>\n",
       "    </tr>\n",
       "    <tr>\n",
       "      <th>4</th>\n",
       "      <td>C71</td>\n",
       "      <td>MT</td>\n",
       "      <td>UK</td>\n",
       "      <td>0.85</td>\n",
       "      <td>0.04</td>\n",
       "      <td>Red</td>\n",
       "      <td>LP</td>\n",
       "      <td>2</td>\n",
       "    </tr>\n",
       "  </tbody>\n",
       "</table>\n",
       "</div>"
      ],
      "text/plain": [
       "  JRC_code purchCntry prodCntry    Pb  sdPb shade prodType  priceCatgry\n",
       "0     C135         NL        NL  3.75  0.24   Red       LP            2\n",
       "1      C18         FI        FI  2.29  0.07   Red       LP            2\n",
       "2      C20         FI        IT  1.27  0.06   Red       LP            2\n",
       "3     C164         DE        FR  1.21  0.06   Red       LP            2\n",
       "4      C71         MT        UK  0.85  0.04   Red       LP            2"
      ]
     },
     "execution_count": 3,
     "metadata": {},
     "output_type": "execute_result"
    }
   ],
   "source": [
    "lipstick = pd.read_csv(\"lead_lipstick.csv\")\n",
    "lipstick.head()"
   ]
  },
  {
   "cell_type": "code",
   "execution_count": 5,
   "id": "c202f8a4",
   "metadata": {},
   "outputs": [
    {
     "data": {
      "text/plain": [
       "Pink      81\n",
       "Brown     60\n",
       "Red       45\n",
       "Purple    37\n",
       "Name: shade, dtype: int64"
      ]
     },
     "execution_count": 5,
     "metadata": {},
     "output_type": "execute_result"
    }
   ],
   "source": [
    "lipstick.shade.value_counts()"
   ]
  },
  {
   "cell_type": "code",
   "execution_count": 6,
   "id": "22b6e67e",
   "metadata": {},
   "outputs": [],
   "source": [
    "# We have four levels/types of shades."
   ]
  },
  {
   "cell_type": "code",
   "execution_count": 7,
   "id": "3af88725",
   "metadata": {},
   "outputs": [
    {
     "data": {
      "text/plain": [
       "2    135\n",
       "1     53\n",
       "3     35\n",
       "Name: priceCatgry, dtype: int64"
      ]
     },
     "execution_count": 7,
     "metadata": {},
     "output_type": "execute_result"
    }
   ],
   "source": [
    "lipstick.priceCatgry.value_counts()"
   ]
  },
  {
   "cell_type": "code",
   "execution_count": 8,
   "id": "2c5a312c",
   "metadata": {},
   "outputs": [],
   "source": [
    "# The price category, priceCatgry, has three levels:\n",
    "\n",
    "# 1: < 5 euros\n",
    "# 2: 5-15 euros\n",
    "# 3: > 15 euros"
   ]
  },
  {
   "cell_type": "markdown",
   "id": "b877e775",
   "metadata": {},
   "source": [
    "## Test assumption and Run the Analysis"
   ]
  },
  {
   "cell_type": "code",
   "execution_count": 9,
   "id": "7eff9fdc",
   "metadata": {},
   "outputs": [],
   "source": [
    "# There is only one assumption for Chi-Square, and it is that when you are looking at the contingency tables,\n",
    "# the expected frequencies for each cell need to have at least 5 entries per cell.\n",
    "# In Python, the only way to easily generate an expected frequencies table is actually to run the analysis. \n",
    "# So, you will conduct your independent Chi-Square first, and then make sure it meets this assumption!"
   ]
  },
  {
   "cell_type": "markdown",
   "id": "f38e6c08",
   "metadata": {},
   "source": [
    "## Create a contingency table."
   ]
  },
  {
   "cell_type": "code",
   "execution_count": 10,
   "id": "a36ac22a",
   "metadata": {},
   "outputs": [
    {
     "data": {
      "text/html": [
       "<div>\n",
       "<style scoped>\n",
       "    .dataframe tbody tr th:only-of-type {\n",
       "        vertical-align: middle;\n",
       "    }\n",
       "\n",
       "    .dataframe tbody tr th {\n",
       "        vertical-align: top;\n",
       "    }\n",
       "\n",
       "    .dataframe thead th {\n",
       "        text-align: right;\n",
       "    }\n",
       "</style>\n",
       "<table border=\"1\" class=\"dataframe\">\n",
       "  <thead>\n",
       "    <tr style=\"text-align: right;\">\n",
       "      <th>priceCatgry</th>\n",
       "      <th>1</th>\n",
       "      <th>2</th>\n",
       "      <th>3</th>\n",
       "    </tr>\n",
       "    <tr>\n",
       "      <th>shade</th>\n",
       "      <th></th>\n",
       "      <th></th>\n",
       "      <th></th>\n",
       "    </tr>\n",
       "  </thead>\n",
       "  <tbody>\n",
       "    <tr>\n",
       "      <th>Brown</th>\n",
       "      <td>20</td>\n",
       "      <td>30</td>\n",
       "      <td>10</td>\n",
       "    </tr>\n",
       "    <tr>\n",
       "      <th>Pink</th>\n",
       "      <td>20</td>\n",
       "      <td>49</td>\n",
       "      <td>12</td>\n",
       "    </tr>\n",
       "    <tr>\n",
       "      <th>Purple</th>\n",
       "      <td>8</td>\n",
       "      <td>23</td>\n",
       "      <td>6</td>\n",
       "    </tr>\n",
       "    <tr>\n",
       "      <th>Red</th>\n",
       "      <td>5</td>\n",
       "      <td>33</td>\n",
       "      <td>7</td>\n",
       "    </tr>\n",
       "  </tbody>\n",
       "</table>\n",
       "</div>"
      ],
      "text/plain": [
       "priceCatgry   1   2   3\n",
       "shade                  \n",
       "Brown        20  30  10\n",
       "Pink         20  49  12\n",
       "Purple        8  23   6\n",
       "Red           5  33   7"
      ]
     },
     "execution_count": 10,
     "metadata": {},
     "output_type": "execute_result"
    }
   ],
   "source": [
    "# The first thing that needs to be done, before you can run the independent Chi-Square analysis,\n",
    "# is to create a contingency table, sometimes called a crosstab, which shows how each level of \n",
    "# each variable crosses with the other variable levels. \n",
    "\n",
    "lipstick_crosstab = pd.crosstab(lipstick['shade'], lipstick['priceCatgry'])\n",
    "lipstick_crosstab"
   ]
  },
  {
   "cell_type": "markdown",
   "id": "76dccf7c",
   "metadata": {},
   "source": [
    "## Running the independent Chi-Square"
   ]
  },
  {
   "cell_type": "code",
   "execution_count": 11,
   "id": "0a054b64",
   "metadata": {},
   "outputs": [
    {
     "data": {
      "text/plain": [
       "(7.860569553614045,\n",
       " 0.2484973879479863,\n",
       " 6,\n",
       " array([[14.26008969, 36.32286996,  9.41704036],\n",
       "        [19.25112108, 49.03587444, 12.71300448],\n",
       "        [ 8.79372197, 22.39910314,  5.80717489],\n",
       "        [10.69506726, 27.24215247,  7.06278027]]))"
      ]
     },
     "execution_count": 11,
     "metadata": {},
     "output_type": "execute_result"
    }
   ],
   "source": [
    "# Once you have the contingency table, then you can run the function stats.chi2_contingency on the contingency\n",
    "# table you have created:\n",
    "\n",
    "stats.chi2_contingency(lipstick_crosstab)"
   ]
  },
  {
   "cell_type": "code",
   "execution_count": 12,
   "id": "e84d8db4",
   "metadata": {},
   "outputs": [],
   "source": [
    "# The first value is your Chi-Square statistic which. is 7.86.\n",
    "# The second value is your p value associated with that Chi-Square statistic which is .25. \n",
    "# Looking at this, it looks like there is not a significant relationship between Lipstick Shade and product price. \n",
    "# No shade is pricier or cheaper than the other."
   ]
  },
  {
   "cell_type": "markdown",
   "id": "45091995",
   "metadata": {},
   "source": [
    "## Test the assumptions of 5 cases per expected cell"
   ]
  },
  {
   "cell_type": "code",
   "execution_count": 13,
   "id": "d69ccc71",
   "metadata": {},
   "outputs": [],
   "source": [
    "# The last piece of the output, labeled array, is your expected count contingency table.\n",
    "# The expected count is what you would expect to happen if there was no relationship between the two variables.\n",
    "# Since all of these values are over 5, this means that the assumption has been met, \n",
    "# and you are free to present and discuss these results without any limitations!"
   ]
  },
  {
   "cell_type": "code",
   "execution_count": null,
   "id": "ff80bc90",
   "metadata": {},
   "outputs": [],
   "source": []
  }
 ],
 "metadata": {
  "kernelspec": {
   "display_name": "Python 3.9.9 64-bit",
   "language": "python",
   "name": "python399jvsc74a57bd050292dbb1f747f7151d445135d392af3138fb3c65386d17d9510cb605222b10b"
  },
  "language_info": {
   "codemirror_mode": {
    "name": "ipython",
    "version": 3
   },
   "file_extension": ".py",
   "mimetype": "text/x-python",
   "name": "python",
   "nbconvert_exporter": "python",
   "pygments_lexer": "ipython3",
   "version": "3.9.9"
  }
 },
 "nbformat": 4,
 "nbformat_minor": 5
}
