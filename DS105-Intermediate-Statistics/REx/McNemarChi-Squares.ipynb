{
 "cells": [
  {
   "cell_type": "markdown",
   "id": "078cb206",
   "metadata": {},
   "source": [
    "## Load in Packages"
   ]
  },
  {
   "cell_type": "code",
   "execution_count": 1,
   "id": "c6d5cb9f",
   "metadata": {},
   "outputs": [],
   "source": [
    "\n",
    "# In order to run McNemar Chi-Squares in Python, you will need pandas to read in your data,\n",
    "# and statsmodels to analyze it:\n",
    "\n",
    "import pandas as pd\n",
    "import statsmodels as sm\n",
    "from statsmodels.stats.contingency_tables import mcnemar"
   ]
  },
  {
   "cell_type": "markdown",
   "id": "9293f4b7",
   "metadata": {},
   "source": [
    "## Load in Data\n"
   ]
  },
  {
   "cell_type": "code",
   "execution_count": 4,
   "id": "f2226981",
   "metadata": {},
   "outputs": [],
   "source": [
    "bakery_sales = pd.read_csv(\"bakery_sales.csv\")"
   ]
  },
  {
   "cell_type": "markdown",
   "id": "4c8d93bf",
   "metadata": {},
   "source": [
    "## Question SetUp"
   ]
  },
  {
   "cell_type": "code",
   "execution_count": 5,
   "id": "11af8375",
   "metadata": {},
   "outputs": [],
   "source": [
    "# You will be answering the following question:\n",
    "\n",
    "# Do the sales of coffee change from the beginning of the month to the end of the month?"
   ]
  },
  {
   "cell_type": "markdown",
   "id": "12ea6d9f",
   "metadata": {},
   "source": [
    "## Data Wrangling"
   ]
  },
  {
   "cell_type": "markdown",
   "id": "38371f68",
   "metadata": {},
   "source": [
    "### Separating the Pieces of the Date Variable"
   ]
  },
  {
   "cell_type": "code",
   "execution_count": 7,
   "id": "e8bb6f94",
   "metadata": {},
   "outputs": [],
   "source": [
    "# The first order of business is to separate out your Date column. You can do this with the function str.split():\n",
    "\n",
    "bakery_sales1 = bakery_sales['Date'].str.split('/', expand=True).rename(columns = lambda x: \"Date\" + str(x +1))"
   ]
  },
  {
   "cell_type": "code",
   "execution_count": 11,
   "id": "59dc7002",
   "metadata": {},
   "outputs": [],
   "source": [
    "# And then of course you'll need to put your data back together again:\n",
    "\n",
    "bakery_sales2 = pd.concat([bakery_sales, bakery_sales1], axis=1)"
   ]
  },
  {
   "cell_type": "code",
   "execution_count": 12,
   "id": "bf570826",
   "metadata": {},
   "outputs": [
    {
     "data": {
      "text/html": [
       "<div>\n",
       "<style scoped>\n",
       "    .dataframe tbody tr th:only-of-type {\n",
       "        vertical-align: middle;\n",
       "    }\n",
       "\n",
       "    .dataframe tbody tr th {\n",
       "        vertical-align: top;\n",
       "    }\n",
       "\n",
       "    .dataframe thead th {\n",
       "        text-align: right;\n",
       "    }\n",
       "</style>\n",
       "<table border=\"1\" class=\"dataframe\">\n",
       "  <thead>\n",
       "    <tr style=\"text-align: right;\">\n",
       "      <th></th>\n",
       "      <th>Date</th>\n",
       "      <th>Time</th>\n",
       "      <th>Transaction</th>\n",
       "      <th>Item</th>\n",
       "      <th>Date1</th>\n",
       "      <th>Date2</th>\n",
       "      <th>Date3</th>\n",
       "    </tr>\n",
       "  </thead>\n",
       "  <tbody>\n",
       "    <tr>\n",
       "      <th>0</th>\n",
       "      <td>10/30/2016</td>\n",
       "      <td>9:58:11 AM</td>\n",
       "      <td>1</td>\n",
       "      <td>Bread</td>\n",
       "      <td>10</td>\n",
       "      <td>30</td>\n",
       "      <td>2016</td>\n",
       "    </tr>\n",
       "    <tr>\n",
       "      <th>1</th>\n",
       "      <td>10/30/2016</td>\n",
       "      <td>10:05:34 AM</td>\n",
       "      <td>2</td>\n",
       "      <td>Scandinavian</td>\n",
       "      <td>10</td>\n",
       "      <td>30</td>\n",
       "      <td>2016</td>\n",
       "    </tr>\n",
       "    <tr>\n",
       "      <th>2</th>\n",
       "      <td>10/30/2016</td>\n",
       "      <td>10:05:34 AM</td>\n",
       "      <td>2</td>\n",
       "      <td>Scandinavian</td>\n",
       "      <td>10</td>\n",
       "      <td>30</td>\n",
       "      <td>2016</td>\n",
       "    </tr>\n",
       "    <tr>\n",
       "      <th>3</th>\n",
       "      <td>10/30/2016</td>\n",
       "      <td>10:07:57 AM</td>\n",
       "      <td>3</td>\n",
       "      <td>Hot chocolate</td>\n",
       "      <td>10</td>\n",
       "      <td>30</td>\n",
       "      <td>2016</td>\n",
       "    </tr>\n",
       "    <tr>\n",
       "      <th>4</th>\n",
       "      <td>10/30/2016</td>\n",
       "      <td>10:07:57 AM</td>\n",
       "      <td>3</td>\n",
       "      <td>Jam</td>\n",
       "      <td>10</td>\n",
       "      <td>30</td>\n",
       "      <td>2016</td>\n",
       "    </tr>\n",
       "    <tr>\n",
       "      <th>...</th>\n",
       "      <td>...</td>\n",
       "      <td>...</td>\n",
       "      <td>...</td>\n",
       "      <td>...</td>\n",
       "      <td>...</td>\n",
       "      <td>...</td>\n",
       "      <td>...</td>\n",
       "    </tr>\n",
       "    <tr>\n",
       "      <th>21288</th>\n",
       "      <td>4/9/2017</td>\n",
       "      <td>2:32:58 PM</td>\n",
       "      <td>9682</td>\n",
       "      <td>Coffee</td>\n",
       "      <td>4</td>\n",
       "      <td>9</td>\n",
       "      <td>2017</td>\n",
       "    </tr>\n",
       "    <tr>\n",
       "      <th>21289</th>\n",
       "      <td>4/9/2017</td>\n",
       "      <td>2:32:58 PM</td>\n",
       "      <td>9682</td>\n",
       "      <td>Tea</td>\n",
       "      <td>4</td>\n",
       "      <td>9</td>\n",
       "      <td>2017</td>\n",
       "    </tr>\n",
       "    <tr>\n",
       "      <th>21290</th>\n",
       "      <td>4/9/2017</td>\n",
       "      <td>2:57:06 PM</td>\n",
       "      <td>9683</td>\n",
       "      <td>Coffee</td>\n",
       "      <td>4</td>\n",
       "      <td>9</td>\n",
       "      <td>2017</td>\n",
       "    </tr>\n",
       "    <tr>\n",
       "      <th>21291</th>\n",
       "      <td>4/9/2017</td>\n",
       "      <td>2:57:06 PM</td>\n",
       "      <td>9683</td>\n",
       "      <td>Pastry</td>\n",
       "      <td>4</td>\n",
       "      <td>9</td>\n",
       "      <td>2017</td>\n",
       "    </tr>\n",
       "    <tr>\n",
       "      <th>21292</th>\n",
       "      <td>4/9/2017</td>\n",
       "      <td>3:04:24 PM</td>\n",
       "      <td>9684</td>\n",
       "      <td>Smoothies</td>\n",
       "      <td>4</td>\n",
       "      <td>9</td>\n",
       "      <td>2017</td>\n",
       "    </tr>\n",
       "  </tbody>\n",
       "</table>\n",
       "<p>21293 rows × 7 columns</p>\n",
       "</div>"
      ],
      "text/plain": [
       "             Date         Time  Transaction           Item Date1 Date2 Date3\n",
       "0      10/30/2016   9:58:11 AM            1          Bread    10    30  2016\n",
       "1      10/30/2016  10:05:34 AM            2   Scandinavian    10    30  2016\n",
       "2      10/30/2016  10:05:34 AM            2   Scandinavian    10    30  2016\n",
       "3      10/30/2016  10:07:57 AM            3  Hot chocolate    10    30  2016\n",
       "4      10/30/2016  10:07:57 AM            3            Jam    10    30  2016\n",
       "...           ...          ...          ...            ...   ...   ...   ...\n",
       "21288    4/9/2017   2:32:58 PM         9682         Coffee     4     9  2017\n",
       "21289    4/9/2017   2:32:58 PM         9682            Tea     4     9  2017\n",
       "21290    4/9/2017   2:57:06 PM         9683         Coffee     4     9  2017\n",
       "21291    4/9/2017   2:57:06 PM         9683         Pastry     4     9  2017\n",
       "21292    4/9/2017   3:04:24 PM         9684      Smoothies     4     9  2017\n",
       "\n",
       "[21293 rows x 7 columns]"
      ]
     },
     "execution_count": 12,
     "metadata": {},
     "output_type": "execute_result"
    }
   ],
   "source": [
    "bakery_sales2"
   ]
  },
  {
   "cell_type": "markdown",
   "id": "d0bcacb4",
   "metadata": {},
   "source": [
    "### Changing Day to an Integer"
   ]
  },
  {
   "cell_type": "code",
   "execution_count": 15,
   "id": "47a98ce4",
   "metadata": {},
   "outputs": [
    {
     "name": "stdout",
     "output_type": "stream",
     "text": [
      "<class 'pandas.core.frame.DataFrame'>\n",
      "RangeIndex: 21293 entries, 0 to 21292\n",
      "Data columns (total 7 columns):\n",
      " #   Column       Non-Null Count  Dtype \n",
      "---  ------       --------------  ----- \n",
      " 0   Date         21293 non-null  object\n",
      " 1   Time         21293 non-null  object\n",
      " 2   Transaction  21293 non-null  int64 \n",
      " 3   Item         21293 non-null  object\n",
      " 4   Date1        21293 non-null  object\n",
      " 5   Date2        21293 non-null  object\n",
      " 6   Date3        21293 non-null  object\n",
      "dtypes: int64(1), object(6)\n",
      "memory usage: 1.1+ MB\n"
     ]
    }
   ],
   "source": [
    "# Next you'll need to recode the Date2 variable so that it provides information about beginning or ending of \n",
    "# the month. To do this, your Date2 variable will need to be an integer.\n",
    "# You can double check that it is with the function info():\n",
    "\n",
    "bakery_sales2.info()"
   ]
  },
  {
   "cell_type": "code",
   "execution_count": 16,
   "id": "cdae8bf8",
   "metadata": {},
   "outputs": [],
   "source": [
    "# So it looks like Date2 is currently string data, which is common after doing the str.split() function - \n",
    "# after all, it literally translates into \"string split!\" \n",
    "# However, this is an easy fix - you can use the astype(int) function:\n",
    "\n",
    "bakery_sales2.Date2 = bakery_sales2.Date2.astype(int)"
   ]
  },
  {
   "cell_type": "markdown",
   "id": "727353c7",
   "metadata": {},
   "source": [
    "### Recoding to Beginning or End of Month\n"
   ]
  },
  {
   "cell_type": "code",
   "execution_count": 20,
   "id": "f2399cd2",
   "metadata": {},
   "outputs": [],
   "source": [
    "def Date_BegEnd(date_2):\n",
    "    if date_2 <= 15:\n",
    "        return 0\n",
    "    if date_2 > 15:\n",
    "        return 1\n",
    "    \n",
    "bakery_sales2['DayR'] = bakery_sales2['Date2'].apply(Date_BegEnd)"
   ]
  },
  {
   "cell_type": "markdown",
   "id": "5129447e",
   "metadata": {},
   "source": [
    "### Recoding coffee"
   ]
  },
  {
   "cell_type": "code",
   "execution_count": 25,
   "id": "a29e2fcf",
   "metadata": {},
   "outputs": [],
   "source": [
    "def CofYesNo(Item_1):\n",
    "    if Item_1 == 'Coffee':\n",
    "        return 1\n",
    "    if Item_1 != 'Coffee':\n",
    "        return 0\n",
    "\n",
    "bakery_sales2['CoffeeYN'] = bakery_sales2['Item'].apply(CofYesNo)"
   ]
  },
  {
   "cell_type": "code",
   "execution_count": 30,
   "id": "16934df1",
   "metadata": {},
   "outputs": [],
   "source": [
    "bakery_sales2.drop('CofeeYN',inplace = True, axis=1)"
   ]
  },
  {
   "cell_type": "markdown",
   "id": "51813c44",
   "metadata": {},
   "source": [
    "## Make a Contingency Table"
   ]
  },
  {
   "cell_type": "code",
   "execution_count": 32,
   "id": "ea8718b1",
   "metadata": {},
   "outputs": [
    {
     "data": {
      "text/html": [
       "<div>\n",
       "<style scoped>\n",
       "    .dataframe tbody tr th:only-of-type {\n",
       "        vertical-align: middle;\n",
       "    }\n",
       "\n",
       "    .dataframe tbody tr th {\n",
       "        vertical-align: top;\n",
       "    }\n",
       "\n",
       "    .dataframe thead th {\n",
       "        text-align: right;\n",
       "    }\n",
       "</style>\n",
       "<table border=\"1\" class=\"dataframe\">\n",
       "  <thead>\n",
       "    <tr style=\"text-align: right;\">\n",
       "      <th>CoffeeYN</th>\n",
       "      <th>0</th>\n",
       "      <th>1</th>\n",
       "    </tr>\n",
       "    <tr>\n",
       "      <th>DayR</th>\n",
       "      <th></th>\n",
       "      <th></th>\n",
       "    </tr>\n",
       "  </thead>\n",
       "  <tbody>\n",
       "    <tr>\n",
       "      <th>0</th>\n",
       "      <td>8238</td>\n",
       "      <td>2841</td>\n",
       "    </tr>\n",
       "    <tr>\n",
       "      <th>1</th>\n",
       "      <td>7584</td>\n",
       "      <td>2630</td>\n",
       "    </tr>\n",
       "  </tbody>\n",
       "</table>\n",
       "</div>"
      ],
      "text/plain": [
       "CoffeeYN     0     1\n",
       "DayR                \n",
       "0         8238  2841\n",
       "1         7584  2630"
      ]
     },
     "execution_count": 32,
     "metadata": {},
     "output_type": "execute_result"
    }
   ],
   "source": [
    "# Next, you will need to make a contingency table, since the function for McNemar Chi-Squares in \n",
    "# Python will not accept raw data. Happily, the pd.crosstab() function you learned earlier will do this \n",
    "# job easily for you:\n",
    "\n",
    "bakery_crosstab = pd.crosstab(bakery_sales2['DayR'], bakery_sales2['CoffeeYN'])\n",
    "bakery_crosstab"
   ]
  },
  {
   "cell_type": "code",
   "execution_count": 31,
   "id": "0550aff1",
   "metadata": {},
   "outputs": [
    {
     "data": {
      "text/html": [
       "<div>\n",
       "<style scoped>\n",
       "    .dataframe tbody tr th:only-of-type {\n",
       "        vertical-align: middle;\n",
       "    }\n",
       "\n",
       "    .dataframe tbody tr th {\n",
       "        vertical-align: top;\n",
       "    }\n",
       "\n",
       "    .dataframe thead th {\n",
       "        text-align: right;\n",
       "    }\n",
       "</style>\n",
       "<table border=\"1\" class=\"dataframe\">\n",
       "  <thead>\n",
       "    <tr style=\"text-align: right;\">\n",
       "      <th></th>\n",
       "      <th>Date</th>\n",
       "      <th>Time</th>\n",
       "      <th>Transaction</th>\n",
       "      <th>Item</th>\n",
       "      <th>Date1</th>\n",
       "      <th>Date2</th>\n",
       "      <th>Date3</th>\n",
       "      <th>DayR</th>\n",
       "      <th>CoffeeYN</th>\n",
       "    </tr>\n",
       "  </thead>\n",
       "  <tbody>\n",
       "    <tr>\n",
       "      <th>0</th>\n",
       "      <td>10/30/2016</td>\n",
       "      <td>9:58:11 AM</td>\n",
       "      <td>1</td>\n",
       "      <td>Bread</td>\n",
       "      <td>10</td>\n",
       "      <td>30</td>\n",
       "      <td>2016</td>\n",
       "      <td>1</td>\n",
       "      <td>0</td>\n",
       "    </tr>\n",
       "    <tr>\n",
       "      <th>1</th>\n",
       "      <td>10/30/2016</td>\n",
       "      <td>10:05:34 AM</td>\n",
       "      <td>2</td>\n",
       "      <td>Scandinavian</td>\n",
       "      <td>10</td>\n",
       "      <td>30</td>\n",
       "      <td>2016</td>\n",
       "      <td>1</td>\n",
       "      <td>0</td>\n",
       "    </tr>\n",
       "    <tr>\n",
       "      <th>2</th>\n",
       "      <td>10/30/2016</td>\n",
       "      <td>10:05:34 AM</td>\n",
       "      <td>2</td>\n",
       "      <td>Scandinavian</td>\n",
       "      <td>10</td>\n",
       "      <td>30</td>\n",
       "      <td>2016</td>\n",
       "      <td>1</td>\n",
       "      <td>0</td>\n",
       "    </tr>\n",
       "    <tr>\n",
       "      <th>3</th>\n",
       "      <td>10/30/2016</td>\n",
       "      <td>10:07:57 AM</td>\n",
       "      <td>3</td>\n",
       "      <td>Hot chocolate</td>\n",
       "      <td>10</td>\n",
       "      <td>30</td>\n",
       "      <td>2016</td>\n",
       "      <td>1</td>\n",
       "      <td>0</td>\n",
       "    </tr>\n",
       "    <tr>\n",
       "      <th>4</th>\n",
       "      <td>10/30/2016</td>\n",
       "      <td>10:07:57 AM</td>\n",
       "      <td>3</td>\n",
       "      <td>Jam</td>\n",
       "      <td>10</td>\n",
       "      <td>30</td>\n",
       "      <td>2016</td>\n",
       "      <td>1</td>\n",
       "      <td>0</td>\n",
       "    </tr>\n",
       "    <tr>\n",
       "      <th>...</th>\n",
       "      <td>...</td>\n",
       "      <td>...</td>\n",
       "      <td>...</td>\n",
       "      <td>...</td>\n",
       "      <td>...</td>\n",
       "      <td>...</td>\n",
       "      <td>...</td>\n",
       "      <td>...</td>\n",
       "      <td>...</td>\n",
       "    </tr>\n",
       "    <tr>\n",
       "      <th>21288</th>\n",
       "      <td>4/9/2017</td>\n",
       "      <td>2:32:58 PM</td>\n",
       "      <td>9682</td>\n",
       "      <td>Coffee</td>\n",
       "      <td>4</td>\n",
       "      <td>9</td>\n",
       "      <td>2017</td>\n",
       "      <td>0</td>\n",
       "      <td>1</td>\n",
       "    </tr>\n",
       "    <tr>\n",
       "      <th>21289</th>\n",
       "      <td>4/9/2017</td>\n",
       "      <td>2:32:58 PM</td>\n",
       "      <td>9682</td>\n",
       "      <td>Tea</td>\n",
       "      <td>4</td>\n",
       "      <td>9</td>\n",
       "      <td>2017</td>\n",
       "      <td>0</td>\n",
       "      <td>0</td>\n",
       "    </tr>\n",
       "    <tr>\n",
       "      <th>21290</th>\n",
       "      <td>4/9/2017</td>\n",
       "      <td>2:57:06 PM</td>\n",
       "      <td>9683</td>\n",
       "      <td>Coffee</td>\n",
       "      <td>4</td>\n",
       "      <td>9</td>\n",
       "      <td>2017</td>\n",
       "      <td>0</td>\n",
       "      <td>1</td>\n",
       "    </tr>\n",
       "    <tr>\n",
       "      <th>21291</th>\n",
       "      <td>4/9/2017</td>\n",
       "      <td>2:57:06 PM</td>\n",
       "      <td>9683</td>\n",
       "      <td>Pastry</td>\n",
       "      <td>4</td>\n",
       "      <td>9</td>\n",
       "      <td>2017</td>\n",
       "      <td>0</td>\n",
       "      <td>0</td>\n",
       "    </tr>\n",
       "    <tr>\n",
       "      <th>21292</th>\n",
       "      <td>4/9/2017</td>\n",
       "      <td>3:04:24 PM</td>\n",
       "      <td>9684</td>\n",
       "      <td>Smoothies</td>\n",
       "      <td>4</td>\n",
       "      <td>9</td>\n",
       "      <td>2017</td>\n",
       "      <td>0</td>\n",
       "      <td>0</td>\n",
       "    </tr>\n",
       "  </tbody>\n",
       "</table>\n",
       "<p>21293 rows × 9 columns</p>\n",
       "</div>"
      ],
      "text/plain": [
       "             Date         Time  Transaction           Item Date1  Date2 Date3  \\\n",
       "0      10/30/2016   9:58:11 AM            1          Bread    10     30  2016   \n",
       "1      10/30/2016  10:05:34 AM            2   Scandinavian    10     30  2016   \n",
       "2      10/30/2016  10:05:34 AM            2   Scandinavian    10     30  2016   \n",
       "3      10/30/2016  10:07:57 AM            3  Hot chocolate    10     30  2016   \n",
       "4      10/30/2016  10:07:57 AM            3            Jam    10     30  2016   \n",
       "...           ...          ...          ...            ...   ...    ...   ...   \n",
       "21288    4/9/2017   2:32:58 PM         9682         Coffee     4      9  2017   \n",
       "21289    4/9/2017   2:32:58 PM         9682            Tea     4      9  2017   \n",
       "21290    4/9/2017   2:57:06 PM         9683         Coffee     4      9  2017   \n",
       "21291    4/9/2017   2:57:06 PM         9683         Pastry     4      9  2017   \n",
       "21292    4/9/2017   3:04:24 PM         9684      Smoothies     4      9  2017   \n",
       "\n",
       "       DayR  CoffeeYN  \n",
       "0         1         0  \n",
       "1         1         0  \n",
       "2         1         0  \n",
       "3         1         0  \n",
       "4         1         0  \n",
       "...     ...       ...  \n",
       "21288     0         1  \n",
       "21289     0         0  \n",
       "21290     0         1  \n",
       "21291     0         0  \n",
       "21292     0         0  \n",
       "\n",
       "[21293 rows x 9 columns]"
      ]
     },
     "execution_count": 31,
     "metadata": {},
     "output_type": "execute_result"
    }
   ],
   "source": [
    "bakery_sales2"
   ]
  },
  {
   "cell_type": "markdown",
   "id": "20c2b585",
   "metadata": {},
   "source": [
    "## Test Assumptions and Run Analyses\n"
   ]
  },
  {
   "cell_type": "code",
   "execution_count": 33,
   "id": "2465f169",
   "metadata": {},
   "outputs": [],
   "source": [
    "# In Python, there is no way to test the assumption of at least five expected per cell, \n",
    "# which means that if you are analyzing high stakes data, where accuracy really matters, \n",
    "# Python is NOT the program for you to run a McNemar Chi-Square in.\n",
    "\n",
    "# You will use the function sm.stats.contingency_tables.mcnemar() to run your McNemar Chi-Square. \n",
    "# It takes the arguments of the crosstab you just created, exact=, which you can set to False, and correction=, \n",
    "# which will be set to True.\n",
    "\n"
   ]
  },
  {
   "cell_type": "code",
   "execution_count": 34,
   "id": "0a43198b",
   "metadata": {},
   "outputs": [],
   "source": [
    "result = sm.stats.contingency_tables.mcnemar(bakery_crosstab, exact=False, correction=True)"
   ]
  },
  {
   "cell_type": "code",
   "execution_count": 35,
   "id": "bf68dff1",
   "metadata": {},
   "outputs": [
    {
     "name": "stdout",
     "output_type": "stream",
     "text": [
      "pvalue      0.0\n",
      "statistic   2156.984556354916\n"
     ]
    }
   ],
   "source": [
    "print(result)"
   ]
  },
  {
   "cell_type": "code",
   "execution_count": 36,
   "id": "ad10f51e",
   "metadata": {},
   "outputs": [],
   "source": [
    "# Interpret Results\n",
    "# Alright! You now have results, and they are significant - the p value is less than .05, \n",
    "# so it looks like different amounts of coffee is sold in the morning and afternoon! How does it differ? \n",
    "# With Python, you'll NEVER KNOW! It does not provide the ability to look at standardized residuals, \n",
    "# so you can't look at post hocs.\n",
    "\n"
   ]
  },
  {
   "cell_type": "code",
   "execution_count": null,
   "id": "9f133209",
   "metadata": {},
   "outputs": [],
   "source": []
  }
 ],
 "metadata": {
  "kernelspec": {
   "display_name": "Python 3.9.9 64-bit",
   "language": "python",
   "name": "python399jvsc74a57bd050292dbb1f747f7151d445135d392af3138fb3c65386d17d9510cb605222b10b"
  },
  "language_info": {
   "codemirror_mode": {
    "name": "ipython",
    "version": 3
   },
   "file_extension": ".py",
   "mimetype": "text/x-python",
   "name": "python",
   "nbconvert_exporter": "python",
   "pygments_lexer": "ipython3",
   "version": "3.9.9"
  }
 },
 "nbformat": 4,
 "nbformat_minor": 5
}
