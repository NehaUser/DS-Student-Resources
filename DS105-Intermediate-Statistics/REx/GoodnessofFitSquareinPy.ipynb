{
 "cells": [
  {
   "cell_type": "markdown",
   "id": "c884e79e",
   "metadata": {},
   "source": [
    "## Import Packages"
   ]
  },
  {
   "cell_type": "code",
   "execution_count": 1,
   "id": "456c5906",
   "metadata": {},
   "outputs": [],
   "source": [
    "\n",
    "# You will need the package pandas to read in your data, and scipy to run the analysis:\n",
    "\n",
    "import pandas as pd\n",
    "import scipy, scipy.stats\n"
   ]
  },
  {
   "cell_type": "markdown",
   "id": "5a6f1d30",
   "metadata": {},
   "source": [
    "## Load data"
   ]
  },
  {
   "cell_type": "code",
   "execution_count": 2,
   "id": "739d9eff",
   "metadata": {},
   "outputs": [],
   "source": [
    "SW_survey_renamed = pd.read_csv(\"SW_survey_renamed.csv\")"
   ]
  },
  {
   "cell_type": "markdown",
   "id": "ae152374",
   "metadata": {},
   "source": [
    "## Question Set Up"
   ]
  },
  {
   "cell_type": "code",
   "execution_count": 4,
   "id": "336eeea8",
   "metadata": {},
   "outputs": [],
   "source": [
    "\n",
    "# You will be testing the same premise as when you did a goodness of fit Chi-Square in R: \n",
    "# You found something online that mentioned that 90% of people are Star Wars fans, and you want to see\n",
    "# if that holds true in your own survey. In this way, you are comparing your sample (the survey) to the\n",
    "# population at large (what you read online).\n",
    "\n"
   ]
  },
  {
   "cell_type": "markdown",
   "id": "06144f04",
   "metadata": {},
   "source": [
    "## Data Wrangling"
   ]
  },
  {
   "cell_type": "code",
   "execution_count": 5,
   "id": "cf8f8df8",
   "metadata": {},
   "outputs": [
    {
     "data": {
      "text/plain": [
       "Yes    552\n",
       "No     284\n",
       "Name: FanYN, dtype: int64"
      ]
     },
     "execution_count": 5,
     "metadata": {},
     "output_type": "execute_result"
    }
   ],
   "source": [
    "\n",
    "# You will need to get the number of people who were and were not fans of Star Wars. \n",
    "# Luckily, this is relatively easy to do with the pandas function value_counts():\n",
    "\n",
    "SW_survey_renamed.FanYN.value_counts()\n"
   ]
  },
  {
   "cell_type": "markdown",
   "id": "4447782c",
   "metadata": {},
   "source": [
    "## Run the Analysis"
   ]
  },
  {
   "cell_type": "code",
   "execution_count": 6,
   "id": "2e4caa13",
   "metadata": {},
   "outputs": [
    {
     "name": "stderr",
     "output_type": "stream",
     "text": [
      "/var/folders/w0/t7zkm9d12h11l_wy7wwcclsm0000gn/T/ipykernel_1770/3550143782.py:3: DeprecationWarning: scipy.array is deprecated and will be removed in SciPy 2.0.0, use numpy.array instead\n",
      "  observed_values = scipy.array([552, 284])\n"
     ]
    }
   ],
   "source": [
    "# Now you are ready to run your analysis! You will first create a variable that houses the observed values:\n",
    "\n",
    "observed_values = scipy.array([552, 284])\n"
   ]
  },
  {
   "cell_type": "code",
   "execution_count": 7,
   "id": "e58baa1d",
   "metadata": {},
   "outputs": [
    {
     "name": "stderr",
     "output_type": "stream",
     "text": [
      "/var/folders/w0/t7zkm9d12h11l_wy7wwcclsm0000gn/T/ipykernel_1770/126019297.py:7: DeprecationWarning: scipy.array is deprecated and will be removed in SciPy 2.0.0, use numpy.array instead\n",
      "  expected_values = scipy.array([752, 84])\n"
     ]
    }
   ],
   "source": [
    "# Then you will create a variable that houses the expected values. Unlike R, Python requires you to have raw \n",
    "# numbers, not percentages here, so you will ned to calculate the values yourself. First, add up your\n",
    "# expected values to get the total: 552 + 284 = 836. Then, multiply that number by .9 to get what percentage \n",
    " # would be 90%. The number is 752 - this becomes your first expected value. \n",
    "    # Then subtract hat number, 752, from the total, and you will get your other value: 836-752 = 84.\n",
    "\n",
    "expected_values = scipy.array([752, 84])\n"
   ]
  },
  {
   "cell_type": "code",
   "execution_count": 8,
   "id": "25ba2ad3",
   "metadata": {},
   "outputs": [
    {
     "data": {
      "text/plain": [
       "Power_divergenceResult(statistic=529.3819655521784, pvalue=3.849512370977756e-117)"
      ]
     },
     "execution_count": 8,
     "metadata": {},
     "output_type": "execute_result"
    }
   ],
   "source": [
    "# Once you have those two variables, it is simply a matter of plugging them into your chisquare() function that\n",
    "# comes in scipy.stats:\n",
    "\n",
    "scipy.stats.chisquare(observed_values, f_exp=expected_values)"
   ]
  },
  {
   "cell_type": "code",
   "execution_count": null,
   "id": "4ff41eb7",
   "metadata": {},
   "outputs": [],
   "source": [
    "# p-val is this means that this value is extremely significant  And remember that a significant goodness of\n",
    "# fit Chi-Square means that your sample significantly differs from the population in some way.\n",
    "\n"
   ]
  }
 ],
 "metadata": {
  "kernelspec": {
   "display_name": "Python 3.9.9 64-bit",
   "language": "python",
   "name": "python399jvsc74a57bd050292dbb1f747f7151d445135d392af3138fb3c65386d17d9510cb605222b10b"
  },
  "language_info": {
   "codemirror_mode": {
    "name": "ipython",
    "version": 3
   },
   "file_extension": ".py",
   "mimetype": "text/x-python",
   "name": "python",
   "nbconvert_exporter": "python",
   "pygments_lexer": "ipython3",
   "version": "3.9.9"
  }
 },
 "nbformat": 4,
 "nbformat_minor": 5
}
