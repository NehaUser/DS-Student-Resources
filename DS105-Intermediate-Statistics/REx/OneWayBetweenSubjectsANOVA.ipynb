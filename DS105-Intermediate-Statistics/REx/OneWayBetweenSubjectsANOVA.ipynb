{
 "cells": [
  {
   "cell_type": "markdown",
   "id": "5b32e41f",
   "metadata": {},
   "source": [
    "## Import packages"
   ]
  },
  {
   "cell_type": "code",
   "execution_count": 18,
   "id": "a337bf47",
   "metadata": {},
   "outputs": [],
   "source": [
    "import pandas as pd\n",
    "import numpy as np\n",
    "import scipy\n",
    "import seaborn as sns\n",
    "from scipy import stats\n",
    "from statsmodels.stats.multicomp import pairwise_tukeyhsd\n",
    "from statsmodels.stats.multicomp import MultiComparison\n"
   ]
  },
  {
   "cell_type": "markdown",
   "id": "dcea09b7",
   "metadata": {},
   "source": [
    "## Load data"
   ]
  },
  {
   "cell_type": "code",
   "execution_count": 6,
   "id": "553f4063",
   "metadata": {},
   "outputs": [],
   "source": [
    "apps = pd.read_csv(\"googleplaystore.csv\")"
   ]
  },
  {
   "cell_type": "markdown",
   "id": "72941f98",
   "metadata": {},
   "source": [
    "## Question setup"
   ]
  },
  {
   "cell_type": "code",
   "execution_count": 3,
   "id": "3a4360a8",
   "metadata": {},
   "outputs": [],
   "source": [
    "# Is there a difference in the number of reviews among the three app categories of beauty, food and drink,\n",
    "# and photography? \n",
    "\n",
    "# In order to answer this question, your x, or independent variable, will be the app categories, \n",
    "# which has three levels: beauty, food and drink, and photography. Your y, or dependent variable, \n",
    "# will be the reviews. As with all ANOVAs, the IV will be categorical, and the DV will be continuous."
   ]
  },
  {
   "cell_type": "markdown",
   "id": "99894521",
   "metadata": {},
   "source": [
    "## Data Wrangling"
   ]
  },
  {
   "cell_type": "code",
   "execution_count": 4,
   "id": "5a4d5067",
   "metadata": {},
   "outputs": [],
   "source": [
    "# Although you can run the actual ANOVA using the original data, you can't test the assumptions or run the post \n",
    "# hocs unless the data is wrangled.\n",
    "\n"
   ]
  },
  {
   "cell_type": "markdown",
   "id": "69e620da",
   "metadata": {},
   "source": [
    "### Focusing on the Three Categories\n",
    " "
   ]
  },
  {
   "cell_type": "code",
   "execution_count": 7,
   "id": "4903640e",
   "metadata": {},
   "outputs": [],
   "source": [
    "# The data has many more categories than three, so you will need to filter the dataset by the categories \n",
    "# you want: beauty, food and drink, and photography.\n",
    "\n",
    "categories = ['BEAUTY', 'FOOD_AND_DRINK','PHOTOGRAPHY']\n",
    "apps1 = apps['Category'].isin(categories)\n",
    "apps2 = apps[apps1].copy()"
   ]
  },
  {
   "cell_type": "code",
   "execution_count": 8,
   "id": "8a96510c",
   "metadata": {},
   "outputs": [],
   "source": [
    "# The code above makes a list of the categories you want to keep, then searches through the Category column \n",
    "# using the isin() function to keep only those that match. Then, you can apply that list to your actually data\n",
    "# frame, being sure to you use the .copy() function to change this from a slice into a data frame."
   ]
  },
  {
   "cell_type": "markdown",
   "id": "f98803a1",
   "metadata": {},
   "source": [
    "### Subsetting to Only the Variables Needed\n"
   ]
  },
  {
   "cell_type": "code",
   "execution_count": 9,
   "id": "2dc8cc63",
   "metadata": {},
   "outputs": [],
   "source": [
    "# You only want to keep the two variables you'll need in your test: Category and Reviews.\n",
    "\n",
    "apps3 = apps2[['Category','Reviews']]"
   ]
  },
  {
   "cell_type": "markdown",
   "id": "f3ac24af",
   "metadata": {},
   "source": [
    "### Changing the DV, Reviews, to integer"
   ]
  },
  {
   "cell_type": "code",
   "execution_count": 10,
   "id": "e98dd7a5",
   "metadata": {},
   "outputs": [
    {
     "name": "stdout",
     "output_type": "stream",
     "text": [
      "<class 'pandas.core.frame.DataFrame'>\n",
      "Int64Index: 515 entries, 98 to 10740\n",
      "Data columns (total 2 columns):\n",
      " #   Column    Non-Null Count  Dtype \n",
      "---  ------    --------------  ----- \n",
      " 0   Category  515 non-null    object\n",
      " 1   Reviews   515 non-null    object\n",
      "dtypes: object(2)\n",
      "memory usage: 12.1+ KB\n"
     ]
    }
   ],
   "source": [
    "# Your dependent variable will need to be an integer. You can check what format it is in by using the .info() function:\n",
    "\n",
    "apps3.info()"
   ]
  },
  {
   "cell_type": "code",
   "execution_count": 11,
   "id": "d485a630",
   "metadata": {},
   "outputs": [
    {
     "name": "stderr",
     "output_type": "stream",
     "text": [
      "/var/folders/w0/t7zkm9d12h11l_wy7wwcclsm0000gn/T/ipykernel_15591/1715174673.py:1: SettingWithCopyWarning: \n",
      "A value is trying to be set on a copy of a slice from a DataFrame.\n",
      "Try using .loc[row_indexer,col_indexer] = value instead\n",
      "\n",
      "See the caveats in the documentation: https://pandas.pydata.org/pandas-docs/stable/user_guide/indexing.html#returning-a-view-versus-a-copy\n",
      "  apps3.Reviews = apps3.Reviews.astype(int)\n"
     ]
    }
   ],
   "source": [
    "apps3.Reviews = apps3.Reviews.astype(int)\n"
   ]
  },
  {
   "cell_type": "markdown",
   "id": "af1537f5",
   "metadata": {},
   "source": [
    "### Recoding Category to Number too"
   ]
  },
  {
   "cell_type": "code",
   "execution_count": 12,
   "id": "79eed09e",
   "metadata": {},
   "outputs": [
    {
     "name": "stderr",
     "output_type": "stream",
     "text": [
      "/var/folders/w0/t7zkm9d12h11l_wy7wwcclsm0000gn/T/ipykernel_15591/3882659166.py:11: SettingWithCopyWarning: \n",
      "A value is trying to be set on a copy of a slice from a DataFrame.\n",
      "Try using .loc[row_indexer,col_indexer] = value instead\n",
      "\n",
      "See the caveats in the documentation: https://pandas.pydata.org/pandas-docs/stable/user_guide/indexing.html#returning-a-view-versus-a-copy\n",
      "  apps3['CategoryR'] = apps3['Category'].apply(recode)\n"
     ]
    }
   ],
   "source": [
    "# The post-hocs and assumptions won't take any string values, so you'll need to recode Category as well:\n",
    "\n",
    "def recode (series):\n",
    "    if series == \"BEAUTY\": \n",
    "        return 0\n",
    "    if series == \"FOOD_AND_DRINK\": \n",
    "        return 1\n",
    "    if series == \"PHOTOGRAPHY\": \n",
    "        return 2\n",
    "\n",
    "apps3['CategoryR'] = apps3['Category'].apply(recode)\n"
   ]
  },
  {
   "cell_type": "code",
   "execution_count": 13,
   "id": "9929b119",
   "metadata": {},
   "outputs": [
    {
     "data": {
      "text/html": [
       "<div>\n",
       "<style scoped>\n",
       "    .dataframe tbody tr th:only-of-type {\n",
       "        vertical-align: middle;\n",
       "    }\n",
       "\n",
       "    .dataframe tbody tr th {\n",
       "        vertical-align: top;\n",
       "    }\n",
       "\n",
       "    .dataframe thead th {\n",
       "        text-align: right;\n",
       "    }\n",
       "</style>\n",
       "<table border=\"1\" class=\"dataframe\">\n",
       "  <thead>\n",
       "    <tr style=\"text-align: right;\">\n",
       "      <th></th>\n",
       "      <th>Category</th>\n",
       "      <th>Reviews</th>\n",
       "      <th>CategoryR</th>\n",
       "    </tr>\n",
       "  </thead>\n",
       "  <tbody>\n",
       "    <tr>\n",
       "      <th>98</th>\n",
       "      <td>BEAUTY</td>\n",
       "      <td>18900</td>\n",
       "      <td>0</td>\n",
       "    </tr>\n",
       "    <tr>\n",
       "      <th>99</th>\n",
       "      <td>BEAUTY</td>\n",
       "      <td>49790</td>\n",
       "      <td>0</td>\n",
       "    </tr>\n",
       "    <tr>\n",
       "      <th>100</th>\n",
       "      <td>BEAUTY</td>\n",
       "      <td>1150</td>\n",
       "      <td>0</td>\n",
       "    </tr>\n",
       "    <tr>\n",
       "      <th>101</th>\n",
       "      <td>BEAUTY</td>\n",
       "      <td>1739</td>\n",
       "      <td>0</td>\n",
       "    </tr>\n",
       "    <tr>\n",
       "      <th>102</th>\n",
       "      <td>BEAUTY</td>\n",
       "      <td>32090</td>\n",
       "      <td>0</td>\n",
       "    </tr>\n",
       "  </tbody>\n",
       "</table>\n",
       "</div>"
      ],
      "text/plain": [
       "    Category  Reviews  CategoryR\n",
       "98    BEAUTY    18900          0\n",
       "99    BEAUTY    49790          0\n",
       "100   BEAUTY     1150          0\n",
       "101   BEAUTY     1739          0\n",
       "102   BEAUTY    32090          0"
      ]
     },
     "execution_count": 13,
     "metadata": {},
     "output_type": "execute_result"
    }
   ],
   "source": [
    "apps3.head()"
   ]
  },
  {
   "cell_type": "markdown",
   "id": "05d09a33",
   "metadata": {},
   "source": [
    "### Dropping the original Category Variable"
   ]
  },
  {
   "cell_type": "code",
   "execution_count": 14,
   "id": "65b8a678",
   "metadata": {},
   "outputs": [],
   "source": [
    "# You now have three variables again! Go ahead and drop the original Category variable out, \n",
    "# since it's mere presence will throw off the work you'll do later.\n",
    "\n",
    "apps4 = apps3[['CategoryR','Reviews']]"
   ]
  },
  {
   "cell_type": "code",
   "execution_count": 15,
   "id": "0880ef75",
   "metadata": {},
   "outputs": [],
   "source": [
    "# And finally, eons later, you are all prepared to run a one-way ANOVA and all it's assumptions and post-hoc tests.\n",
    "# Phew! R required a lot less wrangling, because it is specifically meant for advanced statistics.\n",
    "\n"
   ]
  },
  {
   "cell_type": "markdown",
   "id": "c9cb7455",
   "metadata": {},
   "source": [
    "## Running the assumptions"
   ]
  },
  {
   "cell_type": "code",
   "execution_count": 16,
   "id": "dad6e606",
   "metadata": {},
   "outputs": [],
   "source": [
    "# If the assumptions are not met for ANOVA, but you proceeded anyway, you run the risk of biasing your results."
   ]
  },
  {
   "cell_type": "markdown",
   "id": "b86b0f64",
   "metadata": {},
   "source": [
    "### Normality"
   ]
  },
  {
   "cell_type": "code",
   "execution_count": 21,
   "id": "7b2a8322",
   "metadata": {},
   "outputs": [
    {
     "name": "stderr",
     "output_type": "stream",
     "text": [
      "/opt/homebrew/lib/python3.9/site-packages/seaborn/distributions.py:2619: FutureWarning: `distplot` is a deprecated function and will be removed in a future version. Please adapt your code to use either `displot` (a figure-level function with similar flexibility) or `histplot` (an axes-level function for histograms).\n",
      "  warnings.warn(msg, FutureWarning)\n"
     ]
    },
    {
     "data": {
      "text/plain": [
       "<AxesSubplot:xlabel='Reviews', ylabel='Density'>"
      ]
     },
     "execution_count": 21,
     "metadata": {},
     "output_type": "execute_result"
    },
    {
     "data": {
      "image/png": "[encoded data removed]",
      "text/plain": [
       "<Figure size 432x288 with 1 Axes>"
      ]
     },
     "metadata": {
      "needs_background": "light"
     },
     "output_type": "display_data"
    }
   ],
   "source": [
    "# You only need to test for the normality of the dependent variable, since the IV is categorical.\n",
    "\n",
    "sns.distplot(apps4['Reviews'])"
   ]
  },
  {
   "cell_type": "code",
   "execution_count": 22,
   "id": "80453012",
   "metadata": {},
   "outputs": [],
   "source": [
    "# sns.displot(data = apps4, x = 'Reviews', kde = True)"
   ]
  },
  {
   "cell_type": "code",
   "execution_count": 23,
   "id": "67bf98b7",
   "metadata": {},
   "outputs": [],
   "source": [
    "# Looks like that isn't normal in any way - it is very highly positively skewed. So, you'll need to transform price by taking the square root or the log.\n",
    "\n",
    "apps4['ReviewsSQRT'] = np.sqrt(apps4['Reviews'])"
   ]
  },
  {
   "cell_type": "code",
   "execution_count": 24,
   "id": "177aad90",
   "metadata": {},
   "outputs": [
    {
     "name": "stderr",
     "output_type": "stream",
     "text": [
      "/opt/homebrew/lib/python3.9/site-packages/seaborn/distributions.py:2619: FutureWarning: `distplot` is a deprecated function and will be removed in a future version. Please adapt your code to use either `displot` (a figure-level function with similar flexibility) or `histplot` (an axes-level function for histograms).\n",
      "  warnings.warn(msg, FutureWarning)\n"
     ]
    },
    {
     "data": {
      "text/plain": [
       "<AxesSubplot:xlabel='ReviewsSQRT', ylabel='Density'>"
      ]
     },
     "execution_count": 24,
     "metadata": {},
     "output_type": "execute_result"
    },
    {
     "data": {
      "image/png": "[encoded data removed]",
      "text/plain": [
       "<Figure size 432x288 with 1 Axes>"
      ]
     },
     "metadata": {
      "needs_background": "light"
     },
     "output_type": "display_data"
    }
   ],
   "source": [
    "# Plotting\n",
    "\n",
    "sns.distplot(apps4['ReviewsSQRT'])"
   ]
  },
  {
   "cell_type": "code",
   "execution_count": 25,
   "id": "6e1f9f58",
   "metadata": {},
   "outputs": [],
   "source": [
    "# That looks relatively normal, so keep it there:"
   ]
  },
  {
   "cell_type": "markdown",
   "id": "25fd9e5f",
   "metadata": {},
   "source": [
    "## Homogeneity of Variance"
   ]
  },
  {
   "cell_type": "code",
   "execution_count": 27,
   "id": "b4d7932b",
   "metadata": {},
   "outputs": [],
   "source": [
    "# Just like in R, you can test for homogeneity of variance easily using either Bartlett's test or Fligner's Test. Bartlett's test is for when your data is normally distributed, and Fligner's test is for when your data is non-parametric. No matter which test you are using, you are looking for a non-significant test. The null hypothesis for both of these is that the data has equal variance, so you'd like to have a p value of > .05. Since you have corrected your data, you can use Bartlett's test, but just for learning purposes, you'll try both here."
   ]
  },
  {
   "cell_type": "markdown",
   "id": "14a75062",
   "metadata": {},
   "source": [
    "### Bartlett's Test\n"
   ]
  },
  {
   "cell_type": "code",
   "execution_count": 28,
   "id": "80dca79a",
   "metadata": {},
   "outputs": [
    {
     "data": {
      "text/plain": [
       "BartlettResult(statistic=6187.981817647615, pvalue=0.0)"
      ]
     },
     "execution_count": 28,
     "metadata": {},
     "output_type": "execute_result"
    }
   ],
   "source": [
    "# To do Bartlett's test, use the function scipy.stats.bartlett(), with the argument of the y data,\n",
    "# followed by the x data.\n",
    "\n",
    "scipy.stats.bartlett(apps4['ReviewsSQRT'], apps4['CategoryR'])\n"
   ]
  },
  {
   "cell_type": "code",
   "execution_count": 29,
   "id": "f9ac2a21",
   "metadata": {},
   "outputs": [],
   "source": [
    "# The p value associated with this test is < .05, which means that unfortunately, you have violated the assumption\n",
    "# of homogeneity of variance."
   ]
  },
  {
   "cell_type": "markdown",
   "id": "7e49dd5b",
   "metadata": {},
   "source": [
    "### Fligner's Test\n"
   ]
  },
  {
   "cell_type": "code",
   "execution_count": 30,
   "id": "0def7378",
   "metadata": {},
   "outputs": [
    {
     "data": {
      "text/plain": [
       "FlignerResult(statistic=642.0602581715318, pvalue=1.1908711834100128e-141)"
      ]
     },
     "execution_count": 30,
     "metadata": {},
     "output_type": "execute_result"
    }
   ],
   "source": [
    "# To perform Fligner's test, use the function scipy.stats.fligner(), with the argument of the y data, followed by the x data.\n",
    "\n",
    "scipy.stats.fligner(apps4['ReviewsSQRT'], apps4['CategoryR'])"
   ]
  },
  {
   "cell_type": "code",
   "execution_count": 31,
   "id": "21ca7e74",
   "metadata": {},
   "outputs": [],
   "source": [
    "# The p value is still < .05, which means you have violated the assumption of homogeneity of variance."
   ]
  },
  {
   "cell_type": "markdown",
   "id": "54e8f394",
   "metadata": {},
   "source": [
    "### Correcting for Violations of Homogeneity of Variance\n"
   ]
  },
  {
   "cell_type": "code",
   "execution_count": 32,
   "id": "404cf827",
   "metadata": {},
   "outputs": [],
   "source": [
    "# As you know, there are many different ways to correct for this violation in the general field of statistics. \n",
    "# However, Python does not support any of them! Which means that you can run the ANOVA, but there is a good \n",
    "# chance it will be inaccurate. If you do choose to proceed with the analysis in Python, ensure that all\n",
    "# parties consuming your results understand that there could be inaccuracies with the data analysis!\n",
    "\n",
    "# It is recommended, however, that if you violate the assumption of homogeneity of variance that you switch over\n",
    "# to R, and proceed from there. You are becoming a guru in both languages for a reason!"
   ]
  },
  {
   "cell_type": "markdown",
   "id": "ab6d7ac5",
   "metadata": {},
   "source": [
    "### Sample Size"
   ]
  },
  {
   "cell_type": "code",
   "execution_count": 33,
   "id": "17ba3873",
   "metadata": {},
   "outputs": [],
   "source": [
    "# An ANOVA requires a sample size of at least 20 per independent variable. In this case, you only have one \n",
    "# independent variable, so as long as you have at least 20 cases, you are fine. Looking at the data, the n is 515, \n",
    "# so you are fine to proceed with this assumption!"
   ]
  },
  {
   "cell_type": "markdown",
   "id": "d295d01f",
   "metadata": {},
   "source": [
    "### Independence"
   ]
  },
  {
   "cell_type": "code",
   "execution_count": 35,
   "id": "6351be07",
   "metadata": {},
   "outputs": [],
   "source": [
    "### There is no statistical test for the assumption of independence, so you can proceed!\n",
    "\n"
   ]
  },
  {
   "cell_type": "markdown",
   "id": "4fc691ca",
   "metadata": {},
   "source": [
    "## Computing ANOVAs with Equal Variance (Met Homogeneity of Variance Assumption)\n"
   ]
  },
  {
   "cell_type": "code",
   "execution_count": 36,
   "id": "8f5adfb1",
   "metadata": {},
   "outputs": [],
   "source": [
    "# In this case, your data did not meet this assumption, but for the purposes of learning, you'll be \n",
    "# shown what to do if you had.\n",
    "\n",
    "# Below is the code to run a one-way ANOVA in Python. It uses the function stats.f_oneway() and the arguments\n",
    "# are the three categories, crossed with your dependent variable. So here your DV is listed out, followed by the \n",
    "# first level of your IV. Each level is separated by a comma:"
   ]
  },
  {
   "cell_type": "code",
   "execution_count": 37,
   "id": "f21cf4b1",
   "metadata": {},
   "outputs": [
    {
     "data": {
      "text/plain": [
       "F_onewayResult(statistic=11.467490725511773, pvalue=1.342932747373518e-05)"
      ]
     },
     "execution_count": 37,
     "metadata": {},
     "output_type": "execute_result"
    }
   ],
   "source": [
    "stats.f_oneway(apps['Reviews'][apps['Category']=='BEAUTY'],\n",
    "                    apps['Reviews'][apps['Category']=='FOOD_AND_DRINK'],\n",
    "                    apps['Reviews'][apps['Category']=='PHOTOGRAPHY'])\n"
   ]
  },
  {
   "cell_type": "code",
   "execution_count": 38,
   "id": "2c9ff6ef",
   "metadata": {},
   "outputs": [],
   "source": [
    "# Since the p value is less than .05, there is a significant difference in Reviews between these three categories.\n",
    "\n"
   ]
  },
  {
   "cell_type": "markdown",
   "id": "581eced2",
   "metadata": {},
   "source": [
    "## Computing ANOVAs with Unequal Variance (Violated Homogeneity of Variance Assumption)"
   ]
  },
  {
   "cell_type": "code",
   "execution_count": 39,
   "id": "a6274d9d",
   "metadata": {},
   "outputs": [],
   "source": [
    "# There is NO WAY to compute ANOVAs with unequal variance in Python! Either switch over to R or be \n",
    "# VERY CAUTIOUS when interpreting your results and don't use for anything high stakes!\n",
    "\n"
   ]
  },
  {
   "cell_type": "markdown",
   "id": "944a8326",
   "metadata": {},
   "source": [
    "## Post Hocs"
   ]
  },
  {
   "cell_type": "code",
   "execution_count": 40,
   "id": "ce1b8fe8",
   "metadata": {},
   "outputs": [],
   "source": [
    "# It's important to run post-hocs to figure out what groups significantly differed from each other.\n",
    "# In Python, the only automatically coding for post-hocs that is available is the Tukey post hoc, \n",
    "# so that is what you will learn.\n",
    "\n"
   ]
  },
  {
   "cell_type": "markdown",
   "id": "a75fc82b",
   "metadata": {},
   "source": [
    "### Computing Post Hocs with Tukey's\n"
   ]
  },
  {
   "cell_type": "code",
   "execution_count": 41,
   "id": "650bdd6c",
   "metadata": {},
   "outputs": [
    {
     "name": "stdout",
     "output_type": "stream",
     "text": [
      " Multiple Comparison of Means - Tukey HSD, FWER=0.05  \n",
      "======================================================\n",
      "group1 group2 meandiff p-adj   lower    upper   reject\n",
      "------------------------------------------------------\n",
      "     0      1   111.89 0.4062 -93.3095 317.0896  False\n",
      "     0      2  419.474    0.0 233.9776 604.9704   True\n",
      "     1      2  307.584    0.0 176.8235 438.3446   True\n",
      "------------------------------------------------------\n"
     ]
    }
   ],
   "source": [
    "# Here is the code for computing a Tukey's post hoc in Python:\n",
    "\n",
    "postHoc = MultiComparison(apps4['ReviewsSQRT'], apps4['CategoryR'])\n",
    "postHocResults = postHoc.tukeyhsd()\n",
    "print(postHocResults)"
   ]
  },
  {
   "cell_type": "code",
   "execution_count": 42,
   "id": "00fbadd3",
   "metadata": {},
   "outputs": [],
   "source": [
    "# Interpreting this is a little harder than in R, because you've been forced to recode your categorical IV to have\n",
    " # numbers instead. So, make sure you refer back to that recode command to remember which number is which. \n",
    "    # 0 stands for beauty apps, 1 stands for food and drink apps, and 2 stands for photography apps. \n",
    "    # This output provides you with the mean difference in the number of reviews per comparison, plus the\n",
    "    # confidence interval (lower and upper columns), and whether or not you can reject the null hypothesis. \n",
    "    # If the value in the reject column is True, then this means there was a significant difference in the means\n",
    "    # between those groups. So, there is a significant difference between the number of reviews between \n",
    "# photography and both beauty and food and drink apps. What is that difference? Well, you will have to examine\n",
    "# the means.\n",
    "\n"
   ]
  },
  {
   "cell_type": "markdown",
   "id": "49b9ca1b",
   "metadata": {},
   "source": [
    "### Computing Post Hocs When You've Violated the Assumption of Homogeneity of Variance"
   ]
  },
  {
   "cell_type": "code",
   "execution_count": 43,
   "id": "5aed336e",
   "metadata": {},
   "outputs": [],
   "source": [
    "# There is NO WAY to compute post hocs with unequal variance in Python! Either switch over to R or be VERY CAUTIOUS when interpreting your results and don't use for anything high stakes!\n",
    "\n"
   ]
  },
  {
   "cell_type": "markdown",
   "id": "9de49fd2",
   "metadata": {},
   "source": [
    "## Determine Means and Draw Conclusions\n"
   ]
  },
  {
   "cell_type": "code",
   "execution_count": 44,
   "id": "d82ef65e",
   "metadata": {},
   "outputs": [
    {
     "data": {
      "text/html": [
       "<div>\n",
       "<style scoped>\n",
       "    .dataframe tbody tr th:only-of-type {\n",
       "        vertical-align: middle;\n",
       "    }\n",
       "\n",
       "    .dataframe tbody tr th {\n",
       "        vertical-align: top;\n",
       "    }\n",
       "\n",
       "    .dataframe thead th {\n",
       "        text-align: right;\n",
       "    }\n",
       "</style>\n",
       "<table border=\"1\" class=\"dataframe\">\n",
       "  <thead>\n",
       "    <tr style=\"text-align: right;\">\n",
       "      <th></th>\n",
       "      <th>Reviews</th>\n",
       "      <th>ReviewsSQRT</th>\n",
       "    </tr>\n",
       "    <tr>\n",
       "      <th>CategoryR</th>\n",
       "      <th></th>\n",
       "      <th></th>\n",
       "    </tr>\n",
       "  </thead>\n",
       "  <tbody>\n",
       "    <tr>\n",
       "      <th>0</th>\n",
       "      <td>7476.226415</td>\n",
       "      <td>48.854024</td>\n",
       "    </tr>\n",
       "    <tr>\n",
       "      <th>1</th>\n",
       "      <td>69947.480315</td>\n",
       "      <td>160.744038</td>\n",
       "    </tr>\n",
       "    <tr>\n",
       "      <th>2</th>\n",
       "      <td>637363.134328</td>\n",
       "      <td>468.328067</td>\n",
       "    </tr>\n",
       "  </tbody>\n",
       "</table>\n",
       "</div>"
      ],
      "text/plain": [
       "                 Reviews  ReviewsSQRT\n",
       "CategoryR                            \n",
       "0            7476.226415    48.854024\n",
       "1           69947.480315   160.744038\n",
       "2          637363.134328   468.328067"
      ]
     },
     "execution_count": 44,
     "metadata": {},
     "output_type": "execute_result"
    }
   ],
   "source": [
    "# The last step is just to examine the means, to determine which apps had the highest and lowest number of reviews.\n",
    "\n",
    "apps4.groupby('CategoryR').mean()\n"
   ]
  },
  {
   "cell_type": "code",
   "execution_count": 45,
   "id": "3c2506bc",
   "metadata": {},
   "outputs": [],
   "source": [
    "# Looking at the reviews column, which has the means, you can say that photography apps had significantly more reviews than both beauty and food and drink apps.\n"
   ]
  },
  {
   "cell_type": "code",
   "execution_count": null,
   "id": "23ea1f69",
   "metadata": {},
   "outputs": [],
   "source": []
  }
 ],
 "metadata": {
  "kernelspec": {
   "display_name": "Python 3.9.9 64-bit",
   "language": "python",
   "name": "python399jvsc74a57bd050292dbb1f747f7151d445135d392af3138fb3c65386d17d9510cb605222b10b"
  },
  "language_info": {
   "codemirror_mode": {
    "name": "ipython",
    "version": 3
   },
   "file_extension": ".py",
   "mimetype": "text/x-python",
   "name": "python",
   "nbconvert_exporter": "python",
   "pygments_lexer": "ipython3",
   "version": "3.9.9"
  }
 },
 "nbformat": 4,
 "nbformat_minor": 5
}
