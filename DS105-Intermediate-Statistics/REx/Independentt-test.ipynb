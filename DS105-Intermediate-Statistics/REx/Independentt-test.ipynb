{
 "cells": [
  {
   "cell_type": "code",
   "execution_count": 1,
   "id": "a0983586",
   "metadata": {},
   "outputs": [],
   "source": [
    "## An independent t-test is used when you have one independent variable that is categorical and a\n",
    "## grouping variable, and one dependent continuous variable. \n",
    "## Use an independent t-test when you want to determine whether the means of two different,\n",
    "## unrelated groups are the same or different. "
   ]
  },
  {
   "cell_type": "markdown",
   "id": "069d4760",
   "metadata": {},
   "source": [
    "## Import Packages"
   ]
  },
  {
   "cell_type": "code",
   "execution_count": 2,
   "id": "775950e8",
   "metadata": {},
   "outputs": [],
   "source": [
    "import pandas as pd\n",
    "import numpy as np\n",
    "from scipy import stats\n",
    "from scipy.stats import ttest_ind\n"
   ]
  },
  {
   "cell_type": "code",
   "execution_count": 4,
   "id": "86eeb7d1",
   "metadata": {},
   "outputs": [],
   "source": [
    "## Import Data\n",
    "\n",
    "# You will continue to use the hybrid cars dataset from before.  \n",
    "# However, this time, you are testing to see whether compact and mid-size hybrid cars differ in \n",
    "# their average miles per gallon.\n",
    "\n",
    "hybrid2013 = pd.read_excel(\"hybrid2013.xlsx\")\n"
   ]
  },
  {
   "cell_type": "code",
   "execution_count": 5,
   "id": "b5a16780",
   "metadata": {},
   "outputs": [
    {
     "data": {
      "text/plain": [
       "<AxesSubplot:>"
      ]
     },
     "execution_count": 5,
     "metadata": {},
     "output_type": "execute_result"
    },
    {
     "data": {
      "image/png": "[encoded data removed]",
      "text/plain": [
       "<Figure size 432x288 with 1 Axes>"
      ]
     },
     "metadata": {
      "needs_background": "light"
     },
     "output_type": "display_data"
    }
   ],
   "source": [
    "## Test Assumptions \n",
    "\n",
    "# The only assumption that independent t has is normality.\n",
    "# You will need to test normality for each of your groups - compact and mid-sized hybrid cars.  \n",
    "\n",
    "\n",
    "hybrid2013.mpg[hybrid2013.carclass == 'C'].hist()\n"
   ]
  },
  {
   "cell_type": "code",
   "execution_count": 6,
   "id": "b983c624",
   "metadata": {},
   "outputs": [],
   "source": [
    "# So the name of the dataset and the name of the variable go first,\n",
    "# but then you need to specify that you only want a histogram for the values that meet the condition\n",
    "# ```C``` for compact cars. \n",
    "\n",
    "# Here is the result: \n",
    "\n",
    "# The x-axis of a bar chart ranges from 30 to 50 in 5 units. \n",
    "# The y-axis axis ranges from 0.00 to 2.00 in 8 units. The highest peak in the bar chart \n",
    "# crosses 8 units on the y-axis.\n"
   ]
  },
  {
   "cell_type": "code",
   "execution_count": 7,
   "id": "3a93d710",
   "metadata": {},
   "outputs": [
    {
     "data": {
      "text/plain": [
       "<AxesSubplot:>"
      ]
     },
     "execution_count": 7,
     "metadata": {},
     "output_type": "execute_result"
    },
    {
     "data": {
      "image/png": "[encoded data removed]",
      "text/plain": [
       "<Figure size 432x288 with 1 Axes>"
      ]
     },
     "metadata": {
      "needs_background": "light"
     },
     "output_type": "display_data"
    }
   ],
   "source": [
    "# Same thing for the mid-size hybrid cars:\n",
    "\n",
    "hybrid2013.mpg[hybrid2013.carclass == 'M'].hist()\n",
    "\n"
   ]
  },
  {
   "cell_type": "code",
   "execution_count": 8,
   "id": "d0f034b5",
   "metadata": {},
   "outputs": [],
   "source": [
    "# Here is the result: \n",
    "\n",
    "# The x-axis of a bar chart ranges from 25 to 50 in 5 units. \n",
    "# The y-axis axis ranges from 0.00 to 4.00 in 8 units. The highest peak in the bar chart \n",
    "# crosses 8 units on the y-axis.\n",
    "\n"
   ]
  },
  {
   "cell_type": "code",
   "execution_count": 9,
   "id": "2cf6640f",
   "metadata": {},
   "outputs": [],
   "source": [
    "# It  looks like neither of these are bell-shaped, and are thus not normal."
   ]
  },
  {
   "cell_type": "code",
   "execution_count": 10,
   "id": "e9776eae",
   "metadata": {},
   "outputs": [],
   "source": [
    "## Run the Analysis\n",
    "\n",
    "# You will use the function ```ttest_ind()``` to run an independent *t* test in Python. \n",
    "# The arguments are two things you want to compare to each other.  If you happen to have those two things \n",
    "# in separate columns, then it would simply look like this mock code: \n",
    "\n",
    "\n",
    "# ttest_ind(data[column1], data[column2])\n"
   ]
  },
  {
   "cell_type": "code",
   "execution_count": 11,
   "id": "25bd946e",
   "metadata": {},
   "outputs": [
    {
     "data": {
      "text/plain": [
       "Ttest_indResult(statistic=1.0751886097093057, pvalue=0.2921671245707979)"
      ]
     },
     "execution_count": 11,
     "metadata": {},
     "output_type": "execute_result"
    }
   ],
   "source": [
    "# But since in this case, your data is all stored in the same ```carclass``` column, \n",
    "# and you want to pull out the data for certain values, the code looks just a bit more complicated:\n",
    "\n",
    "ttest_ind(hybrid2013.mpg[hybrid2013.carclass == 'C'], hybrid2013.mpg[hybrid2013.carclass == 'M'])\n"
   ]
  },
  {
   "cell_type": "code",
   "execution_count": 12,
   "id": "1e83585b",
   "metadata": {},
   "outputs": [],
   "source": [
    "# Looks like there is no significant difference between compact and mid-size hybrid cars in terms of \n",
    "# miles per gallon, since the *p* value is not less than .05. \n",
    "# The *t* value is also pretty small, which is another good indication.\n"
   ]
  },
  {
   "cell_type": "code",
   "execution_count": null,
   "id": "7a5e5929",
   "metadata": {},
   "outputs": [],
   "source": []
  }
 ],
 "metadata": {
  "kernelspec": {
   "display_name": "Python 3.9.9 64-bit",
   "language": "python",
   "name": "python399jvsc74a57bd050292dbb1f747f7151d445135d392af3138fb3c65386d17d9510cb605222b10b"
  },
  "language_info": {
   "codemirror_mode": {
    "name": "ipython",
    "version": 3
   },
   "file_extension": ".py",
   "mimetype": "text/x-python",
   "name": "python",
   "nbconvert_exporter": "python",
   "pygments_lexer": "ipython3",
   "version": "3.9.9"
  }
 },
 "nbformat": 4,
 "nbformat_minor": 5
}
