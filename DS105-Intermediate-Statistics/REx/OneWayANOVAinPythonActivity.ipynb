{
 "cells": [
  {
   "cell_type": "markdown",
   "id": "5b32e41f",
   "metadata": {},
   "source": [
    "## Import packages"
   ]
  },
  {
   "cell_type": "code",
   "execution_count": 2,
   "id": "a337bf47",
   "metadata": {},
   "outputs": [],
   "source": [
    "import pandas as pd\n",
    "import numpy as np\n",
    "import scipy\n",
    "import seaborn as sns\n",
    "from scipy import stats\n",
    "from statsmodels.stats.multicomp import pairwise_tukeyhsd\n",
    "from statsmodels.stats.multicomp import MultiComparison\n"
   ]
  },
  {
   "cell_type": "markdown",
   "id": "dcea09b7",
   "metadata": {},
   "source": [
    "## Load data"
   ]
  },
  {
   "cell_type": "code",
   "execution_count": 5,
   "id": "553f4063",
   "metadata": {},
   "outputs": [
    {
     "data": {
      "text/html": [
       "<div>\n",
       "<style scoped>\n",
       "    .dataframe tbody tr th:only-of-type {\n",
       "        vertical-align: middle;\n",
       "    }\n",
       "\n",
       "    .dataframe tbody tr th {\n",
       "        vertical-align: top;\n",
       "    }\n",
       "\n",
       "    .dataframe thead th {\n",
       "        text-align: right;\n",
       "    }\n",
       "</style>\n",
       "<table border=\"1\" class=\"dataframe\">\n",
       "  <thead>\n",
       "    <tr style=\"text-align: right;\">\n",
       "      <th></th>\n",
       "      <th>Rank</th>\n",
       "      <th>Gr2de</th>\n",
       "      <th>Channel name</th>\n",
       "      <th>Video Uploads</th>\n",
       "      <th>Subscribers</th>\n",
       "      <th>Video views</th>\n",
       "    </tr>\n",
       "  </thead>\n",
       "  <tbody>\n",
       "    <tr>\n",
       "      <th>0</th>\n",
       "      <td>1st</td>\n",
       "      <td>0</td>\n",
       "      <td>Zee TV</td>\n",
       "      <td>82757</td>\n",
       "      <td>18752951</td>\n",
       "      <td>20869786591</td>\n",
       "    </tr>\n",
       "    <tr>\n",
       "      <th>1</th>\n",
       "      <td>2nd</td>\n",
       "      <td>0</td>\n",
       "      <td>T-Series</td>\n",
       "      <td>12661</td>\n",
       "      <td>61196302</td>\n",
       "      <td>47548839843</td>\n",
       "    </tr>\n",
       "    <tr>\n",
       "      <th>2</th>\n",
       "      <td>3rd</td>\n",
       "      <td>0</td>\n",
       "      <td>Cocomelon - Nursery Rhymes</td>\n",
       "      <td>373</td>\n",
       "      <td>19238251</td>\n",
       "      <td>9793305082</td>\n",
       "    </tr>\n",
       "    <tr>\n",
       "      <th>3</th>\n",
       "      <td>4th</td>\n",
       "      <td>0</td>\n",
       "      <td>SET India</td>\n",
       "      <td>27323</td>\n",
       "      <td>31180559</td>\n",
       "      <td>22675948293</td>\n",
       "    </tr>\n",
       "    <tr>\n",
       "      <th>4</th>\n",
       "      <td>5th</td>\n",
       "      <td>0</td>\n",
       "      <td>WWE</td>\n",
       "      <td>36756</td>\n",
       "      <td>32852346</td>\n",
       "      <td>26273668433</td>\n",
       "    </tr>\n",
       "  </tbody>\n",
       "</table>\n",
       "</div>"
      ],
      "text/plain": [
       "  Rank  Gr2de                Channel name Video Uploads Subscribers  \\\n",
       "0  1st      0                      Zee TV         82757    18752951   \n",
       "1  2nd      0                    T-Series         12661    61196302   \n",
       "2  3rd      0  Cocomelon - Nursery Rhymes           373    19238251   \n",
       "3  4th      0                   SET India         27323    31180559   \n",
       "4  5th      0                         WWE         36756    32852346   \n",
       "\n",
       "   Video views  \n",
       "0  20869786591  \n",
       "1  47548839843  \n",
       "2   9793305082  \n",
       "3  22675948293  \n",
       "4  26273668433  "
      ]
     },
     "execution_count": 5,
     "metadata": {},
     "output_type": "execute_result"
    }
   ],
   "source": [
    "YouTube = pd.read_csv(\"YouTubeChannels_Python.csv\")\n",
    "\n",
    "YouTube.head()"
   ]
  },
  {
   "cell_type": "code",
   "execution_count": 17,
   "id": "ce695a63",
   "metadata": {},
   "outputs": [
    {
     "data": {
      "text/plain": [
       "Rank             5000\n",
       "Gr2de            5000\n",
       "Channel name     5000\n",
       "Video Uploads    5000\n",
       "Subscribers      5000\n",
       "Video views      5000\n",
       "dtype: int64"
      ]
     },
     "execution_count": 17,
     "metadata": {},
     "output_type": "execute_result"
    }
   ],
   "source": [
    "YouTube.count()"
   ]
  },
  {
   "cell_type": "markdown",
   "id": "72941f98",
   "metadata": {},
   "source": [
    "## Question setup"
   ]
  },
  {
   "cell_type": "code",
   "execution_count": 3,
   "id": "3a4360a8",
   "metadata": {},
   "outputs": [],
   "source": [
    "# determine if there is a difference in the number of views (Video views differs between all the\n",
    "# different grade categories (Grade)"
   ]
  },
  {
   "cell_type": "markdown",
   "id": "99894521",
   "metadata": {},
   "source": [
    "## Data Wrangling"
   ]
  },
  {
   "cell_type": "markdown",
   "id": "f98803a1",
   "metadata": {},
   "source": [
    "### Subsetting to Only the Variables Needed\n"
   ]
  },
  {
   "cell_type": "code",
   "execution_count": 6,
   "id": "2dc8cc63",
   "metadata": {},
   "outputs": [],
   "source": [
    "# You only want to keep the two variables you'll need in your test: Grade and Video Reviews.\n",
    "\n",
    "YouTube1 = YouTube[['Gr2de','Video views']]"
   ]
  },
  {
   "cell_type": "code",
   "execution_count": 8,
   "id": "d485a630",
   "metadata": {},
   "outputs": [],
   "source": [
    "# Both variable are integers."
   ]
  },
  {
   "cell_type": "markdown",
   "id": "c9cb7455",
   "metadata": {},
   "source": [
    "## Running the assumptions"
   ]
  },
  {
   "cell_type": "code",
   "execution_count": 16,
   "id": "dad6e606",
   "metadata": {},
   "outputs": [],
   "source": [
    "# If the assumptions are not met for ANOVA, but you proceeded anyway, you run the risk of biasing your results."
   ]
  },
  {
   "cell_type": "markdown",
   "id": "b86b0f64",
   "metadata": {},
   "source": [
    "### Normality"
   ]
  },
  {
   "cell_type": "code",
   "execution_count": 9,
   "id": "7b2a8322",
   "metadata": {},
   "outputs": [
    {
     "name": "stderr",
     "output_type": "stream",
     "text": [
      "/opt/homebrew/lib/python3.9/site-packages/seaborn/distributions.py:2619: FutureWarning: `distplot` is a deprecated function and will be removed in a future version. Please adapt your code to use either `displot` (a figure-level function with similar flexibility) or `histplot` (an axes-level function for histograms).\n",
      "  warnings.warn(msg, FutureWarning)\n"
     ]
    },
    {
     "data": {
      "text/plain": [
       "<AxesSubplot:xlabel='Video views', ylabel='Density'>"
      ]
     },
     "execution_count": 9,
     "metadata": {},
     "output_type": "execute_result"
    },
    {
     "data": {
      "image/png": "[encoded data removed]",
      "text/plain": [
       "<Figure size 432x288 with 1 Axes>"
      ]
     },
     "metadata": {
      "needs_background": "light"
     },
     "output_type": "display_data"
    }
   ],
   "source": [
    "# You only need to test for the normality of the dependent variable, since the IV is categorical.\n",
    "\n",
    "sns.distplot(YouTube1['Video views'])"
   ]
  },
  {
   "cell_type": "code",
   "execution_count": 22,
   "id": "80453012",
   "metadata": {},
   "outputs": [],
   "source": [
    "# sns.displot(data = apps4, x = 'Reviews', kde = True)"
   ]
  },
  {
   "cell_type": "code",
   "execution_count": 11,
   "id": "67bf98b7",
   "metadata": {},
   "outputs": [
    {
     "name": "stderr",
     "output_type": "stream",
     "text": [
      "/var/folders/w0/t7zkm9d12h11l_wy7wwcclsm0000gn/T/ipykernel_16242/1650177647.py:4: SettingWithCopyWarning: \n",
      "A value is trying to be set on a copy of a slice from a DataFrame.\n",
      "Try using .loc[row_indexer,col_indexer] = value instead\n",
      "\n",
      "See the caveats in the documentation: https://pandas.pydata.org/pandas-docs/stable/user_guide/indexing.html#returning-a-view-versus-a-copy\n",
      "  YouTube1['Video viewsSQRT'] = np.sqrt(YouTube1['Video views'])\n"
     ]
    }
   ],
   "source": [
    "# Looks like that isn't normal in any way - it is very highly positively skewed. So, you'll need to transform \n",
    "# review by taking the square root or the log.\n",
    "\n",
    "YouTube1['Video viewsSQRT'] = np.sqrt(YouTube1['Video views'])"
   ]
  },
  {
   "cell_type": "code",
   "execution_count": 13,
   "id": "177aad90",
   "metadata": {},
   "outputs": [
    {
     "name": "stderr",
     "output_type": "stream",
     "text": [
      "/opt/homebrew/lib/python3.9/site-packages/seaborn/distributions.py:2619: FutureWarning: `distplot` is a deprecated function and will be removed in a future version. Please adapt your code to use either `displot` (a figure-level function with similar flexibility) or `histplot` (an axes-level function for histograms).\n",
      "  warnings.warn(msg, FutureWarning)\n"
     ]
    },
    {
     "data": {
      "text/plain": [
       "<AxesSubplot:xlabel='Video viewsSQRT', ylabel='Density'>"
      ]
     },
     "execution_count": 13,
     "metadata": {},
     "output_type": "execute_result"
    },
    {
     "data": {
      "image/png": "[encoded data removed]",
      "text/plain": [
       "<Figure size 432x288 with 1 Axes>"
      ]
     },
     "metadata": {
      "needs_background": "light"
     },
     "output_type": "display_data"
    }
   ],
   "source": [
    "# Plotting\n",
    "\n",
    "sns.distplot(YouTube1['Video viewsSQRT'])"
   ]
  },
  {
   "cell_type": "code",
   "execution_count": 18,
   "id": "6e1f9f58",
   "metadata": {},
   "outputs": [],
   "source": [
    "# That looks relatively normal, let's try for log:"
   ]
  },
  {
   "cell_type": "code",
   "execution_count": 19,
   "id": "c97b2e99",
   "metadata": {},
   "outputs": [
    {
     "name": "stderr",
     "output_type": "stream",
     "text": [
      "/var/folders/w0/t7zkm9d12h11l_wy7wwcclsm0000gn/T/ipykernel_16242/2740910117.py:1: SettingWithCopyWarning: \n",
      "A value is trying to be set on a copy of a slice from a DataFrame.\n",
      "Try using .loc[row_indexer,col_indexer] = value instead\n",
      "\n",
      "See the caveats in the documentation: https://pandas.pydata.org/pandas-docs/stable/user_guide/indexing.html#returning-a-view-versus-a-copy\n",
      "  YouTube1['Video viewsLOG'] = np.log(YouTube1['Video views'])\n"
     ]
    }
   ],
   "source": [
    "YouTube1['Video viewsLOG'] = np.log(YouTube1['Video views'])"
   ]
  },
  {
   "cell_type": "code",
   "execution_count": 20,
   "id": "73c6aeb6",
   "metadata": {},
   "outputs": [
    {
     "name": "stderr",
     "output_type": "stream",
     "text": [
      "/opt/homebrew/lib/python3.9/site-packages/seaborn/distributions.py:2619: FutureWarning: `distplot` is a deprecated function and will be removed in a future version. Please adapt your code to use either `displot` (a figure-level function with similar flexibility) or `histplot` (an axes-level function for histograms).\n",
      "  warnings.warn(msg, FutureWarning)\n"
     ]
    },
    {
     "data": {
      "text/plain": [
       "<AxesSubplot:xlabel='Video viewsLOG', ylabel='Density'>"
      ]
     },
     "execution_count": 20,
     "metadata": {},
     "output_type": "execute_result"
    },
    {
     "data": {
      "image/png": "[encoded data removed]",
      "text/plain": [
       "<Figure size 432x288 with 1 Axes>"
      ]
     },
     "metadata": {
      "needs_background": "light"
     },
     "output_type": "display_data"
    }
   ],
   "source": [
    "# Plotting\n",
    "\n",
    "sns.distplot(YouTube1['Video viewsLOG'])"
   ]
  },
  {
   "cell_type": "code",
   "execution_count": 21,
   "id": "62d83606",
   "metadata": {},
   "outputs": [],
   "source": [
    "# Let's keep the log, it looks more normal"
   ]
  },
  {
   "cell_type": "markdown",
   "id": "25fd9e5f",
   "metadata": {},
   "source": [
    "## Homogeneity of Variance"
   ]
  },
  {
   "cell_type": "code",
   "execution_count": 27,
   "id": "b4d7932b",
   "metadata": {},
   "outputs": [],
   "source": [
    "# Just like in R, you can test for homogeneity of variance easily using either Bartlett's test or Fligner's Test. Bartlett's test is for when your data is normally distributed, and Fligner's test is for when your data is non-parametric. No matter which test you are using, you are looking for a non-significant test. The null hypothesis for both of these is that the data has equal variance, so you'd like to have a p value of > .05. Since you have corrected your data, you can use Bartlett's test, but just for learning purposes, you'll try both here."
   ]
  },
  {
   "cell_type": "markdown",
   "id": "14a75062",
   "metadata": {},
   "source": [
    "### Bartlett's Test\n"
   ]
  },
  {
   "cell_type": "code",
   "execution_count": 22,
   "id": "80dca79a",
   "metadata": {},
   "outputs": [
    {
     "data": {
      "text/plain": [
       "BartlettResult(statistic=4642.606911455518, pvalue=0.0)"
      ]
     },
     "execution_count": 22,
     "metadata": {},
     "output_type": "execute_result"
    }
   ],
   "source": [
    "# To do Bartlett's test, use the function scipy.stats.bartlett(), with the argument of the y data,\n",
    "# followed by the x data.\n",
    "\n",
    "scipy.stats.bartlett(YouTube1['Video viewsLOG'], YouTube1['Gr2de'])\n"
   ]
  },
  {
   "cell_type": "code",
   "execution_count": 29,
   "id": "f9ac2a21",
   "metadata": {},
   "outputs": [],
   "source": [
    "# The p value associated with this test is < .05, which means that unfortunately, you have violated the assumption\n",
    "# of homogeneity of variance."
   ]
  },
  {
   "cell_type": "markdown",
   "id": "7e49dd5b",
   "metadata": {},
   "source": [
    "### Fligner's Test\n"
   ]
  },
  {
   "cell_type": "code",
   "execution_count": 23,
   "id": "0def7378",
   "metadata": {},
   "outputs": [
    {
     "data": {
      "text/plain": [
       "FlignerResult(statistic=2200.0468371244633, pvalue=0.0)"
      ]
     },
     "execution_count": 23,
     "metadata": {},
     "output_type": "execute_result"
    }
   ],
   "source": [
    "# To perform Fligner's test, use the function scipy.stats.fligner(), with the argument of the y data, followed by the x data.\n",
    "\n",
    "scipy.stats.fligner(YouTube1['Video viewsLOG'], YouTube1['Gr2de'])"
   ]
  },
  {
   "cell_type": "code",
   "execution_count": 31,
   "id": "21ca7e74",
   "metadata": {},
   "outputs": [],
   "source": [
    "# The p value is still < .05, which means you have violated the assumption of homogeneity of variance."
   ]
  },
  {
   "cell_type": "markdown",
   "id": "54e8f394",
   "metadata": {},
   "source": [
    "### Correcting for Violations of Homogeneity of Variance\n"
   ]
  },
  {
   "cell_type": "code",
   "execution_count": 32,
   "id": "404cf827",
   "metadata": {},
   "outputs": [],
   "source": [
    "# As you know, there are many different ways to correct for this violation in the general field of statistics. \n",
    "# However, Python does not support any of them! Which means that you can run the ANOVA, but there is a good \n",
    "# chance it will be inaccurate. If you do choose to proceed with the analysis in Python, ensure that all\n",
    "# parties consuming your results understand that there could be inaccuracies with the data analysis!\n",
    "\n",
    "# It is recommended, however, that if you violate the assumption of homogeneity of variance that you switch over\n",
    "# to R, and proceed from there. You are becoming a guru in both languages for a reason!"
   ]
  },
  {
   "cell_type": "markdown",
   "id": "ab6d7ac5",
   "metadata": {},
   "source": [
    "### Sample Size"
   ]
  },
  {
   "cell_type": "code",
   "execution_count": 33,
   "id": "17ba3873",
   "metadata": {},
   "outputs": [],
   "source": [
    "# An ANOVA requires a sample size of at least 20 per independent variable. In this case, you only have one \n",
    "# independent variable, so as long as you have at least 20 cases, you are fine. Looking at the data, the n is 5000, \n",
    "# so you are fine to proceed with this assumption!"
   ]
  },
  {
   "cell_type": "markdown",
   "id": "d295d01f",
   "metadata": {},
   "source": [
    "### Independence"
   ]
  },
  {
   "cell_type": "code",
   "execution_count": 35,
   "id": "6351be07",
   "metadata": {},
   "outputs": [],
   "source": [
    "### There is no statistical test for the assumption of independence, so you can proceed!\n",
    "\n"
   ]
  },
  {
   "cell_type": "markdown",
   "id": "4fc691ca",
   "metadata": {},
   "source": [
    "## Computing ANOVAs with Equal Variance (Met Homogeneity of Variance Assumption)\n"
   ]
  },
  {
   "cell_type": "code",
   "execution_count": 36,
   "id": "8f5adfb1",
   "metadata": {},
   "outputs": [],
   "source": [
    "# In this case, your data did not meet this assumption, but for the purposes of learning, you'll be \n",
    "# shown what to do if you had.\n",
    "\n",
    "# Below is the code to run a one-way ANOVA in Python. It uses the function stats.f_oneway() and the arguments\n",
    "# are the three categories, crossed with your dependent variable. So here your DV is listed out, followed by the \n",
    "# first level of your IV. Each level is separated by a comma:"
   ]
  },
  {
   "cell_type": "code",
   "execution_count": 25,
   "id": "faf8e39d",
   "metadata": {},
   "outputs": [
    {
     "name": "stderr",
     "output_type": "stream",
     "text": [
      "/var/folders/w0/t7zkm9d12h11l_wy7wwcclsm0000gn/T/ipykernel_16242/1690347832.py:1: SettingWithCopyWarning: \n",
      "A value is trying to be set on a copy of a slice from a DataFrame\n",
      "\n",
      "See the caveats in the documentation: https://pandas.pydata.org/pandas-docs/stable/user_guide/indexing.html#returning-a-view-versus-a-copy\n",
      "  YouTube1.dropna(inplace=True)\n"
     ]
    }
   ],
   "source": [
    "YouTube1.dropna(inplace=True)"
   ]
  },
  {
   "cell_type": "code",
   "execution_count": 26,
   "id": "40146a53",
   "metadata": {},
   "outputs": [
    {
     "name": "stderr",
     "output_type": "stream",
     "text": [
      "/var/folders/w0/t7zkm9d12h11l_wy7wwcclsm0000gn/T/ipykernel_16242/2462602987.py:13: SettingWithCopyWarning: \n",
      "A value is trying to be set on a copy of a slice from a DataFrame.\n",
      "Try using .loc[row_indexer,col_indexer] = value instead\n",
      "\n",
      "See the caveats in the documentation: https://pandas.pydata.org/pandas-docs/stable/user_guide/indexing.html#returning-a-view-versus-a-copy\n",
      "  YouTube1['GradeR'] = YouTube1['Gr2de'].apply(Grade)\n"
     ]
    }
   ],
   "source": [
    "# Change Grade to a Letter for Running the ANOVA\n",
    "\n",
    "def Grade (val_grade): \n",
    "    if val_grade == 0: \n",
    "        return \"A plus plus\"\n",
    "    if val_grade == 1: \n",
    "        return \"A plus\"\n",
    "    if val_grade == 2: \n",
    "        return \"A\"\n",
    "    if val_grade == 3:\n",
    "        return \"B plus\"\n",
    "\n",
    "YouTube1['GradeR'] = YouTube1['Gr2de'].apply(Grade)"
   ]
  },
  {
   "cell_type": "code",
   "execution_count": 27,
   "id": "f21cf4b1",
   "metadata": {},
   "outputs": [
    {
     "data": {
      "text/plain": [
       "F_onewayResult(statistic=283.85148674568444, pvalue=3.895240835935201e-170)"
      ]
     },
     "execution_count": 27,
     "metadata": {},
     "output_type": "execute_result"
    }
   ],
   "source": [
    "stats.f_oneway(YouTube1['Video viewsLOG'][YouTube1['GradeR']=='A plus plus'],\n",
    "                   YouTube1['Video viewsLOG'][YouTube1['GradeR']=='A plus'],\n",
    "               YouTube1['Video viewsLOG'][YouTube1['GradeR']=='A'],\n",
    "               YouTube1['Video viewsLOG'][YouTube1['GradeR']=='B plus'])\n"
   ]
  },
  {
   "cell_type": "code",
   "execution_count": 38,
   "id": "2c9ff6ef",
   "metadata": {},
   "outputs": [],
   "source": [
    "# Since the p value is less than .05, there is a significant difference in Views between thegrades\n",
    "\n"
   ]
  },
  {
   "cell_type": "markdown",
   "id": "581eced2",
   "metadata": {},
   "source": [
    "## Computing ANOVAs with Unequal Variance (Violated Homogeneity of Variance Assumption)"
   ]
  },
  {
   "cell_type": "code",
   "execution_count": 39,
   "id": "a6274d9d",
   "metadata": {},
   "outputs": [],
   "source": [
    "# There is NO WAY to compute ANOVAs with unequal variance in Python! Either switch over to R or be \n",
    "# VERY CAUTIOUS when interpreting your results and don't use for anything high stakes!\n",
    "\n"
   ]
  },
  {
   "cell_type": "markdown",
   "id": "944a8326",
   "metadata": {},
   "source": [
    "## Post Hocs"
   ]
  },
  {
   "cell_type": "code",
   "execution_count": 40,
   "id": "ce1b8fe8",
   "metadata": {},
   "outputs": [],
   "source": [
    "# It's important to run post-hocs to figure out what groups significantly differed from each other.\n",
    "# In Python, the only automatically coding for post-hocs that is available is the Tukey post hoc, \n",
    "# so that is what you will learn.\n",
    "\n"
   ]
  },
  {
   "cell_type": "markdown",
   "id": "a75fc82b",
   "metadata": {},
   "source": [
    "### Computing Post Hocs with Tukey's\n"
   ]
  },
  {
   "cell_type": "code",
   "execution_count": 29,
   "id": "650bdd6c",
   "metadata": {},
   "outputs": [
    {
     "name": "stdout",
     "output_type": "stream",
     "text": [
      "Multiple Comparison of Means - Tukey HSD, FWER=0.05 \n",
      "====================================================\n",
      "group1 group2 meandiff p-adj   lower   upper  reject\n",
      "----------------------------------------------------\n",
      "     0      1  -1.5233 0.0085   -2.76 -0.2865   True\n",
      "     0      2   -3.103    0.0 -4.2146 -1.9913   True\n",
      "     0      3  -4.1291   -0.0 -5.2399 -3.0184   True\n",
      "     1      2  -1.5797   -0.0  -2.133 -1.0264   True\n",
      "     1      3  -2.6059   -0.0 -3.1573 -2.0544   True\n",
      "     2      3  -1.0262   -0.0 -1.1278 -0.9245   True\n",
      "----------------------------------------------------\n"
     ]
    }
   ],
   "source": [
    "# Here is the code for computing a Tukey's post hoc in Python:\n",
    "\n",
    "postHoc = MultiComparison(YouTube1['Video viewsLOG'], YouTube1['Gr2de'])\n",
    "postHocResults = postHoc.tukeyhsd()\n",
    "print(postHocResults)"
   ]
  },
  {
   "cell_type": "code",
   "execution_count": 42,
   "id": "00fbadd3",
   "metadata": {},
   "outputs": [],
   "source": [
    " # If the value in the reject column is True, then this means there was a significant difference in the means\n",
    "    # between those groups. So, there is a significant difference between the number of views for different grades.\n",
    "    # What is that difference? Well, you will have to examine\n",
    "# the means.\n",
    "\n"
   ]
  },
  {
   "cell_type": "markdown",
   "id": "49b9ca1b",
   "metadata": {},
   "source": [
    "### Computing Post Hocs When You've Violated the Assumption of Homogeneity of Variance"
   ]
  },
  {
   "cell_type": "code",
   "execution_count": 43,
   "id": "5aed336e",
   "metadata": {},
   "outputs": [],
   "source": [
    "# There is NO WAY to compute post hocs with unequal variance in Python! Either switch over to R or be VERY CAUTIOUS when interpreting your results and don't use for anything high stakes!\n",
    "\n"
   ]
  },
  {
   "cell_type": "markdown",
   "id": "9de49fd2",
   "metadata": {},
   "source": [
    "## Determine Means and Draw Conclusions\n"
   ]
  },
  {
   "cell_type": "code",
   "execution_count": 35,
   "id": "d82ef65e",
   "metadata": {},
   "outputs": [
    {
     "data": {
      "text/html": [
       "<div>\n",
       "<style scoped>\n",
       "    .dataframe tbody tr th:only-of-type {\n",
       "        vertical-align: middle;\n",
       "    }\n",
       "\n",
       "    .dataframe tbody tr th {\n",
       "        vertical-align: top;\n",
       "    }\n",
       "\n",
       "    .dataframe thead th {\n",
       "        text-align: right;\n",
       "    }\n",
       "</style>\n",
       "<table border=\"1\" class=\"dataframe\">\n",
       "  <thead>\n",
       "    <tr style=\"text-align: right;\">\n",
       "      <th></th>\n",
       "      <th>Video views</th>\n",
       "      <th>Video viewsSQRT</th>\n",
       "      <th>Video viewsLOG</th>\n",
       "    </tr>\n",
       "    <tr>\n",
       "      <th>Gr2de</th>\n",
       "      <th></th>\n",
       "      <th></th>\n",
       "      <th></th>\n",
       "    </tr>\n",
       "  </thead>\n",
       "  <tbody>\n",
       "    <tr>\n",
       "      <th>0</th>\n",
       "      <td>2.119909e+10</td>\n",
       "      <td>139631.341341</td>\n",
       "      <td>23.578544</td>\n",
       "    </tr>\n",
       "    <tr>\n",
       "      <th>1</th>\n",
       "      <td>6.053121e+09</td>\n",
       "      <td>70951.341638</td>\n",
       "      <td>22.055279</td>\n",
       "    </tr>\n",
       "    <tr>\n",
       "      <th>2</th>\n",
       "      <td>1.676207e+09</td>\n",
       "      <td>34678.089608</td>\n",
       "      <td>20.475580</td>\n",
       "    </tr>\n",
       "    <tr>\n",
       "      <th>3</th>\n",
       "      <td>5.265217e+08</td>\n",
       "      <td>19943.101566</td>\n",
       "      <td>19.449400</td>\n",
       "    </tr>\n",
       "  </tbody>\n",
       "</table>\n",
       "</div>"
      ],
      "text/plain": [
       "        Video views  Video viewsSQRT  Video viewsLOG\n",
       "Gr2de                                               \n",
       "0      2.119909e+10    139631.341341       23.578544\n",
       "1      6.053121e+09     70951.341638       22.055279\n",
       "2      1.676207e+09     34678.089608       20.475580\n",
       "3      5.265217e+08     19943.101566       19.449400"
      ]
     },
     "execution_count": 35,
     "metadata": {},
     "output_type": "execute_result"
    }
   ],
   "source": [
    "# The last step is just to examine the means, to determine which apps had the highest and lowest number of reviews.\n",
    "\n",
    "YouTube1.groupby('Gr2de').mean()\n"
   ]
  },
  {
   "cell_type": "code",
   "execution_count": 33,
   "id": "3c2506bc",
   "metadata": {},
   "outputs": [
    {
     "data": {
      "text/html": [
       "<div>\n",
       "<style scoped>\n",
       "    .dataframe tbody tr th:only-of-type {\n",
       "        vertical-align: middle;\n",
       "    }\n",
       "\n",
       "    .dataframe tbody tr th {\n",
       "        vertical-align: top;\n",
       "    }\n",
       "\n",
       "    .dataframe thead th {\n",
       "        text-align: right;\n",
       "    }\n",
       "</style>\n",
       "<table border=\"1\" class=\"dataframe\">\n",
       "  <thead>\n",
       "    <tr style=\"text-align: right;\">\n",
       "      <th></th>\n",
       "      <th>Gr2de</th>\n",
       "      <th>Video views</th>\n",
       "      <th>Video viewsLOG</th>\n",
       "      <th>GradeR</th>\n",
       "    </tr>\n",
       "  </thead>\n",
       "  <tbody>\n",
       "    <tr>\n",
       "      <th>0</th>\n",
       "      <td>0</td>\n",
       "      <td>20869786591</td>\n",
       "      <td>23.761568</td>\n",
       "      <td>A plus plus</td>\n",
       "    </tr>\n",
       "    <tr>\n",
       "      <th>1</th>\n",
       "      <td>0</td>\n",
       "      <td>47548839843</td>\n",
       "      <td>24.585023</td>\n",
       "      <td>A plus plus</td>\n",
       "    </tr>\n",
       "    <tr>\n",
       "      <th>2</th>\n",
       "      <td>0</td>\n",
       "      <td>9793305082</td>\n",
       "      <td>23.004965</td>\n",
       "      <td>A plus plus</td>\n",
       "    </tr>\n",
       "    <tr>\n",
       "      <th>3</th>\n",
       "      <td>0</td>\n",
       "      <td>22675948293</td>\n",
       "      <td>23.844571</td>\n",
       "      <td>A plus plus</td>\n",
       "    </tr>\n",
       "    <tr>\n",
       "      <th>4</th>\n",
       "      <td>0</td>\n",
       "      <td>26273668433</td>\n",
       "      <td>23.991833</td>\n",
       "      <td>A plus plus</td>\n",
       "    </tr>\n",
       "    <tr>\n",
       "      <th>...</th>\n",
       "      <td>...</td>\n",
       "      <td>...</td>\n",
       "      <td>...</td>\n",
       "      <td>...</td>\n",
       "    </tr>\n",
       "    <tr>\n",
       "      <th>4995</th>\n",
       "      <td>3</td>\n",
       "      <td>441202795</td>\n",
       "      <td>19.905015</td>\n",
       "      <td>B plus</td>\n",
       "    </tr>\n",
       "    <tr>\n",
       "      <th>4996</th>\n",
       "      <td>3</td>\n",
       "      <td>377331722</td>\n",
       "      <td>19.748635</td>\n",
       "      <td>B plus</td>\n",
       "    </tr>\n",
       "    <tr>\n",
       "      <th>4997</th>\n",
       "      <td>3</td>\n",
       "      <td>311758426</td>\n",
       "      <td>19.557739</td>\n",
       "      <td>B plus</td>\n",
       "    </tr>\n",
       "    <tr>\n",
       "      <th>4998</th>\n",
       "      <td>3</td>\n",
       "      <td>14563764</td>\n",
       "      <td>16.494047</td>\n",
       "      <td>B plus</td>\n",
       "    </tr>\n",
       "    <tr>\n",
       "      <th>4999</th>\n",
       "      <td>3</td>\n",
       "      <td>73312511</td>\n",
       "      <td>18.110242</td>\n",
       "      <td>B plus</td>\n",
       "    </tr>\n",
       "  </tbody>\n",
       "</table>\n",
       "<p>5000 rows × 4 columns</p>\n",
       "</div>"
      ],
      "text/plain": [
       "      Gr2de  Video views  Video viewsLOG       GradeR\n",
       "0         0  20869786591       23.761568  A plus plus\n",
       "1         0  47548839843       24.585023  A plus plus\n",
       "2         0   9793305082       23.004965  A plus plus\n",
       "3         0  22675948293       23.844571  A plus plus\n",
       "4         0  26273668433       23.991833  A plus plus\n",
       "...     ...          ...             ...          ...\n",
       "4995      3    441202795       19.905015       B plus\n",
       "4996      3    377331722       19.748635       B plus\n",
       "4997      3    311758426       19.557739       B plus\n",
       "4998      3     14563764       16.494047       B plus\n",
       "4999      3     73312511       18.110242       B plus\n",
       "\n",
       "[5000 rows x 4 columns]"
      ]
     },
     "execution_count": 33,
     "metadata": {},
     "output_type": "execute_result"
    }
   ],
   "source": [
    "YouTube1.drop('Video viewsSQRT', axis = 1)"
   ]
  },
  {
   "cell_type": "code",
   "execution_count": null,
   "id": "23ea1f69",
   "metadata": {},
   "outputs": [],
   "source": [
    "## ## All grades of YouTube videos significantly differed from each other, with the higher ratings seeming to get the most reviews."
   ]
  }
 ],
 "metadata": {
  "kernelspec": {
   "display_name": "Python 3.9.9 64-bit",
   "language": "python",
   "name": "python399jvsc74a57bd050292dbb1f747f7151d445135d392af3138fb3c65386d17d9510cb605222b10b"
  },
  "language_info": {
   "codemirror_mode": {
    "name": "ipython",
    "version": 3
   },
   "file_extension": ".py",
   "mimetype": "text/x-python",
   "name": "python",
   "nbconvert_exporter": "python",
   "pygments_lexer": "ipython3",
   "version": "3.9.9"
  }
 },
 "nbformat": 4,
 "nbformat_minor": 5
}
