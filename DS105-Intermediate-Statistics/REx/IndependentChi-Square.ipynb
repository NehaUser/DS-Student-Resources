{
 "cells": [
  {
   "cell_type": "markdown",
   "id": "73cacc23",
   "metadata": {},
   "source": [
    "# We will test to see if the price of the product depends on whether it is a lip stick or a lip gloss usiong Independent Chi-Square"
   ]
  },
  {
   "cell_type": "markdown",
   "id": "f05fb5e9",
   "metadata": {},
   "source": [
    "## Load Packages"
   ]
  },
  {
   "cell_type": "code",
   "execution_count": 1,
   "id": "520b82d0",
   "metadata": {},
   "outputs": [],
   "source": [
    "import pandas as pd\n",
    "from scipy import stats"
   ]
  },
  {
   "cell_type": "markdown",
   "id": "3ef62105",
   "metadata": {},
   "source": [
    "## Load data"
   ]
  },
  {
   "cell_type": "code",
   "execution_count": 3,
   "id": "9790e98d",
   "metadata": {},
   "outputs": [],
   "source": [
    "lipstick = pd.read_csv(\"lead_lipstick.csv\")"
   ]
  },
  {
   "cell_type": "code",
   "execution_count": 4,
   "id": "a221cb75",
   "metadata": {},
   "outputs": [
    {
     "data": {
      "text/html": [
       "<div>\n",
       "<style scoped>\n",
       "    .dataframe tbody tr th:only-of-type {\n",
       "        vertical-align: middle;\n",
       "    }\n",
       "\n",
       "    .dataframe tbody tr th {\n",
       "        vertical-align: top;\n",
       "    }\n",
       "\n",
       "    .dataframe thead th {\n",
       "        text-align: right;\n",
       "    }\n",
       "</style>\n",
       "<table border=\"1\" class=\"dataframe\">\n",
       "  <thead>\n",
       "    <tr style=\"text-align: right;\">\n",
       "      <th></th>\n",
       "      <th>JRC_code</th>\n",
       "      <th>purchCntry</th>\n",
       "      <th>prodCntry</th>\n",
       "      <th>Pb</th>\n",
       "      <th>sdPb</th>\n",
       "      <th>shade</th>\n",
       "      <th>prodType</th>\n",
       "      <th>priceCatgry</th>\n",
       "    </tr>\n",
       "  </thead>\n",
       "  <tbody>\n",
       "    <tr>\n",
       "      <th>0</th>\n",
       "      <td>C135</td>\n",
       "      <td>NL</td>\n",
       "      <td>NL</td>\n",
       "      <td>3.75</td>\n",
       "      <td>0.24</td>\n",
       "      <td>Red</td>\n",
       "      <td>LP</td>\n",
       "      <td>2</td>\n",
       "    </tr>\n",
       "    <tr>\n",
       "      <th>1</th>\n",
       "      <td>C18</td>\n",
       "      <td>FI</td>\n",
       "      <td>FI</td>\n",
       "      <td>2.29</td>\n",
       "      <td>0.07</td>\n",
       "      <td>Red</td>\n",
       "      <td>LP</td>\n",
       "      <td>2</td>\n",
       "    </tr>\n",
       "    <tr>\n",
       "      <th>2</th>\n",
       "      <td>C20</td>\n",
       "      <td>FI</td>\n",
       "      <td>IT</td>\n",
       "      <td>1.27</td>\n",
       "      <td>0.06</td>\n",
       "      <td>Red</td>\n",
       "      <td>LP</td>\n",
       "      <td>2</td>\n",
       "    </tr>\n",
       "    <tr>\n",
       "      <th>3</th>\n",
       "      <td>C164</td>\n",
       "      <td>DE</td>\n",
       "      <td>FR</td>\n",
       "      <td>1.21</td>\n",
       "      <td>0.06</td>\n",
       "      <td>Red</td>\n",
       "      <td>LP</td>\n",
       "      <td>2</td>\n",
       "    </tr>\n",
       "    <tr>\n",
       "      <th>4</th>\n",
       "      <td>C71</td>\n",
       "      <td>MT</td>\n",
       "      <td>UK</td>\n",
       "      <td>0.85</td>\n",
       "      <td>0.04</td>\n",
       "      <td>Red</td>\n",
       "      <td>LP</td>\n",
       "      <td>2</td>\n",
       "    </tr>\n",
       "  </tbody>\n",
       "</table>\n",
       "</div>"
      ],
      "text/plain": [
       "  JRC_code purchCntry prodCntry    Pb  sdPb shade prodType  priceCatgry\n",
       "0     C135         NL        NL  3.75  0.24   Red       LP            2\n",
       "1      C18         FI        FI  2.29  0.07   Red       LP            2\n",
       "2      C20         FI        IT  1.27  0.06   Red       LP            2\n",
       "3     C164         DE        FR  1.21  0.06   Red       LP            2\n",
       "4      C71         MT        UK  0.85  0.04   Red       LP            2"
      ]
     },
     "execution_count": 4,
     "metadata": {},
     "output_type": "execute_result"
    }
   ],
   "source": [
    "lipstick.head()"
   ]
  },
  {
   "cell_type": "code",
   "execution_count": 5,
   "id": "2e3fbd3f",
   "metadata": {},
   "outputs": [],
   "source": [
    "# The first is product type, prodType and it has two levels: \n",
    "# LP is lipstick, and LG is lip gloss. \n",
    "# The second is price category, priceCatgry, and it has three levels:\n",
    "\n",
    "# 1: < 5 euros\n",
    "# 2: 5-15 euros\n",
    "# 3: > 15 euros"
   ]
  },
  {
   "cell_type": "markdown",
   "id": "0b25dfa2",
   "metadata": {},
   "source": [
    "## Test Assumptions and Run the Analysis"
   ]
  },
  {
   "cell_type": "code",
   "execution_count": 7,
   "id": "ccee218e",
   "metadata": {},
   "outputs": [],
   "source": [
    "# There is only one assumption for Chi-Square, and it is that when you are looking at the contingency tables,\n",
    "# the expected frequencies for each cell need to have at least 5 entries per cell.\n",
    "# In Python, the only way to easily generate an expected frequencies table is actually to run the analysis. \n",
    "# So, you will conduct your independent Chi-Square first, and then make sure it meets this assumption!"
   ]
  },
  {
   "cell_type": "markdown",
   "id": "30d754b9",
   "metadata": {},
   "source": [
    "## Create a Contingency Table"
   ]
  },
  {
   "cell_type": "code",
   "execution_count": 9,
   "id": "2eca4aed",
   "metadata": {},
   "outputs": [
    {
     "data": {
      "text/html": [
       "<div>\n",
       "<style scoped>\n",
       "    .dataframe tbody tr th:only-of-type {\n",
       "        vertical-align: middle;\n",
       "    }\n",
       "\n",
       "    .dataframe tbody tr th {\n",
       "        vertical-align: top;\n",
       "    }\n",
       "\n",
       "    .dataframe thead th {\n",
       "        text-align: right;\n",
       "    }\n",
       "</style>\n",
       "<table border=\"1\" class=\"dataframe\">\n",
       "  <thead>\n",
       "    <tr style=\"text-align: right;\">\n",
       "      <th>priceCatgry</th>\n",
       "      <th>1</th>\n",
       "      <th>2</th>\n",
       "      <th>3</th>\n",
       "    </tr>\n",
       "    <tr>\n",
       "      <th>prodType</th>\n",
       "      <th></th>\n",
       "      <th></th>\n",
       "      <th></th>\n",
       "    </tr>\n",
       "  </thead>\n",
       "  <tbody>\n",
       "    <tr>\n",
       "      <th>LG</th>\n",
       "      <td>19</td>\n",
       "      <td>43</td>\n",
       "      <td>12</td>\n",
       "    </tr>\n",
       "    <tr>\n",
       "      <th>LP</th>\n",
       "      <td>34</td>\n",
       "      <td>92</td>\n",
       "      <td>23</td>\n",
       "    </tr>\n",
       "  </tbody>\n",
       "</table>\n",
       "</div>"
      ],
      "text/plain": [
       "priceCatgry   1   2   3\n",
       "prodType               \n",
       "LG           19  43  12\n",
       "LP           34  92  23"
      ]
     },
     "execution_count": 9,
     "metadata": {},
     "output_type": "execute_result"
    }
   ],
   "source": [
    "# The first thing that needs to be done, before you can run the independent Chi-Square analysis,\n",
    "# is to create a contingency table, sometimes called a crosstab, which shows how each level of \n",
    "# each variable crosses with the other variable levels. pandas saves the day with an easy to use function\n",
    "# called crosstab():\n",
    "\n",
    "lipstick_crosstab = pd.crosstab(lipstick['prodType'], lipstick['priceCatgry'])\n",
    "lipstick_crosstab"
   ]
  },
  {
   "cell_type": "code",
   "execution_count": 10,
   "id": "66c57973",
   "metadata": {},
   "outputs": [],
   "source": [
    "# The arguments for this function is the columns in your data frame you want to use to create the crosstab.\n",
    "\n",
    "# The three price categories are on the top, and the two different product types are along the side.\n",
    "# What is shown in the cells are how many products fit in both categories.\n",
    "# For instance, there are 19 lip glosses less than 5 euros."
   ]
  },
  {
   "cell_type": "markdown",
   "id": "b95e9da9",
   "metadata": {},
   "source": [
    "## Running the Independent Chi-Square"
   ]
  },
  {
   "cell_type": "code",
   "execution_count": 11,
   "id": "2021e622",
   "metadata": {},
   "outputs": [
    {
     "data": {
      "text/plain": [
       "(0.2969891724608704,\n",
       " 0.8620046738525345,\n",
       " 2,\n",
       " array([[17.58744395, 44.79820628, 11.61434978],\n",
       "        [35.41255605, 90.20179372, 23.38565022]]))"
      ]
     },
     "execution_count": 11,
     "metadata": {},
     "output_type": "execute_result"
    }
   ],
   "source": [
    "# Once you have the contingency table, then you can run the function stats.chi2_contingency on the contingency\n",
    "# table you have created:\n",
    "\n",
    "stats.chi2_contingency(lipstick_crosstab)"
   ]
  },
  {
   "cell_type": "code",
   "execution_count": 12,
   "id": "bff8d88f",
   "metadata": {},
   "outputs": [],
   "source": [
    "# The first value is your Chi-Square statistic.\n",
    "# The second value is your p value associated with that Chi-Square statistic. \n",
    "# Looking at this, it looks like there is not a significant relationship between product type and product price. \n",
    "# Neither lipstick nor lip gloss is pricier or cheaper than the other."
   ]
  },
  {
   "cell_type": "markdown",
   "id": "9d95c1c4",
   "metadata": {},
   "source": [
    "## Test the Assumption of 5 Cases per Expected Cell"
   ]
  },
  {
   "cell_type": "code",
   "execution_count": 13,
   "id": "183adf95",
   "metadata": {},
   "outputs": [],
   "source": [
    "# The last piece of the output, labeled array, is your expected count contingency table.\n",
    "# The expected count is what you would expect to happen if there was no relationship between the two variables.\n",
    "# Since all of these values are over 5, this means that the assumption has been met, \n",
    "# and you are free to present and discuss these results without any limitations!"
   ]
  },
  {
   "cell_type": "code",
   "execution_count": null,
   "id": "b28c6a8b",
   "metadata": {},
   "outputs": [],
   "source": []
  }
 ],
 "metadata": {
  "kernelspec": {
   "display_name": "Python 3.9.9 64-bit",
   "language": "python",
   "name": "python399jvsc74a57bd050292dbb1f747f7151d445135d392af3138fb3c65386d17d9510cb605222b10b"
  },
  "language_info": {
   "codemirror_mode": {
    "name": "ipython",
    "version": 3
   },
   "file_extension": ".py",
   "mimetype": "text/x-python",
   "name": "python",
   "nbconvert_exporter": "python",
   "pygments_lexer": "ipython3",
   "version": "3.9.9"
  }
 },
 "nbformat": 4,
 "nbformat_minor": 5
}
